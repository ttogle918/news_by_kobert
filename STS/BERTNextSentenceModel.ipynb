{
  "nbformat": 4,
  "nbformat_minor": 0,
  "metadata": {
    "colab": {
      "name": "데이터_라벨링_증식.ipynb",
      "provenance": [],
      "collapsed_sections": [
        "RYnZN7OwSROj"
      ],
      "machine_shape": "hm",
      "authorship_tag": "ABX9TyMiwtmu00CBoglYbDN/DWw3",
      "include_colab_link": true
    },
    "kernelspec": {
      "name": "python3",
      "display_name": "Python 3"
    },
    "language_info": {
      "name": "python"
    },
    "accelerator": "GPU",
    "widgets": {
      "application/vnd.jupyter.widget-state+json": {
        "1db3eabb0c6446888b7bbee6c3ce472f": {
          "model_module": "@jupyter-widgets/controls",
          "model_name": "HBoxModel",
          "model_module_version": "1.5.0",
          "state": {
            "_dom_classes": [],
            "_model_module": "@jupyter-widgets/controls",
            "_model_module_version": "1.5.0",
            "_model_name": "HBoxModel",
            "_view_count": null,
            "_view_module": "@jupyter-widgets/controls",
            "_view_module_version": "1.5.0",
            "_view_name": "HBoxView",
            "box_style": "",
            "children": [
              "IPY_MODEL_be91f480fc9a44c58ea30f46a0e1f10e",
              "IPY_MODEL_4876f233ffc4497aadb0d61ef07e74bc",
              "IPY_MODEL_2efc213c87964eab9827f840b7d348ed"
            ],
            "layout": "IPY_MODEL_970014013168429dbfa83c78bd2516e2"
          }
        },
        "be91f480fc9a44c58ea30f46a0e1f10e": {
          "model_module": "@jupyter-widgets/controls",
          "model_name": "HTMLModel",
          "model_module_version": "1.5.0",
          "state": {
            "_dom_classes": [],
            "_model_module": "@jupyter-widgets/controls",
            "_model_module_version": "1.5.0",
            "_model_name": "HTMLModel",
            "_view_count": null,
            "_view_module": "@jupyter-widgets/controls",
            "_view_module_version": "1.5.0",
            "_view_name": "HTMLView",
            "description": "",
            "description_tooltip": null,
            "layout": "IPY_MODEL_8fbad6f36e2f43e493ac7a8670e6afec",
            "placeholder": "​",
            "style": "IPY_MODEL_00b13eab1c9c4ac2991ebb1a70a1ca68",
            "value": "Validation sanity check: 100%"
          }
        },
        "4876f233ffc4497aadb0d61ef07e74bc": {
          "model_module": "@jupyter-widgets/controls",
          "model_name": "FloatProgressModel",
          "model_module_version": "1.5.0",
          "state": {
            "_dom_classes": [],
            "_model_module": "@jupyter-widgets/controls",
            "_model_module_version": "1.5.0",
            "_model_name": "FloatProgressModel",
            "_view_count": null,
            "_view_module": "@jupyter-widgets/controls",
            "_view_module_version": "1.5.0",
            "_view_name": "ProgressView",
            "bar_style": "",
            "description": "",
            "description_tooltip": null,
            "layout": "IPY_MODEL_1524c23b37f54942ad21a576df2f749c",
            "max": 2,
            "min": 0,
            "orientation": "horizontal",
            "style": "IPY_MODEL_c43cd6587ece466f916c651099b473ed",
            "value": 2
          }
        },
        "2efc213c87964eab9827f840b7d348ed": {
          "model_module": "@jupyter-widgets/controls",
          "model_name": "HTMLModel",
          "model_module_version": "1.5.0",
          "state": {
            "_dom_classes": [],
            "_model_module": "@jupyter-widgets/controls",
            "_model_module_version": "1.5.0",
            "_model_name": "HTMLModel",
            "_view_count": null,
            "_view_module": "@jupyter-widgets/controls",
            "_view_module_version": "1.5.0",
            "_view_name": "HTMLView",
            "description": "",
            "description_tooltip": null,
            "layout": "IPY_MODEL_648f7e372de94ab88a7a84472caca8b3",
            "placeholder": "​",
            "style": "IPY_MODEL_97429db8e4794ec4a5436051877b70e3",
            "value": " 2/2 [00:00&lt;00:00,  2.96it/s]"
          }
        },
        "970014013168429dbfa83c78bd2516e2": {
          "model_module": "@jupyter-widgets/base",
          "model_name": "LayoutModel",
          "model_module_version": "1.2.0",
          "state": {
            "_model_module": "@jupyter-widgets/base",
            "_model_module_version": "1.2.0",
            "_model_name": "LayoutModel",
            "_view_count": null,
            "_view_module": "@jupyter-widgets/base",
            "_view_module_version": "1.2.0",
            "_view_name": "LayoutView",
            "align_content": null,
            "align_items": null,
            "align_self": null,
            "border": null,
            "bottom": null,
            "display": "inline-flex",
            "flex": null,
            "flex_flow": "row wrap",
            "grid_area": null,
            "grid_auto_columns": null,
            "grid_auto_flow": null,
            "grid_auto_rows": null,
            "grid_column": null,
            "grid_gap": null,
            "grid_row": null,
            "grid_template_areas": null,
            "grid_template_columns": null,
            "grid_template_rows": null,
            "height": null,
            "justify_content": null,
            "justify_items": null,
            "left": null,
            "margin": null,
            "max_height": null,
            "max_width": null,
            "min_height": null,
            "min_width": null,
            "object_fit": null,
            "object_position": null,
            "order": null,
            "overflow": null,
            "overflow_x": null,
            "overflow_y": null,
            "padding": null,
            "right": null,
            "top": null,
            "visibility": null,
            "width": "100%"
          }
        },
        "8fbad6f36e2f43e493ac7a8670e6afec": {
          "model_module": "@jupyter-widgets/base",
          "model_name": "LayoutModel",
          "model_module_version": "1.2.0",
          "state": {
            "_model_module": "@jupyter-widgets/base",
            "_model_module_version": "1.2.0",
            "_model_name": "LayoutModel",
            "_view_count": null,
            "_view_module": "@jupyter-widgets/base",
            "_view_module_version": "1.2.0",
            "_view_name": "LayoutView",
            "align_content": null,
            "align_items": null,
            "align_self": null,
            "border": null,
            "bottom": null,
            "display": null,
            "flex": null,
            "flex_flow": null,
            "grid_area": null,
            "grid_auto_columns": null,
            "grid_auto_flow": null,
            "grid_auto_rows": null,
            "grid_column": null,
            "grid_gap": null,
            "grid_row": null,
            "grid_template_areas": null,
            "grid_template_columns": null,
            "grid_template_rows": null,
            "height": null,
            "justify_content": null,
            "justify_items": null,
            "left": null,
            "margin": null,
            "max_height": null,
            "max_width": null,
            "min_height": null,
            "min_width": null,
            "object_fit": null,
            "object_position": null,
            "order": null,
            "overflow": null,
            "overflow_x": null,
            "overflow_y": null,
            "padding": null,
            "right": null,
            "top": null,
            "visibility": null,
            "width": null
          }
        },
        "00b13eab1c9c4ac2991ebb1a70a1ca68": {
          "model_module": "@jupyter-widgets/controls",
          "model_name": "DescriptionStyleModel",
          "model_module_version": "1.5.0",
          "state": {
            "_model_module": "@jupyter-widgets/controls",
            "_model_module_version": "1.5.0",
            "_model_name": "DescriptionStyleModel",
            "_view_count": null,
            "_view_module": "@jupyter-widgets/base",
            "_view_module_version": "1.2.0",
            "_view_name": "StyleView",
            "description_width": ""
          }
        },
        "1524c23b37f54942ad21a576df2f749c": {
          "model_module": "@jupyter-widgets/base",
          "model_name": "LayoutModel",
          "model_module_version": "1.2.0",
          "state": {
            "_model_module": "@jupyter-widgets/base",
            "_model_module_version": "1.2.0",
            "_model_name": "LayoutModel",
            "_view_count": null,
            "_view_module": "@jupyter-widgets/base",
            "_view_module_version": "1.2.0",
            "_view_name": "LayoutView",
            "align_content": null,
            "align_items": null,
            "align_self": null,
            "border": null,
            "bottom": null,
            "display": null,
            "flex": "2",
            "flex_flow": null,
            "grid_area": null,
            "grid_auto_columns": null,
            "grid_auto_flow": null,
            "grid_auto_rows": null,
            "grid_column": null,
            "grid_gap": null,
            "grid_row": null,
            "grid_template_areas": null,
            "grid_template_columns": null,
            "grid_template_rows": null,
            "height": null,
            "justify_content": null,
            "justify_items": null,
            "left": null,
            "margin": null,
            "max_height": null,
            "max_width": null,
            "min_height": null,
            "min_width": null,
            "object_fit": null,
            "object_position": null,
            "order": null,
            "overflow": null,
            "overflow_x": null,
            "overflow_y": null,
            "padding": null,
            "right": null,
            "top": null,
            "visibility": null,
            "width": null
          }
        },
        "c43cd6587ece466f916c651099b473ed": {
          "model_module": "@jupyter-widgets/controls",
          "model_name": "ProgressStyleModel",
          "model_module_version": "1.5.0",
          "state": {
            "_model_module": "@jupyter-widgets/controls",
            "_model_module_version": "1.5.0",
            "_model_name": "ProgressStyleModel",
            "_view_count": null,
            "_view_module": "@jupyter-widgets/base",
            "_view_module_version": "1.2.0",
            "_view_name": "StyleView",
            "bar_color": null,
            "description_width": ""
          }
        },
        "648f7e372de94ab88a7a84472caca8b3": {
          "model_module": "@jupyter-widgets/base",
          "model_name": "LayoutModel",
          "model_module_version": "1.2.0",
          "state": {
            "_model_module": "@jupyter-widgets/base",
            "_model_module_version": "1.2.0",
            "_model_name": "LayoutModel",
            "_view_count": null,
            "_view_module": "@jupyter-widgets/base",
            "_view_module_version": "1.2.0",
            "_view_name": "LayoutView",
            "align_content": null,
            "align_items": null,
            "align_self": null,
            "border": null,
            "bottom": null,
            "display": null,
            "flex": null,
            "flex_flow": null,
            "grid_area": null,
            "grid_auto_columns": null,
            "grid_auto_flow": null,
            "grid_auto_rows": null,
            "grid_column": null,
            "grid_gap": null,
            "grid_row": null,
            "grid_template_areas": null,
            "grid_template_columns": null,
            "grid_template_rows": null,
            "height": null,
            "justify_content": null,
            "justify_items": null,
            "left": null,
            "margin": null,
            "max_height": null,
            "max_width": null,
            "min_height": null,
            "min_width": null,
            "object_fit": null,
            "object_position": null,
            "order": null,
            "overflow": null,
            "overflow_x": null,
            "overflow_y": null,
            "padding": null,
            "right": null,
            "top": null,
            "visibility": null,
            "width": null
          }
        },
        "97429db8e4794ec4a5436051877b70e3": {
          "model_module": "@jupyter-widgets/controls",
          "model_name": "DescriptionStyleModel",
          "model_module_version": "1.5.0",
          "state": {
            "_model_module": "@jupyter-widgets/controls",
            "_model_module_version": "1.5.0",
            "_model_name": "DescriptionStyleModel",
            "_view_count": null,
            "_view_module": "@jupyter-widgets/base",
            "_view_module_version": "1.2.0",
            "_view_name": "StyleView",
            "description_width": ""
          }
        },
        "ed961521a47c43d9a3b4f69b1afe6e5d": {
          "model_module": "@jupyter-widgets/controls",
          "model_name": "HBoxModel",
          "model_module_version": "1.5.0",
          "state": {
            "_dom_classes": [],
            "_model_module": "@jupyter-widgets/controls",
            "_model_module_version": "1.5.0",
            "_model_name": "HBoxModel",
            "_view_count": null,
            "_view_module": "@jupyter-widgets/controls",
            "_view_module_version": "1.5.0",
            "_view_name": "HBoxView",
            "box_style": "",
            "children": [
              "IPY_MODEL_ab498ce405a34264b1f3fbc18f4832ee",
              "IPY_MODEL_afc51efc70394a6895185cba25b3645c",
              "IPY_MODEL_48ee9b3043b74bae9171539018ddec90"
            ],
            "layout": "IPY_MODEL_b472e4af65cd4c07a35b4607f775970d"
          }
        },
        "ab498ce405a34264b1f3fbc18f4832ee": {
          "model_module": "@jupyter-widgets/controls",
          "model_name": "HTMLModel",
          "model_module_version": "1.5.0",
          "state": {
            "_dom_classes": [],
            "_model_module": "@jupyter-widgets/controls",
            "_model_module_version": "1.5.0",
            "_model_name": "HTMLModel",
            "_view_count": null,
            "_view_module": "@jupyter-widgets/controls",
            "_view_module_version": "1.5.0",
            "_view_name": "HTMLView",
            "description": "",
            "description_tooltip": null,
            "layout": "IPY_MODEL_816b6f03509742df9b37aac5f4114001",
            "placeholder": "​",
            "style": "IPY_MODEL_1913f2f4ef124a76a655dd42d8472d70",
            "value": "Epoch 1:  56%"
          }
        },
        "afc51efc70394a6895185cba25b3645c": {
          "model_module": "@jupyter-widgets/controls",
          "model_name": "FloatProgressModel",
          "model_module_version": "1.5.0",
          "state": {
            "_dom_classes": [],
            "_model_module": "@jupyter-widgets/controls",
            "_model_module_version": "1.5.0",
            "_model_name": "FloatProgressModel",
            "_view_count": null,
            "_view_module": "@jupyter-widgets/controls",
            "_view_module_version": "1.5.0",
            "_view_name": "ProgressView",
            "bar_style": "",
            "description": "",
            "description_tooltip": null,
            "layout": "IPY_MODEL_7a4ed97cfc694ffc8fe624b713e0f90a",
            "max": 11380,
            "min": 0,
            "orientation": "horizontal",
            "style": "IPY_MODEL_9f6b8526263f4e8cbccd9137b8ac99c5",
            "value": 6320
          }
        },
        "48ee9b3043b74bae9171539018ddec90": {
          "model_module": "@jupyter-widgets/controls",
          "model_name": "HTMLModel",
          "model_module_version": "1.5.0",
          "state": {
            "_dom_classes": [],
            "_model_module": "@jupyter-widgets/controls",
            "_model_module_version": "1.5.0",
            "_model_name": "HTMLModel",
            "_view_count": null,
            "_view_module": "@jupyter-widgets/controls",
            "_view_module_version": "1.5.0",
            "_view_name": "HTMLView",
            "description": "",
            "description_tooltip": null,
            "layout": "IPY_MODEL_abd7ca269b37494db923cd33bb8d9880",
            "placeholder": "​",
            "style": "IPY_MODEL_838345f0db504833aabe63c2c796a374",
            "value": " 6320/11380 [1:25:30&lt;1:08:27,  1.23it/s, loss=0.328, v_num=3]"
          }
        },
        "b472e4af65cd4c07a35b4607f775970d": {
          "model_module": "@jupyter-widgets/base",
          "model_name": "LayoutModel",
          "model_module_version": "1.2.0",
          "state": {
            "_model_module": "@jupyter-widgets/base",
            "_model_module_version": "1.2.0",
            "_model_name": "LayoutModel",
            "_view_count": null,
            "_view_module": "@jupyter-widgets/base",
            "_view_module_version": "1.2.0",
            "_view_name": "LayoutView",
            "align_content": null,
            "align_items": null,
            "align_self": null,
            "border": null,
            "bottom": null,
            "display": "inline-flex",
            "flex": null,
            "flex_flow": "row wrap",
            "grid_area": null,
            "grid_auto_columns": null,
            "grid_auto_flow": null,
            "grid_auto_rows": null,
            "grid_column": null,
            "grid_gap": null,
            "grid_row": null,
            "grid_template_areas": null,
            "grid_template_columns": null,
            "grid_template_rows": null,
            "height": null,
            "justify_content": null,
            "justify_items": null,
            "left": null,
            "margin": null,
            "max_height": null,
            "max_width": null,
            "min_height": null,
            "min_width": null,
            "object_fit": null,
            "object_position": null,
            "order": null,
            "overflow": null,
            "overflow_x": null,
            "overflow_y": null,
            "padding": null,
            "right": null,
            "top": null,
            "visibility": null,
            "width": "100%"
          }
        },
        "816b6f03509742df9b37aac5f4114001": {
          "model_module": "@jupyter-widgets/base",
          "model_name": "LayoutModel",
          "model_module_version": "1.2.0",
          "state": {
            "_model_module": "@jupyter-widgets/base",
            "_model_module_version": "1.2.0",
            "_model_name": "LayoutModel",
            "_view_count": null,
            "_view_module": "@jupyter-widgets/base",
            "_view_module_version": "1.2.0",
            "_view_name": "LayoutView",
            "align_content": null,
            "align_items": null,
            "align_self": null,
            "border": null,
            "bottom": null,
            "display": null,
            "flex": null,
            "flex_flow": null,
            "grid_area": null,
            "grid_auto_columns": null,
            "grid_auto_flow": null,
            "grid_auto_rows": null,
            "grid_column": null,
            "grid_gap": null,
            "grid_row": null,
            "grid_template_areas": null,
            "grid_template_columns": null,
            "grid_template_rows": null,
            "height": null,
            "justify_content": null,
            "justify_items": null,
            "left": null,
            "margin": null,
            "max_height": null,
            "max_width": null,
            "min_height": null,
            "min_width": null,
            "object_fit": null,
            "object_position": null,
            "order": null,
            "overflow": null,
            "overflow_x": null,
            "overflow_y": null,
            "padding": null,
            "right": null,
            "top": null,
            "visibility": null,
            "width": null
          }
        },
        "1913f2f4ef124a76a655dd42d8472d70": {
          "model_module": "@jupyter-widgets/controls",
          "model_name": "DescriptionStyleModel",
          "model_module_version": "1.5.0",
          "state": {
            "_model_module": "@jupyter-widgets/controls",
            "_model_module_version": "1.5.0",
            "_model_name": "DescriptionStyleModel",
            "_view_count": null,
            "_view_module": "@jupyter-widgets/base",
            "_view_module_version": "1.2.0",
            "_view_name": "StyleView",
            "description_width": ""
          }
        },
        "7a4ed97cfc694ffc8fe624b713e0f90a": {
          "model_module": "@jupyter-widgets/base",
          "model_name": "LayoutModel",
          "model_module_version": "1.2.0",
          "state": {
            "_model_module": "@jupyter-widgets/base",
            "_model_module_version": "1.2.0",
            "_model_name": "LayoutModel",
            "_view_count": null,
            "_view_module": "@jupyter-widgets/base",
            "_view_module_version": "1.2.0",
            "_view_name": "LayoutView",
            "align_content": null,
            "align_items": null,
            "align_self": null,
            "border": null,
            "bottom": null,
            "display": null,
            "flex": "2",
            "flex_flow": null,
            "grid_area": null,
            "grid_auto_columns": null,
            "grid_auto_flow": null,
            "grid_auto_rows": null,
            "grid_column": null,
            "grid_gap": null,
            "grid_row": null,
            "grid_template_areas": null,
            "grid_template_columns": null,
            "grid_template_rows": null,
            "height": null,
            "justify_content": null,
            "justify_items": null,
            "left": null,
            "margin": null,
            "max_height": null,
            "max_width": null,
            "min_height": null,
            "min_width": null,
            "object_fit": null,
            "object_position": null,
            "order": null,
            "overflow": null,
            "overflow_x": null,
            "overflow_y": null,
            "padding": null,
            "right": null,
            "top": null,
            "visibility": null,
            "width": null
          }
        },
        "9f6b8526263f4e8cbccd9137b8ac99c5": {
          "model_module": "@jupyter-widgets/controls",
          "model_name": "ProgressStyleModel",
          "model_module_version": "1.5.0",
          "state": {
            "_model_module": "@jupyter-widgets/controls",
            "_model_module_version": "1.5.0",
            "_model_name": "ProgressStyleModel",
            "_view_count": null,
            "_view_module": "@jupyter-widgets/base",
            "_view_module_version": "1.2.0",
            "_view_name": "StyleView",
            "bar_color": null,
            "description_width": ""
          }
        },
        "abd7ca269b37494db923cd33bb8d9880": {
          "model_module": "@jupyter-widgets/base",
          "model_name": "LayoutModel",
          "model_module_version": "1.2.0",
          "state": {
            "_model_module": "@jupyter-widgets/base",
            "_model_module_version": "1.2.0",
            "_model_name": "LayoutModel",
            "_view_count": null,
            "_view_module": "@jupyter-widgets/base",
            "_view_module_version": "1.2.0",
            "_view_name": "LayoutView",
            "align_content": null,
            "align_items": null,
            "align_self": null,
            "border": null,
            "bottom": null,
            "display": null,
            "flex": null,
            "flex_flow": null,
            "grid_area": null,
            "grid_auto_columns": null,
            "grid_auto_flow": null,
            "grid_auto_rows": null,
            "grid_column": null,
            "grid_gap": null,
            "grid_row": null,
            "grid_template_areas": null,
            "grid_template_columns": null,
            "grid_template_rows": null,
            "height": null,
            "justify_content": null,
            "justify_items": null,
            "left": null,
            "margin": null,
            "max_height": null,
            "max_width": null,
            "min_height": null,
            "min_width": null,
            "object_fit": null,
            "object_position": null,
            "order": null,
            "overflow": null,
            "overflow_x": null,
            "overflow_y": null,
            "padding": null,
            "right": null,
            "top": null,
            "visibility": null,
            "width": null
          }
        },
        "838345f0db504833aabe63c2c796a374": {
          "model_module": "@jupyter-widgets/controls",
          "model_name": "DescriptionStyleModel",
          "model_module_version": "1.5.0",
          "state": {
            "_model_module": "@jupyter-widgets/controls",
            "_model_module_version": "1.5.0",
            "_model_name": "DescriptionStyleModel",
            "_view_count": null,
            "_view_module": "@jupyter-widgets/base",
            "_view_module_version": "1.2.0",
            "_view_name": "StyleView",
            "description_width": ""
          }
        },
        "8b25523f3499479c9e71fdf2a57fb2cc": {
          "model_module": "@jupyter-widgets/controls",
          "model_name": "HBoxModel",
          "model_module_version": "1.5.0",
          "state": {
            "_dom_classes": [],
            "_model_module": "@jupyter-widgets/controls",
            "_model_module_version": "1.5.0",
            "_model_name": "HBoxModel",
            "_view_count": null,
            "_view_module": "@jupyter-widgets/controls",
            "_view_module_version": "1.5.0",
            "_view_name": "HBoxView",
            "box_style": "",
            "children": [
              "IPY_MODEL_c1eb626c6342409eb7890fc9a7df7a19",
              "IPY_MODEL_c81fcd84bce0480aa6af4a5e4c088fa3",
              "IPY_MODEL_bf36beeb09c44a6abf3fa9aa45c28875"
            ],
            "layout": "IPY_MODEL_f1b62eb6dfb5484aa85128c00cc583ad"
          }
        },
        "c1eb626c6342409eb7890fc9a7df7a19": {
          "model_module": "@jupyter-widgets/controls",
          "model_name": "HTMLModel",
          "model_module_version": "1.5.0",
          "state": {
            "_dom_classes": [],
            "_model_module": "@jupyter-widgets/controls",
            "_model_module_version": "1.5.0",
            "_model_name": "HTMLModel",
            "_view_count": null,
            "_view_module": "@jupyter-widgets/controls",
            "_view_module_version": "1.5.0",
            "_view_name": "HTMLView",
            "description": "",
            "description_tooltip": null,
            "layout": "IPY_MODEL_2002215c6e284928acaa0b3237a0e65a",
            "placeholder": "​",
            "style": "IPY_MODEL_7d068c46b79146d6bbdaf7795e8d4dc8",
            "value": "Validating: 100%"
          }
        },
        "c81fcd84bce0480aa6af4a5e4c088fa3": {
          "model_module": "@jupyter-widgets/controls",
          "model_name": "FloatProgressModel",
          "model_module_version": "1.5.0",
          "state": {
            "_dom_classes": [],
            "_model_module": "@jupyter-widgets/controls",
            "_model_module_version": "1.5.0",
            "_model_name": "FloatProgressModel",
            "_view_count": null,
            "_view_module": "@jupyter-widgets/controls",
            "_view_module_version": "1.5.0",
            "_view_name": "ProgressView",
            "bar_style": "",
            "description": "",
            "description_tooltip": null,
            "layout": "IPY_MODEL_289ecffdbec94875a87e7125f8343f4c",
            "max": 2276,
            "min": 0,
            "orientation": "horizontal",
            "style": "IPY_MODEL_c9e06d3956274036a6b12c15789f1ede",
            "value": 2276
          }
        },
        "bf36beeb09c44a6abf3fa9aa45c28875": {
          "model_module": "@jupyter-widgets/controls",
          "model_name": "HTMLModel",
          "model_module_version": "1.5.0",
          "state": {
            "_dom_classes": [],
            "_model_module": "@jupyter-widgets/controls",
            "_model_module_version": "1.5.0",
            "_model_name": "HTMLModel",
            "_view_count": null,
            "_view_module": "@jupyter-widgets/controls",
            "_view_module_version": "1.5.0",
            "_view_name": "HTMLView",
            "description": "",
            "description_tooltip": null,
            "layout": "IPY_MODEL_b83c3032f51d4cb3ae0d7b608b2b462c",
            "placeholder": "​",
            "style": "IPY_MODEL_23325eb5ea5e44e182176416378e9442",
            "value": " 2276/2276 [09:43&lt;00:00,  3.77it/s]"
          }
        },
        "f1b62eb6dfb5484aa85128c00cc583ad": {
          "model_module": "@jupyter-widgets/base",
          "model_name": "LayoutModel",
          "model_module_version": "1.2.0",
          "state": {
            "_model_module": "@jupyter-widgets/base",
            "_model_module_version": "1.2.0",
            "_model_name": "LayoutModel",
            "_view_count": null,
            "_view_module": "@jupyter-widgets/base",
            "_view_module_version": "1.2.0",
            "_view_name": "LayoutView",
            "align_content": null,
            "align_items": null,
            "align_self": null,
            "border": null,
            "bottom": null,
            "display": "inline-flex",
            "flex": null,
            "flex_flow": "row wrap",
            "grid_area": null,
            "grid_auto_columns": null,
            "grid_auto_flow": null,
            "grid_auto_rows": null,
            "grid_column": null,
            "grid_gap": null,
            "grid_row": null,
            "grid_template_areas": null,
            "grid_template_columns": null,
            "grid_template_rows": null,
            "height": null,
            "justify_content": null,
            "justify_items": null,
            "left": null,
            "margin": null,
            "max_height": null,
            "max_width": null,
            "min_height": null,
            "min_width": null,
            "object_fit": null,
            "object_position": null,
            "order": null,
            "overflow": null,
            "overflow_x": null,
            "overflow_y": null,
            "padding": null,
            "right": null,
            "top": null,
            "visibility": null,
            "width": "100%"
          }
        },
        "2002215c6e284928acaa0b3237a0e65a": {
          "model_module": "@jupyter-widgets/base",
          "model_name": "LayoutModel",
          "model_module_version": "1.2.0",
          "state": {
            "_model_module": "@jupyter-widgets/base",
            "_model_module_version": "1.2.0",
            "_model_name": "LayoutModel",
            "_view_count": null,
            "_view_module": "@jupyter-widgets/base",
            "_view_module_version": "1.2.0",
            "_view_name": "LayoutView",
            "align_content": null,
            "align_items": null,
            "align_self": null,
            "border": null,
            "bottom": null,
            "display": null,
            "flex": null,
            "flex_flow": null,
            "grid_area": null,
            "grid_auto_columns": null,
            "grid_auto_flow": null,
            "grid_auto_rows": null,
            "grid_column": null,
            "grid_gap": null,
            "grid_row": null,
            "grid_template_areas": null,
            "grid_template_columns": null,
            "grid_template_rows": null,
            "height": null,
            "justify_content": null,
            "justify_items": null,
            "left": null,
            "margin": null,
            "max_height": null,
            "max_width": null,
            "min_height": null,
            "min_width": null,
            "object_fit": null,
            "object_position": null,
            "order": null,
            "overflow": null,
            "overflow_x": null,
            "overflow_y": null,
            "padding": null,
            "right": null,
            "top": null,
            "visibility": null,
            "width": null
          }
        },
        "7d068c46b79146d6bbdaf7795e8d4dc8": {
          "model_module": "@jupyter-widgets/controls",
          "model_name": "DescriptionStyleModel",
          "model_module_version": "1.5.0",
          "state": {
            "_model_module": "@jupyter-widgets/controls",
            "_model_module_version": "1.5.0",
            "_model_name": "DescriptionStyleModel",
            "_view_count": null,
            "_view_module": "@jupyter-widgets/base",
            "_view_module_version": "1.2.0",
            "_view_name": "StyleView",
            "description_width": ""
          }
        },
        "289ecffdbec94875a87e7125f8343f4c": {
          "model_module": "@jupyter-widgets/base",
          "model_name": "LayoutModel",
          "model_module_version": "1.2.0",
          "state": {
            "_model_module": "@jupyter-widgets/base",
            "_model_module_version": "1.2.0",
            "_model_name": "LayoutModel",
            "_view_count": null,
            "_view_module": "@jupyter-widgets/base",
            "_view_module_version": "1.2.0",
            "_view_name": "LayoutView",
            "align_content": null,
            "align_items": null,
            "align_self": null,
            "border": null,
            "bottom": null,
            "display": null,
            "flex": "2",
            "flex_flow": null,
            "grid_area": null,
            "grid_auto_columns": null,
            "grid_auto_flow": null,
            "grid_auto_rows": null,
            "grid_column": null,
            "grid_gap": null,
            "grid_row": null,
            "grid_template_areas": null,
            "grid_template_columns": null,
            "grid_template_rows": null,
            "height": null,
            "justify_content": null,
            "justify_items": null,
            "left": null,
            "margin": null,
            "max_height": null,
            "max_width": null,
            "min_height": null,
            "min_width": null,
            "object_fit": null,
            "object_position": null,
            "order": null,
            "overflow": null,
            "overflow_x": null,
            "overflow_y": null,
            "padding": null,
            "right": null,
            "top": null,
            "visibility": null,
            "width": null
          }
        },
        "c9e06d3956274036a6b12c15789f1ede": {
          "model_module": "@jupyter-widgets/controls",
          "model_name": "ProgressStyleModel",
          "model_module_version": "1.5.0",
          "state": {
            "_model_module": "@jupyter-widgets/controls",
            "_model_module_version": "1.5.0",
            "_model_name": "ProgressStyleModel",
            "_view_count": null,
            "_view_module": "@jupyter-widgets/base",
            "_view_module_version": "1.2.0",
            "_view_name": "StyleView",
            "bar_color": null,
            "description_width": ""
          }
        },
        "b83c3032f51d4cb3ae0d7b608b2b462c": {
          "model_module": "@jupyter-widgets/base",
          "model_name": "LayoutModel",
          "model_module_version": "1.2.0",
          "state": {
            "_model_module": "@jupyter-widgets/base",
            "_model_module_version": "1.2.0",
            "_model_name": "LayoutModel",
            "_view_count": null,
            "_view_module": "@jupyter-widgets/base",
            "_view_module_version": "1.2.0",
            "_view_name": "LayoutView",
            "align_content": null,
            "align_items": null,
            "align_self": null,
            "border": null,
            "bottom": null,
            "display": null,
            "flex": null,
            "flex_flow": null,
            "grid_area": null,
            "grid_auto_columns": null,
            "grid_auto_flow": null,
            "grid_auto_rows": null,
            "grid_column": null,
            "grid_gap": null,
            "grid_row": null,
            "grid_template_areas": null,
            "grid_template_columns": null,
            "grid_template_rows": null,
            "height": null,
            "justify_content": null,
            "justify_items": null,
            "left": null,
            "margin": null,
            "max_height": null,
            "max_width": null,
            "min_height": null,
            "min_width": null,
            "object_fit": null,
            "object_position": null,
            "order": null,
            "overflow": null,
            "overflow_x": null,
            "overflow_y": null,
            "padding": null,
            "right": null,
            "top": null,
            "visibility": null,
            "width": null
          }
        },
        "23325eb5ea5e44e182176416378e9442": {
          "model_module": "@jupyter-widgets/controls",
          "model_name": "DescriptionStyleModel",
          "model_module_version": "1.5.0",
          "state": {
            "_model_module": "@jupyter-widgets/controls",
            "_model_module_version": "1.5.0",
            "_model_name": "DescriptionStyleModel",
            "_view_count": null,
            "_view_module": "@jupyter-widgets/base",
            "_view_module_version": "1.2.0",
            "_view_name": "StyleView",
            "description_width": ""
          }
        },
        "cbe69e89ac184dcbabb0e19f821537e0": {
          "model_module": "@jupyter-widgets/controls",
          "model_name": "HBoxModel",
          "model_module_version": "1.5.0",
          "state": {
            "_dom_classes": [],
            "_model_module": "@jupyter-widgets/controls",
            "_model_module_version": "1.5.0",
            "_model_name": "HBoxModel",
            "_view_count": null,
            "_view_module": "@jupyter-widgets/controls",
            "_view_module_version": "1.5.0",
            "_view_name": "HBoxView",
            "box_style": "",
            "children": [
              "IPY_MODEL_bb589a25754d46a49807749a9f1ca538",
              "IPY_MODEL_e6661f804c074345a7731b5067fea9c5",
              "IPY_MODEL_193c2990b52d4143a898aa1e9b350109"
            ],
            "layout": "IPY_MODEL_129885fc814d4343bcb72026898920a2"
          }
        },
        "bb589a25754d46a49807749a9f1ca538": {
          "model_module": "@jupyter-widgets/controls",
          "model_name": "HTMLModel",
          "model_module_version": "1.5.0",
          "state": {
            "_dom_classes": [],
            "_model_module": "@jupyter-widgets/controls",
            "_model_module_version": "1.5.0",
            "_model_name": "HTMLModel",
            "_view_count": null,
            "_view_module": "@jupyter-widgets/controls",
            "_view_module_version": "1.5.0",
            "_view_name": "HTMLView",
            "description": "",
            "description_tooltip": null,
            "layout": "IPY_MODEL_57359ee041e44371be4985e421df437e",
            "placeholder": "​",
            "style": "IPY_MODEL_2daec3d7091c4d3488431ffe0ec7482b",
            "value": "Testing: 100%"
          }
        },
        "e6661f804c074345a7731b5067fea9c5": {
          "model_module": "@jupyter-widgets/controls",
          "model_name": "FloatProgressModel",
          "model_module_version": "1.5.0",
          "state": {
            "_dom_classes": [],
            "_model_module": "@jupyter-widgets/controls",
            "_model_module_version": "1.5.0",
            "_model_name": "FloatProgressModel",
            "_view_count": null,
            "_view_module": "@jupyter-widgets/controls",
            "_view_module_version": "1.5.0",
            "_view_name": "ProgressView",
            "bar_style": "success",
            "description": "",
            "description_tooltip": null,
            "layout": "IPY_MODEL_fb27dfd922824dd1a0fe74efa94cb1ec",
            "max": 1,
            "min": 0,
            "orientation": "horizontal",
            "style": "IPY_MODEL_047566aafa484f66a740a7de8656945b",
            "value": 1
          }
        },
        "193c2990b52d4143a898aa1e9b350109": {
          "model_module": "@jupyter-widgets/controls",
          "model_name": "HTMLModel",
          "model_module_version": "1.5.0",
          "state": {
            "_dom_classes": [],
            "_model_module": "@jupyter-widgets/controls",
            "_model_module_version": "1.5.0",
            "_model_name": "HTMLModel",
            "_view_count": null,
            "_view_module": "@jupyter-widgets/controls",
            "_view_module_version": "1.5.0",
            "_view_name": "HTMLView",
            "description": "",
            "description_tooltip": null,
            "layout": "IPY_MODEL_b14296978feb4a9595826820cb0b26ab",
            "placeholder": "​",
            "style": "IPY_MODEL_b14c5ceb82e8431a853cd334d4cd9317",
            "value": " 7/7 [00:02&lt;00:00,  3.47it/s]"
          }
        },
        "129885fc814d4343bcb72026898920a2": {
          "model_module": "@jupyter-widgets/base",
          "model_name": "LayoutModel",
          "model_module_version": "1.2.0",
          "state": {
            "_model_module": "@jupyter-widgets/base",
            "_model_module_version": "1.2.0",
            "_model_name": "LayoutModel",
            "_view_count": null,
            "_view_module": "@jupyter-widgets/base",
            "_view_module_version": "1.2.0",
            "_view_name": "LayoutView",
            "align_content": null,
            "align_items": null,
            "align_self": null,
            "border": null,
            "bottom": null,
            "display": "inline-flex",
            "flex": null,
            "flex_flow": "row wrap",
            "grid_area": null,
            "grid_auto_columns": null,
            "grid_auto_flow": null,
            "grid_auto_rows": null,
            "grid_column": null,
            "grid_gap": null,
            "grid_row": null,
            "grid_template_areas": null,
            "grid_template_columns": null,
            "grid_template_rows": null,
            "height": null,
            "justify_content": null,
            "justify_items": null,
            "left": null,
            "margin": null,
            "max_height": null,
            "max_width": null,
            "min_height": null,
            "min_width": null,
            "object_fit": null,
            "object_position": null,
            "order": null,
            "overflow": null,
            "overflow_x": null,
            "overflow_y": null,
            "padding": null,
            "right": null,
            "top": null,
            "visibility": null,
            "width": "100%"
          }
        },
        "57359ee041e44371be4985e421df437e": {
          "model_module": "@jupyter-widgets/base",
          "model_name": "LayoutModel",
          "model_module_version": "1.2.0",
          "state": {
            "_model_module": "@jupyter-widgets/base",
            "_model_module_version": "1.2.0",
            "_model_name": "LayoutModel",
            "_view_count": null,
            "_view_module": "@jupyter-widgets/base",
            "_view_module_version": "1.2.0",
            "_view_name": "LayoutView",
            "align_content": null,
            "align_items": null,
            "align_self": null,
            "border": null,
            "bottom": null,
            "display": null,
            "flex": null,
            "flex_flow": null,
            "grid_area": null,
            "grid_auto_columns": null,
            "grid_auto_flow": null,
            "grid_auto_rows": null,
            "grid_column": null,
            "grid_gap": null,
            "grid_row": null,
            "grid_template_areas": null,
            "grid_template_columns": null,
            "grid_template_rows": null,
            "height": null,
            "justify_content": null,
            "justify_items": null,
            "left": null,
            "margin": null,
            "max_height": null,
            "max_width": null,
            "min_height": null,
            "min_width": null,
            "object_fit": null,
            "object_position": null,
            "order": null,
            "overflow": null,
            "overflow_x": null,
            "overflow_y": null,
            "padding": null,
            "right": null,
            "top": null,
            "visibility": null,
            "width": null
          }
        },
        "2daec3d7091c4d3488431ffe0ec7482b": {
          "model_module": "@jupyter-widgets/controls",
          "model_name": "DescriptionStyleModel",
          "model_module_version": "1.5.0",
          "state": {
            "_model_module": "@jupyter-widgets/controls",
            "_model_module_version": "1.5.0",
            "_model_name": "DescriptionStyleModel",
            "_view_count": null,
            "_view_module": "@jupyter-widgets/base",
            "_view_module_version": "1.2.0",
            "_view_name": "StyleView",
            "description_width": ""
          }
        },
        "fb27dfd922824dd1a0fe74efa94cb1ec": {
          "model_module": "@jupyter-widgets/base",
          "model_name": "LayoutModel",
          "model_module_version": "1.2.0",
          "state": {
            "_model_module": "@jupyter-widgets/base",
            "_model_module_version": "1.2.0",
            "_model_name": "LayoutModel",
            "_view_count": null,
            "_view_module": "@jupyter-widgets/base",
            "_view_module_version": "1.2.0",
            "_view_name": "LayoutView",
            "align_content": null,
            "align_items": null,
            "align_self": null,
            "border": null,
            "bottom": null,
            "display": null,
            "flex": "2",
            "flex_flow": null,
            "grid_area": null,
            "grid_auto_columns": null,
            "grid_auto_flow": null,
            "grid_auto_rows": null,
            "grid_column": null,
            "grid_gap": null,
            "grid_row": null,
            "grid_template_areas": null,
            "grid_template_columns": null,
            "grid_template_rows": null,
            "height": null,
            "justify_content": null,
            "justify_items": null,
            "left": null,
            "margin": null,
            "max_height": null,
            "max_width": null,
            "min_height": null,
            "min_width": null,
            "object_fit": null,
            "object_position": null,
            "order": null,
            "overflow": null,
            "overflow_x": null,
            "overflow_y": null,
            "padding": null,
            "right": null,
            "top": null,
            "visibility": null,
            "width": null
          }
        },
        "047566aafa484f66a740a7de8656945b": {
          "model_module": "@jupyter-widgets/controls",
          "model_name": "ProgressStyleModel",
          "model_module_version": "1.5.0",
          "state": {
            "_model_module": "@jupyter-widgets/controls",
            "_model_module_version": "1.5.0",
            "_model_name": "ProgressStyleModel",
            "_view_count": null,
            "_view_module": "@jupyter-widgets/base",
            "_view_module_version": "1.2.0",
            "_view_name": "StyleView",
            "bar_color": null,
            "description_width": ""
          }
        },
        "b14296978feb4a9595826820cb0b26ab": {
          "model_module": "@jupyter-widgets/base",
          "model_name": "LayoutModel",
          "model_module_version": "1.2.0",
          "state": {
            "_model_module": "@jupyter-widgets/base",
            "_model_module_version": "1.2.0",
            "_model_name": "LayoutModel",
            "_view_count": null,
            "_view_module": "@jupyter-widgets/base",
            "_view_module_version": "1.2.0",
            "_view_name": "LayoutView",
            "align_content": null,
            "align_items": null,
            "align_self": null,
            "border": null,
            "bottom": null,
            "display": null,
            "flex": null,
            "flex_flow": null,
            "grid_area": null,
            "grid_auto_columns": null,
            "grid_auto_flow": null,
            "grid_auto_rows": null,
            "grid_column": null,
            "grid_gap": null,
            "grid_row": null,
            "grid_template_areas": null,
            "grid_template_columns": null,
            "grid_template_rows": null,
            "height": null,
            "justify_content": null,
            "justify_items": null,
            "left": null,
            "margin": null,
            "max_height": null,
            "max_width": null,
            "min_height": null,
            "min_width": null,
            "object_fit": null,
            "object_position": null,
            "order": null,
            "overflow": null,
            "overflow_x": null,
            "overflow_y": null,
            "padding": null,
            "right": null,
            "top": null,
            "visibility": null,
            "width": null
          }
        },
        "b14c5ceb82e8431a853cd334d4cd9317": {
          "model_module": "@jupyter-widgets/controls",
          "model_name": "DescriptionStyleModel",
          "model_module_version": "1.5.0",
          "state": {
            "_model_module": "@jupyter-widgets/controls",
            "_model_module_version": "1.5.0",
            "_model_name": "DescriptionStyleModel",
            "_view_count": null,
            "_view_module": "@jupyter-widgets/base",
            "_view_module_version": "1.2.0",
            "_view_name": "StyleView",
            "description_width": ""
          }
        }
      }
    }
  },
  "cells": [
    {
      "cell_type": "markdown",
      "metadata": {
        "id": "view-in-github",
        "colab_type": "text"
      },
      "source": [
        "<a href=\"https://colab.research.google.com/github/ttogle918/news_by_kobert/blob/master/STS/BERTNextSentenceModel.ipynb\" target=\"_parent\"><img src=\"https://colab.research.google.com/assets/colab-badge.svg\" alt=\"Open In Colab\"/></a>"
      ]
    },
    {
      "cell_type": "markdown",
      "source": [
        "# NextSentencePrediction\n",
        "\n",
        "다음에 온 문장이 맞는지 예측\n",
        "\n",
        "\n",
        "참고\n",
        "+ [Bert 공식 Docs](https://huggingface.co/docs/transformers/model_doc/bert)\n",
        "+ [한국어 언어모델 종류](https://littlefoxdiary.tistory.com/81)"
      ],
      "metadata": {
        "id": "K6j19bR8TG2-"
      }
    },
    {
      "cell_type": "markdown",
      "source": [
        "## package 가져오기"
      ],
      "metadata": {
        "id": "omkYFcJAPmjH"
      }
    },
    {
      "cell_type": "code",
      "source": [
        "# !pip install sentencepiece transformers torch"
      ],
      "metadata": {
        "id": "gUFb-2H82WUN"
      },
      "execution_count": 4,
      "outputs": []
    },
    {
      "cell_type": "code",
      "source": [
        "# !pip install seqeval\n",
        "# !pip install torchtext pytorch-lightning\n",
        "# !pip install git+https://git@github.com/SKTBrain/KoBERT.git@master"
      ],
      "metadata": {
        "id": "T0KrXnVl2X-N"
      },
      "execution_count": 5,
      "outputs": []
    },
    {
      "cell_type": "code",
      "source": [
        "# !pip install sentence_transformers numpy scikit-learn scipy nltk tqdm"
      ],
      "metadata": {
        "id": "gye9YOvE7RSB"
      },
      "execution_count": 6,
      "outputs": []
    },
    {
      "cell_type": "code",
      "source": [
        "import pytorch_lightning as pl\n",
        "pl.__version__"
      ],
      "metadata": {
        "colab": {
          "base_uri": "https://localhost:8080/",
          "height": 35
        },
        "id": "IXmkDrPB2agz",
        "outputId": "f00533be-2fc5-4969-b040-ab26b8c528b1"
      },
      "execution_count": 1,
      "outputs": [
        {
          "output_type": "execute_result",
          "data": {
            "text/plain": [
              "'1.5.10'"
            ],
            "application/vnd.google.colaboratory.intrinsic+json": {
              "type": "string"
            }
          },
          "metadata": {},
          "execution_count": 1
        }
      ]
    },
    {
      "cell_type": "code",
      "source": [
        "import torch\n",
        "from torch import nn\n",
        "import torch.nn.functional as F\n",
        "from torch.utils.data import Dataset, DataLoader\n",
        "import numpy as np"
      ],
      "metadata": {
        "id": "FR1XoGvL2co1"
      },
      "execution_count": 2,
      "outputs": []
    },
    {
      "cell_type": "code",
      "source": [
        "from transformers import BertConfig, AdamW\n",
        "from transformers import BertForNextSentencePrediction\n",
        "from transformers import BertTokenizer"
      ],
      "metadata": {
        "id": "WqchZTVT2ggT"
      },
      "execution_count": 3,
      "outputs": []
    },
    {
      "cell_type": "code",
      "source": [
        "from tqdm import tqdm, tqdm_notebook\n",
        "from typing import Callable, List, Tuple\n",
        "from seqeval.metrics import accuracy_score"
      ],
      "metadata": {
        "id": "Fg5S56W22hzQ"
      },
      "execution_count": 4,
      "outputs": []
    },
    {
      "cell_type": "code",
      "source": [
        "import torch\n",
        "# gpu 연산이 가능하면 'cuda:0', 아니면 'cpu' 출력\n",
        "device = torch.device(\"cuda:0\" if torch.cuda.is_available() else \"cpu\")\n",
        "device, torch.cuda.device_count()"
      ],
      "metadata": {
        "colab": {
          "base_uri": "https://localhost:8080/"
        },
        "id": "NWmKplsf2kT3",
        "outputId": "0fc2ff14-011e-4697-dc25-6b4598208f28"
      },
      "execution_count": 5,
      "outputs": [
        {
          "output_type": "execute_result",
          "data": {
            "text/plain": [
              "(device(type='cuda', index=0), 1)"
            ]
          },
          "metadata": {},
          "execution_count": 5
        }
      ]
    },
    {
      "cell_type": "markdown",
      "source": [
        "## DataSet 가져오기"
      ],
      "metadata": {
        "id": "kdpm81D6PqNw"
      }
    },
    {
      "cell_type": "code",
      "execution_count": 6,
      "metadata": {
        "colab": {
          "base_uri": "https://localhost:8080/"
        },
        "id": "9w59GBsmp6OA",
        "outputId": "0bb2fbb0-c9fe-4c9d-eb1b-01b5041a0004"
      },
      "outputs": [
        {
          "output_type": "stream",
          "name": "stdout",
          "text": [
            "Drive already mounted at /content/drive; to attempt to forcibly remount, call drive.mount(\"/content/drive\", force_remount=True).\n"
          ]
        }
      ],
      "source": [
        "from google.colab import drive\n",
        "\n",
        "drive.mount('/content/drive')\n",
        "data_path = '/content/drive/My Drive/Colab Notebooks/NextLab/news_class9x1400'"
      ]
    },
    {
      "cell_type": "code",
      "source": [
        "def text_splicing(text, max_len) :\n",
        "  before_idx = 0\n",
        "  li = []\n",
        "  i = 0\n",
        "  while True:\n",
        "    if before_idx+max_len < len(text) :\n",
        "      li.append( [text[before_idx:before_idx+max_len], i] )\n",
        "      i += 1\n",
        "    else :\n",
        "      li.append(  [text[before_idx:], i] )\n",
        "      if len(li) < 2 :\n",
        "        return None   # 연결할 단락이 없으므로 dataset에 넣지 않는다.\n",
        "      return li\n",
        "\n",
        "    before_idx += max_len\n",
        "  return li"
      ],
      "metadata": {
        "id": "mE5gxyglqC-_"
      },
      "execution_count": 7,
      "outputs": []
    },
    {
      "cell_type": "code",
      "source": [
        "# 두 문장을 이어붙일 것이기 때문에 256/2인 128로 text를 나눴다.\n",
        "max_len = 128"
      ],
      "metadata": {
        "id": "xxAUazIhq7AJ"
      },
      "execution_count": 8,
      "outputs": []
    },
    {
      "cell_type": "code",
      "source": [
        "text = \"\"\"특정한 풍경을 통하여 개인적인 감정을 시각화한 사진전\n",
        "박진호는 1990년대에 자신의 벗은 몸을 복사기로 복제하여 실험적인 결과물을 생산한 작가로서 유명하다.\n",
        "그런데 이번에는 새벽녘의 달과 하늘을 카메라 앵글에 담아서 감상적인 이미지를 전시하였다.\n",
        "작가가 이번에 인사동에 있는 나우 갤러리에서 전시한 작품들은 달빛과 구름 낀 새벽하늘을 감성적인 느낌이 드는 결과물로 재구성하여 보여주고 있다.\n",
        "전시 작품마다 외형적으로 컬러가 자극적이고 전체적으로 톤도 어두워서 보는 이들을 감성적으로 동화시키는 표현전략을 구사하고 있다는 것을 알 수 있다.\n",
        "작가가 관심을 갖고 카메라 앵글에 담은 대상을 구체적으로 살펴보면 구름과 산봉우리 그리고 강변 풍경이다.\n",
        "그런데 왠지 표현대상과 소재가 낯설게 느껴지지 않고 너무나도 익숙하다.\n",
        "왜 그런 것 일까?\n",
        "그것은 작가가 표현대상으로 선택한 소재와 표현방식이 ‘일요 사진가’라고 일컬어지는 아마추어 작가들이 흔히 찍는 탐미적인 사진과 별다른 차이점이 없기 때문이다.\n",
        "사진은 시각예술이다.\n",
        "그러므로 작가가 표현하고자하는 주제와 관계없이 외형적으로 보여 지고 느껴지는 것이 무엇보다도 중요하다.\n",
        "그런데도 아쉽게도 이번에 박진호가 발표한 풍경사진들은 외형적으로 아마추어 작가들의 유미주의적이고 감상적인 작품과의 차별화에 실패하였다.\n",
        "풍경사진이나 정물사진은 절제된 프레이밍과 세련된 컬러와 톤이 작품의 완성도를 보장하는데 있어서 중요한 요소로 작용한다.\n",
        "그러므로 주제선택과 더불어서 외형적으로는 그것을 좀 더 염두에 두고 작업을 진행을 했다면 최종 결과물의 완성도가 달라졌을 것이다.\n",
        "이번에 작가가 발표한 작품들은 누구나 폭넓게 이해할 수 있는 소재와 표현방식을 보여주고 있다. 하지만 자신만의 조형언어를 보여주는 데는 소홀히 했다는 것이 느껴진다.\n",
        "그래서 여러 가지로 아쉬운 점이 많은 전시가 되었다. 하지만 자신의 감정을 솔직하게 표현하여 결과물을 생산 한 것은 분명하다.\n",
        "특정한 풍경을 통하여 개인적인 감정을 시각화 전시이다.\"\"\".replace('\\n', '')\n",
        "\n",
        "text_splicing(text, max_len) "
      ],
      "metadata": {
        "colab": {
          "base_uri": "https://localhost:8080/"
        },
        "id": "YaLWkKfjrzPC",
        "outputId": "41b611cd-dbd1-4871-e4ea-66e50d6a0121"
      },
      "execution_count": 9,
      "outputs": [
        {
          "output_type": "execute_result",
          "data": {
            "text/plain": [
              "[['특정한 풍경을 통하여 개인적인 감정을 시각화한 사진전박진호는 1990년대에 자신의 벗은 몸을 복사기로 복제하여 실험적인 결과물을 생산한 작가로서 유명하다.그런데 이번에는 새벽녘의 달과 하늘을 카메라 앵글에 담아서 감상적인 이미지를',\n",
              "  0],\n",
              " [' 전시하였다.작가가 이번에 인사동에 있는 나우 갤러리에서 전시한 작품들은 달빛과 구름 낀 새벽하늘을 감성적인 느낌이 드는 결과물로 재구성하여 보여주고 있다.전시 작품마다 외형적으로 컬러가 자극적이고 전체적으로 톤도 어두워서 보는 ',\n",
              "  1],\n",
              " ['이들을 감성적으로 동화시키는 표현전략을 구사하고 있다는 것을 알 수 있다.작가가 관심을 갖고 카메라 앵글에 담은 대상을 구체적으로 살펴보면 구름과 산봉우리 그리고 강변 풍경이다.그런데 왠지 표현대상과 소재가 낯설게 느껴지지 않고 ',\n",
              "  2],\n",
              " ['너무나도 익숙하다.왜 그런 것 일까?그것은 작가가 표현대상으로 선택한 소재와 표현방식이 ‘일요 사진가’라고 일컬어지는 아마추어 작가들이 흔히 찍는 탐미적인 사진과 별다른 차이점이 없기 때문이다.사진은 시각예술이다.그러므로 작가가 ',\n",
              "  3],\n",
              " ['표현하고자하는 주제와 관계없이 외형적으로 보여 지고 느껴지는 것이 무엇보다도 중요하다.그런데도 아쉽게도 이번에 박진호가 발표한 풍경사진들은 외형적으로 아마추어 작가들의 유미주의적이고 감상적인 작품과의 차별화에 실패하였다.풍경사진이',\n",
              "  4],\n",
              " ['나 정물사진은 절제된 프레이밍과 세련된 컬러와 톤이 작품의 완성도를 보장하는데 있어서 중요한 요소로 작용한다.그러므로 주제선택과 더불어서 외형적으로는 그것을 좀 더 염두에 두고 작업을 진행을 했다면 최종 결과물의 완성도가 달라졌을',\n",
              "  5],\n",
              " [' 것이다.이번에 작가가 발표한 작품들은 누구나 폭넓게 이해할 수 있는 소재와 표현방식을 보여주고 있다. 하지만 자신만의 조형언어를 보여주는 데는 소홀히 했다는 것이 느껴진다.그래서 여러 가지로 아쉬운 점이 많은 전시가 되었다. 하',\n",
              "  6],\n",
              " ['지만 자신의 감정을 솔직하게 표현하여 결과물을 생산 한 것은 분명하다.특정한 풍경을 통하여 개인적인 감정을 시각화 전시이다.', 7]]"
            ]
          },
          "metadata": {},
          "execution_count": 9
        }
      ]
    },
    {
      "cell_type": "code",
      "source": [
        "import os\n",
        "content = []\n",
        "for (path, dir, files) in os.walk(data_path):\n",
        "    for filename in files:\n",
        "        ext = os.path.splitext(filename)[-1]\n",
        "        if ext == '.txt':\n",
        "            with open(\"%s/%s\" % (path, filename), encoding=\"utf-8\") as f:\n",
        "              label = path[path.rindex('/')+1:]\n",
        "              text = f.read()\n",
        "              temp_list = text_splicing(text.replace('\\n', ' '), max_len)\n",
        "              if temp_list is not None :\n",
        "                content.extend(temp_list)\n",
        "\n",
        "len(content), len(content[0]) # content : [(text, 단락 번호)]"
      ],
      "metadata": {
        "id": "MABJQRdUrJth",
        "colab": {
          "base_uri": "https://localhost:8080/"
        },
        "outputId": "220e5629-31a5-434f-8431-a748274ce709"
      },
      "execution_count": 10,
      "outputs": [
        {
          "output_type": "execute_result",
          "data": {
            "text/plain": [
              "(240216, 2)"
            ]
          },
          "metadata": {},
          "execution_count": 10
        }
      ]
    },
    {
      "cell_type": "code",
      "source": [
        "len(content)"
      ],
      "metadata": {
        "colab": {
          "base_uri": "https://localhost:8080/"
        },
        "id": "B1NkS6qwBQsn",
        "outputId": "7ae3512c-8f02-4b8b-cd52-3ef8f34d0625"
      },
      "execution_count": 11,
      "outputs": [
        {
          "output_type": "execute_result",
          "data": {
            "text/plain": [
              "240216"
            ]
          },
          "metadata": {},
          "execution_count": 11
        }
      ]
    },
    {
      "cell_type": "code",
      "source": [
        "# label : 0 is True, 1 is False\n",
        "import random\n",
        "i, len_content = 0, len(content)\n",
        "dataset = []\n",
        "right_li, wrong_li = [], []   # 추가할 list\n",
        "before_text = content[0][0]\n",
        "while i < len_content :\n",
        "  text = content[i][0]\n",
        "  idx = content[i][1]\n",
        "  if idx > 0 :    # label : right\n",
        "    right_li.append( (before_text, text, 0) )   # right\n",
        "\n",
        "  # idx == 0 and len(li) == 1 인 경우는 없다. file read할 때 넣지 않았다. \n",
        "  elif idx == 0 and len(right_li) > 1 :   # label : wrong \n",
        "    len_li = len(right_li)\n",
        "    for t in right_li :\n",
        "      rd = random.randint(0, len_content-len_li-1)\n",
        "      wrong_text = content[rd][0] if rd < i-len_li else content[rd+len_li][0]   # random으로 고르기 ( 같은 기사 제외 )\n",
        "      wrong_li.append((t[0], wrong_text, 1) )\n",
        "    dataset.extend(right_li)\n",
        "    dataset.extend(wrong_li)\n",
        "    right_li, wrong_li = [], []\n",
        "  before_text = text\n",
        "  i += 1\n",
        "len_content, len(dataset)"
      ],
      "metadata": {
        "colab": {
          "base_uri": "https://localhost:8080/"
        },
        "id": "m9zgCD5pri-p",
        "outputId": "686c6e8b-5c6c-458d-b6be-c0811d631ca6"
      },
      "execution_count": 12,
      "outputs": [
        {
          "output_type": "execute_result",
          "data": {
            "text/plain": [
              "(240216, 455188)"
            ]
          },
          "metadata": {},
          "execution_count": 12
        }
      ]
    },
    {
      "cell_type": "code",
      "source": [
        "dataset[-3:]"
      ],
      "metadata": {
        "colab": {
          "base_uri": "https://localhost:8080/"
        },
        "id": "JtP9xT_5EVzA",
        "outputId": "af7aa2ce-3789-4412-dacb-226a3c3697b0"
      },
      "execution_count": 13,
      "outputs": [
        {
          "output_type": "execute_result",
          "data": {
            "text/plain": [
              "[(' 의미에서 종택의 이름도 그렇게 정했다고 한다. 현판은 안동 퇴계종손이 직접 써준 것이라고 한다. 무송헌(撫松軒) 김담(金淡, 1416년~1464년)선생은 영주출신으로 호는 무송헌이며 조선 세종~문종 때의 명신이다. 이조 판서를 ',\n",
              "  '뮤지컬 명성황후 일본 땅 밟는다 뮤지컬 명성황후가 처음으로 가해자의 땅 일본을 밟는다. 가해자들이 대거 동원된 구마모토(熊本)에서 명성황후 아리아가 울러 퍼진다. 뮤지컬 <명성황후> 기획사인 에이콤 인터네셔날은 2009 명성황후의',\n",
              "  1),\n",
              " ('지냈다. 시호는 문절(文節)공이며, 단계서원(丹溪書院), 구강서원(龜江書院)에 배향되어 있다. 그는 세계적인 수준의 역법서를 제작한 천문학자로 세종대왕 당시 집현전 학사로 17년간 재직했다. 재직 시 칠정산(七政算) 내외편(內外篇',\n",
              "  '어린 골잡이 마케다와 짝을 이룬 마이클 오언이 29분에 오른발 돌려차기로 1-1을 만들기는 했지만 후반전이 거의 끝나가도록 1-3이라는 충격적인 점수차를 좁히지 못하고 있었다. 후반전 초반에 내준 바실리 베레주츠키의 헤더가 꽤나 ',\n",
              "  1),\n",
              " (')의 편찬을 주도했다. 칠정산 내외편은 세종24년(1442)에 완성되었는데, 전문가들은 아랍의 천문학보다 앞선 동 시대 세계에서 가장 앞선 천문 계산술로 평가하고 있다. 일본이 이러한 수준의 연구를 한 것이 1682년이라고 하니 ',\n",
              "  '런 만화를 그릴 수가 없어요. 만화는 풍자, 유머 등인데 메스보다 더한 날카로움이 있습니다. [임청산 교수] 매년 가을마다 18년간 대전국제만화 영상전을 해왔습니다. 가장 예술적인 게 읽는 만화 카툰입니다. 이번 전시회는 국내 최',\n",
              "  1)]"
            ]
          },
          "metadata": {},
          "execution_count": 13
        }
      ]
    },
    {
      "cell_type": "code",
      "source": [
        "from sklearn.model_selection import train_test_split\n",
        "\n",
        "# Split Train and Validation data\n",
        "train, test = train_test_split(dataset, test_size=0.2, random_state=0, shuffle=True)\n",
        "train, val = train_test_split(train, test_size=0.2, random_state=0, shuffle=True)\n",
        "print(\"train :\", len(train), \"  val :\", len(val), \"  test :\", len(test))"
      ],
      "metadata": {
        "colab": {
          "base_uri": "https://localhost:8080/"
        },
        "id": "RMkcFFbrsXhh",
        "outputId": "37d52cae-26f0-486d-c724-8c542f1c0a60"
      },
      "execution_count": 14,
      "outputs": [
        {
          "output_type": "stream",
          "name": "stdout",
          "text": [
            "train : 291320   val : 72830   test : 91038\n"
          ]
        }
      ]
    },
    {
      "cell_type": "code",
      "source": [
        "del content\n",
        "del dataset\n",
        "del right_li\n",
        "del wrong_li\n",
        "del before_text\n",
        "del text"
      ],
      "metadata": {
        "id": "nNYBWi0xduEq"
      },
      "execution_count": 15,
      "outputs": []
    },
    {
      "cell_type": "code",
      "source": [
        "train[0]"
      ],
      "metadata": {
        "id": "K0ynXgR8TVY1",
        "colab": {
          "base_uri": "https://localhost:8080/"
        },
        "outputId": "17630eb3-44f5-4088-b03c-6c802469077b"
      },
      "execution_count": 16,
      "outputs": [
        {
          "output_type": "execute_result",
          "data": {
            "text/plain": [
              "('무슨 책을 읽어야 할지 모른겠다면 이 책을 보라 가끔 사람들이 내게 묻는 말이 있다. 살아가면서 즐거운 일이 있냐고? 그때 난 말한다. 즐거운 일이 뭐가 있겠는가. 고달프고 부대끼면서 사는 거지. 그러면서 한 가지 덧붙이는 게 있',\n",
              " '이후에는 벌서 12년째 PS 무대에 빠지지 않고 개근중이다. 반면 프로야구 역대 최다 꼴찌의 영광(?)은 롯데 자이언츠의 몫이다. 구도라는 명성에 걸맞지 않게 2000년대에만 프로야구 사상 전무후무한 4년 연속 꼴찌를 기록하는 등',\n",
              " 1)"
            ]
          },
          "metadata": {},
          "execution_count": 16
        }
      ]
    },
    {
      "cell_type": "markdown",
      "source": [
        "# 모델 선언"
      ],
      "metadata": {
        "id": "31Q471XjP7Lq"
      }
    },
    {
      "cell_type": "markdown",
      "source": [
        "## CorpusDataset"
      ],
      "metadata": {
        "id": "UPkYoWMAKaTB"
      }
    },
    {
      "cell_type": "code",
      "source": [
        "class CorpusDataset(Dataset):\n",
        "    def __init__(self, sentences, transform: Callable):\n",
        "        self.sentences = sentences\n",
        "        self.transform = transform\n",
        "\n",
        "    def __len__(self):\n",
        "        return len(self.sentences)\n",
        "\n",
        "    def __getitem__(self, idx):\n",
        "        prompt = self.sentences[idx][0]\n",
        "        next_sentence = self.sentences[idx][1]\n",
        "        label = self.sentences[idx][2]\n",
        "        (\n",
        "            input_ids,\n",
        "            attention_mask,\n",
        "            token_type_ids,\n",
        "            label, \n",
        "        ) = self.transform(prompt, next_sentence, label)\n",
        "\n",
        "        return input_ids, attention_mask, token_type_ids, label"
      ],
      "metadata": {
        "id": "IUOliQisGaBx"
      },
      "execution_count": 17,
      "outputs": []
    },
    {
      "cell_type": "markdown",
      "source": [
        "## Preprocessor"
      ],
      "metadata": {
        "id": "WI0AtpHWKdM0"
      }
    },
    {
      "cell_type": "code",
      "source": [
        "from typing import List, Tuple\n",
        "\n",
        "class Preprocessor :\n",
        "    def __init__(self, max_len: int):\n",
        "        self.tokenizer = BertTokenizer.from_pretrained(\"snunlp/KR-Medium\", do_lower_case=False)\n",
        "        self.max_len = max_len\n",
        "        self.pad_token_id = 0\n",
        "\n",
        "    def get_input_features(self, prompt, next_sentence, label\n",
        "    ) -> Tuple[torch.Tensor, torch.Tensor, torch.Tensor, torch.Tensor]:\n",
        "        \"\"\"두 문장(prompt, next_sentence)에 대해 tokenize한 뒤 id로 변환, 두 문장을 이버붙인다.\n",
        "\n",
        "        Args:\n",
        "            prompt: 이전 문장\n",
        "            next_sentence: 이어질 다음 문장\n",
        "            label : 두 문장이 이어지면 0, 아니면 1\n",
        "\n",
        "        Returns:\n",
        "            feature를 리턴한다.\n",
        "            input_ids : 각 토큰의 id, 2(CLS)로 시작, 3(SEP)\n",
        "            attention_mask : padding은 0, 데이터가 존재하면 1\n",
        "            token_type_ids : prompt 위치는 0, next_sentence 위치는 1, 1 뒤의 0은 패딩\n",
        "            label : 정답이면 [1, 0], 오답이면 [0, 1]\n",
        "        \"\"\"\n",
        "        tok_prompt = self.tokenizer.tokenize(prompt)\n",
        "        tok_next_sen = self.tokenizer.tokenize(next_sentence)\n",
        "\n",
        "        input_ids = [2] + self.tokenizer.convert_tokens_to_ids(tok_prompt) + [3]    # 처음과 끝 표시\n",
        "        input_ids_next_sen = [2]+ self.tokenizer.convert_tokens_to_ids(tok_next_sen)+ [3]\n",
        "\n",
        "        slicing_idx = 0\n",
        "        if len(input_ids) + len(input_ids_next_sen) > self.max_len :\n",
        "          slicing_idx = len(input_ids) + len(input_ids_next_sen) - self.max_len // 2 + 2\n",
        "          input_ids = [2] + input_ids[slicing_idx:]\n",
        "          input_ids_next_sen = input_ids_next_sen[:-slicing_idx] + [3]\n",
        "\n",
        "        token_type_ids = [0]*len(input_ids)\n",
        "        token_type_ids.extend([1]*len(input_ids_next_sen))\n",
        "        input_ids.extend(input_ids_next_sen)\n",
        "        attention_mask = [1] * len(token_type_ids)\n",
        "        pad_length = self.max_len-len(input_ids)\n",
        "\n",
        "        input_ids.extend([0] * pad_length)\n",
        "        token_type_ids.extend([0] * pad_length) # pad : 0\n",
        "        attention_mask.extend([0] * pad_length) # pad : 0\n",
        "\n",
        "        input_ids = torch.tensor(input_ids, dtype=torch.int)\n",
        "        attention_mask = torch.tensor(attention_mask, dtype=torch.int)\n",
        "        token_type_ids = torch.tensor(token_type_ids, dtype=torch.int)\n",
        "\n",
        "        label = [1.0, 0.] if label == 0 else [0., 1.0]\n",
        "        label = torch.tensor(label, dtype=torch.float)\n",
        "        return input_ids, attention_mask, token_type_ids, label"
      ],
      "metadata": {
        "id": "R3Z2VLbaFEK8"
      },
      "execution_count": 18,
      "outputs": []
    },
    {
      "cell_type": "markdown",
      "source": [
        "## BERTNextSentenceModel"
      ],
      "metadata": {
        "id": "RYnZN7OwSROj"
      }
    },
    {
      "cell_type": "code",
      "source": [
        "from math import log\n",
        "class BertOnlyNSPHead(pl.LightningModule):\n",
        "    def __init__(self, config):\n",
        "        super().__init__()\n",
        "        self.seq_relationship = nn.Linear(config.hidden_size, 2)\n",
        "\n",
        "    def forward(self, pooled_output):\n",
        "        seq_relationship_score = self.seq_relationship(pooled_output)\n",
        "        print(seq_relationship_score, len(seq_relationship_score))\n",
        "        return seq_relationship_score\n",
        "\n",
        "# NextSentencePredictorOutput\n",
        "class BERTNextSentenceModel(pl.LightningModule):\n",
        "    def __init__(self, config, dataset):\n",
        "        super().__init__()\n",
        "        print(\"init\")\n",
        "        self.config = config\n",
        "        self.dataset = dataset\n",
        "        self.labels_type = [0,1]\n",
        "        self.pad_token_id = 0\n",
        "        self.softmax = torch.nn.Softmax()\n",
        "        self.bert_config = BertConfig.from_pretrained(\n",
        "            self.config.bert_model, num_labels=2\n",
        "        )\n",
        "        self.model = BertForNextSentencePrediction.from_pretrained(\n",
        "            self.config.bert_model, config=self.bert_config\n",
        "        )\n",
        "        self.cls = BertOnlyNSPHead(config)\n",
        "        self.dropout = nn.Dropout(self.config.dropout_rate)\n",
        "        self.linear = nn.Linear(\n",
        "            self.bert_config.hidden_size, len(self.labels_type)\n",
        "        )\n",
        "\n",
        "    def forward(self,\n",
        "        input_ids=None, attention_mask=None, token_type_ids=None, position_ids=None,\n",
        "        head_mask=None, inputs_embeds=None, labels=None, output_attentions=None, output_hidden_states=None,\n",
        "        return_dict=None, **kwargs, ):\n",
        "        \"\"\"\n",
        "        return NextSentencePredictorOutput(\n",
        "            loss=next_sentence_loss,\n",
        "            logits=seq_relationship_scores,\n",
        "            hidden_states=outputs.hidden_states,\n",
        "            attentions=outputs.attentions,\n",
        "        )\n",
        "\n",
        "        \"\"\"\n",
        "        logits = self.model(input_ids, token_type_ids=token_type_ids).logits\n",
        "        probs = self.softmax(logits)\n",
        "        return probs\n",
        "\n",
        "    def training_step(self, batch, batch_nb):\n",
        "        input_ids, attention_mask, token_type_ids, label_ids = batch\n",
        "        \n",
        "        outputs = self(\n",
        "            input_ids=input_ids,\n",
        "            attention_mask=attention_mask,\n",
        "            token_type_ids=token_type_ids,\n",
        "            labels=label_ids,\n",
        "        )\n",
        "\n",
        "        loss = self._calculate_loss(outputs, label_ids) # slot_labels : labels\n",
        "        # f1 = self._f1_score(outputs, label_ids)\n",
        "        acc = self._calculate_accuracy(outputs, label_ids)\n",
        "        tensorboard_logs = {'train_loss': loss, 'train_acc':acc}\n",
        "        return {\"loss\": loss, \"acc\": acc, \"log\": tensorboard_logs}\n",
        "\n",
        "    def training_end(self, batch, batch_nb):\n",
        "        input_ids, attention_mask, token_type_ids, label_ids = batch\n",
        "\n",
        "        outputs = self(\n",
        "            input_ids=input_ids,\n",
        "            attention_mask=attention_mask,\n",
        "            token_type_ids=token_type_ids,\n",
        "        )\n",
        "        loss = self._calculate_loss(outputs, label_ids) # slot_labels : labels\n",
        "        # f1 = self._f1_score(outputs, slot_label_ids)\n",
        "        acc = self._calculate_accuracy(outputs, label_ids)\n",
        "\n",
        "        tensorboard_logs = {'train_loss': loss, 'train_acc':acc}\n",
        "        print(\"training_end : \", tensorboard_logs)\n",
        "        return {\"loss\": loss, \"acc\": acc, \"log\": tensorboard_logs}\n",
        "\n",
        "    def training_epoch_end(self, outputs):\n",
        "        super().on_train_epoch_end()\n",
        "        print(\"training_epoch_end\")\n",
        "            \n",
        "        avg_loss = torch.stack([x['loss'] for x in outputs]).mean()\n",
        "        # val_f1 = torch.stack([x['val_f1'] for x in outputs]).mean()\n",
        "        acc = torch.stack([x['acc'] for x in outputs]).mean()\n",
        "        tensorboard_logs = {'loss': avg_loss, 'acc': acc}\n",
        "        print('training_epoch_end : ', tensorboard_logs)\n",
        "        self.log(\"validation_epoch_end : tensorboard_logs \", tensorboard_logs)\n",
        "\n",
        "    def validation_step(self, batch, batch_nb):\n",
        "        input_ids, attention_mask, token_type_ids, slot_label_ids = batch\n",
        "        outputs = self(\n",
        "            input_ids=input_ids,\n",
        "            attention_mask=attention_mask,\n",
        "            token_type_ids=token_type_ids,\n",
        "        )\n",
        "        loss = self._calculate_loss(outputs, slot_label_ids)\n",
        "        # val_f1 = self._f1_score(outputs, slot_label_ids)\n",
        "        val_acc = self._calculate_accuracy(outputs, slot_label_ids)\n",
        "        return {\"val_loss\": loss, 'val_acc':val_acc}\n",
        "\n",
        "    def validation_epoch_end(self, outputs):\n",
        "      \n",
        "        avg_loss = torch.stack([x['val_loss'] for x in outputs]).mean()\n",
        "        # val_f1 = torch.stack([x['val_f1'] for x in outputs]).mean()\n",
        "        val_acc = torch.stack([x['val_acc'] for x in outputs]).mean()\n",
        "        tensorboard_logs = {'val_loss': avg_loss, 'val_acc':val_acc}\n",
        "        print('validation_epoch_end : ', tensorboard_logs)\n",
        "        self.log('val_acc', val_acc)\n",
        "        self.log('val_loss', avg_loss)\n",
        "        return {'val_acc':val_acc, 'val_loss': avg_loss, 'log': tensorboard_logs}\n",
        "    \n",
        "    def validation_end(self, outputs):\n",
        "        print('validation_end : ')\n",
        "\n",
        "        val_loss = torch.stack([x[\"val_loss\"] for x in outputs]).mean()\n",
        "        val_acc = torch.stack([x[\"val_acc\"] for x in outputs]).mean()\n",
        "        # val_f1 = torch.stack([x[\"val_f1\"] for x in outputs]).mean()\n",
        "        tensorboard_logs = {\n",
        "            \"val_loss\": val_loss,\n",
        "            \"val_acc\" : val_acc\n",
        "        }\n",
        "        print(\"validation_end : \", tensorboard_logs)\n",
        "        return {'val_acc':val_acc, 'val_loss': val_loss, 'log': tensorboard_logs}\n",
        "    \n",
        "    def test_step(self, batch, batch_nb):\n",
        "        input_ids, attention_mask, token_type_ids, slot_label_ids = batch\n",
        "        outputs = self(\n",
        "            input_ids=input_ids,\n",
        "            attention_mask=attention_mask,\n",
        "            token_type_ids=token_type_ids,\n",
        "        )\n",
        "\n",
        "        # f1 = self._f1_score(gt_slot_labels, pred_slot_labels)\n",
        "        acc = self._calculate_accuracy(outputs, slot_label_ids)\n",
        "        loss = self._calculate_loss(outputs, slot_label_ids)\n",
        "        return {\"test_loss\": loss, \"test_acc\": acc}\n",
        "\n",
        "    def test_end(self, outputs):\n",
        "\n",
        "        # test_f1 = torch.stack([x[\"test_f1\"] for x in outputs]).mean()\n",
        "        test_loss = torch.stack([x[\"test_loss\"] for x in outputs]).mean()\n",
        "        test_acc = torch.stack([x[\"test_acc\"] for x in outputs]).mean()\n",
        "        self.log(\"test_loss\", test_loss)\n",
        "        self.log(\"test_acc\", test_acc)\n",
        "        # self.log(\"test_f1\", test_f1)\n",
        "        return {\"labels\" : [x[\"labels\"] for x in outputs], \"test_loss\": test_loss,  \"test_acc\": test_acc}\n",
        "    \n",
        "    def test_epoch_end(self, outputs):\n",
        "        avg_loss = torch.stack([x['test_loss'] for x in outputs]).mean()\n",
        "        # f1 = torch.stack([x['test_f1'] for x in outputs]).mean()\n",
        "        acc = torch.stack([x['test_acc'] for x in outputs]).mean()\n",
        "        tensorboard_logs = {'test_loss': avg_loss, 'test_acc':acc}\n",
        "        print('test_epoch_end : ', tensorboard_logs)\n",
        "        self.log(\"test_epoch_end : tensorboard_logs \", tensorboard_logs)\n",
        "        return {'test_acc':acc, 'test_loss': avg_loss, 'log': tensorboard_logs}\n",
        "\n",
        "    def predict_step(self, batch, batch_idx, dataloader_idx=0):   # prediction : forward(), predict_step()\n",
        "        input_ids, attention_mask, token_type_ids, label_ids = batch    # slot_label은 없음.\n",
        "        outputs = self(\n",
        "            input_ids=input_ids,\n",
        "            attention_mask=attention_mask,\n",
        "            token_type_ids=token_type_ids,\n",
        "        )\n",
        "\n",
        "        return {'pred_labels':outputs, 'slot_label_ids': label_ids}\n",
        "\n",
        "\n",
        "    def configure_optimizers(self):\n",
        "        return AdamW(self.model.parameters(), lr=2e-5, eps=1e-8)\n",
        "\n",
        "    def train_dataloader(self):\n",
        "        return DataLoader(self.dataset[\"train\"], batch_size=self.config.eval_batch_size)\n",
        "\n",
        "    def val_dataloader(self):\n",
        "        return DataLoader(self.dataset[\"val\"], batch_size=self.config.eval_batch_size)\n",
        "\n",
        "    def test_dataloader(self):\n",
        "        return DataLoader(self.dataset[\"test\"], batch_size=self.config.eval_batch_size)\n",
        "\n",
        "    def pred_dataloader(self, dataset):\n",
        "        return DataLoader(dataset, batch_size=1)\n",
        "\n",
        "    def _calculate_loss(self, outputs, labels):   # 확률에서 얼마나 떨어져있는가?\n",
        "        loss = F.cross_entropy(outputs, labels)\n",
        "        return loss\n",
        "        \n",
        "    def _calculate_accuracy(self, outputs, labels):   # 0.5보다 크면 1, 아니면 0으로 labeling\n",
        "        active_logits = torch.argmax(outputs, dim=1)\n",
        "        active_labels = torch.argmax(labels, dim=1)\n",
        "        accuracy = accuracy_score(active_logits, active_labels)\n",
        "        return accuracy\n",
        "\n",
        "    # def _f1_score(self, outputs, labels):\n",
        "    #     print('_f1_score : ')\n",
        "\n",
        "    #     active_logits = outputs.view(-1)\n",
        "    #     active_labels = labels.view(-1)\n",
        "    #     print(active_logits, active_logits)\n",
        "    #     f1 = F1Score()\n",
        "    #     f1 = f1(active_logits, active_logits)\n",
        "    #     print(f1)\n",
        "    #     return f1\n",
        "\n",
        "    def _convert_ids_to_labels(self, outputs, slot_labels):\n",
        "        _, y_hat = torch.max(outputs, dim=2)\n",
        "        y_hat = y_hat.detach().cpu().numpy()\n",
        "        slot_label_ids = slot_labels.detach().cpu().numpy()\n",
        "\n",
        "        slot_label_map = {i: label for i, label in enumerate(self.slot_labels_type)}\n",
        "        slot_gt_labels = [[] for _ in range(slot_label_ids.shape[0])]\n",
        "        slot_pred_labels = [[] for _ in range(slot_label_ids.shape[0])]\n",
        "\n",
        "        for i in range(slot_label_ids.shape[0]):\n",
        "            for j in range(slot_label_ids.shape[1]):\n",
        "                if slot_label_ids[i, j] != self.pad_token_id:\n",
        "                    slot_gt_labels[i].append(slot_label_map[slot_label_ids[i][j]])\n",
        "                    slot_pred_labels[i].append(slot_label_map[y_hat[i][j]])\n",
        "\n",
        "        return slot_pred_labels, slot_gt_labels"
      ],
      "metadata": {
        "id": "hkPjDg8xRzJc"
      },
      "execution_count": 19,
      "outputs": []
    },
    {
      "cell_type": "markdown",
      "source": [
        "## Config"
      ],
      "metadata": {
        "id": "gKfOPREESKO9"
      }
    },
    {
      "cell_type": "code",
      "source": [
        "# yaml 파일 대신에 객체로 생성\n",
        "class Config(BertConfig):\n",
        "  def __init__(self) :\n",
        "    super().__init__()\n",
        "    self.task= 'kor_nextsentence_prediction_'\n",
        "    self.log_path= data_path+'/logs'\n",
        "    self.bert_model = \"snunlp/KR-Medium\"    # 수정해야함!\n",
        "    self.max_len= 256\n",
        "    self.train_batch_size= 32\n",
        "    self.eval_batch_size= 32\n",
        "    self.dropout_rate= 0.1\n",
        "    self.gpus= torch.cuda.device_count()\n",
        "config = Config()"
      ],
      "metadata": {
        "id": "SjNMG75CSJsR"
      },
      "execution_count": 20,
      "outputs": []
    },
    {
      "cell_type": "markdown",
      "source": [
        "# Train\n",
        "\n",
        "loss는 softmax한 값에서 label( [0, 1] 혹은 [1, 0] )과 얼마나 떨어져있는가?\n",
        "\n",
        "acc는 softmax(확률) 값에서 더 큰 index를 label로 지정, output : [0, 1] 혹은 [1, 0], 따라서 성능측정은 acc를 보는 것이 더 낫다."
      ],
      "metadata": {
        "id": "RADAOb-DidY9"
      }
    },
    {
      "cell_type": "code",
      "source": [
        "preprocessor = Preprocessor(config.max_len)"
      ],
      "metadata": {
        "id": "cMHINMMQf-wi"
      },
      "execution_count": 21,
      "outputs": []
    },
    {
      "cell_type": "code",
      "source": [
        "dataset = {}\n",
        "dataset['train'] = CorpusDataset(train, preprocessor.get_input_features)\n",
        "dataset['val'] = CorpusDataset(val, preprocessor.get_input_features)\n",
        "dataset['test'] = CorpusDataset(test, preprocessor.get_input_features)"
      ],
      "metadata": {
        "id": "oM0u4PTTScqM"
      },
      "execution_count": 22,
      "outputs": []
    },
    {
      "cell_type": "code",
      "source": [
        "import gc\n",
        "gc.collect()"
      ],
      "metadata": {
        "colab": {
          "base_uri": "https://localhost:8080/"
        },
        "id": "j315XVgr8iDM",
        "outputId": "ccfdbb54-d97e-45ef-fad1-1d589d64327b"
      },
      "execution_count": 23,
      "outputs": [
        {
          "output_type": "execute_result",
          "data": {
            "text/plain": [
              "101"
            ]
          },
          "metadata": {},
          "execution_count": 23
        }
      ]
    },
    {
      "cell_type": "code",
      "source": [
        "# model = BertForNextSentencePrediction.from_pretrained(model_path)\n",
        "model = BERTNextSentenceModel(config, dataset).cuda()"
      ],
      "metadata": {
        "colab": {
          "base_uri": "https://localhost:8080/"
        },
        "id": "39QuRPjV8asV",
        "outputId": "398e1d8c-80ff-417d-ef77-47fe60cfa0f4"
      },
      "execution_count": 24,
      "outputs": [
        {
          "output_type": "stream",
          "name": "stdout",
          "text": [
            "init\n"
          ]
        },
        {
          "output_type": "stream",
          "name": "stderr",
          "text": [
            "Some weights of the model checkpoint at snunlp/KR-Medium were not used when initializing BertForNextSentencePrediction: ['cls.predictions.transform.LayerNorm.bias', 'cls.predictions.decoder.bias', 'cls.predictions.bias', 'cls.predictions.transform.dense.bias', 'cls.predictions.decoder.weight', 'cls.predictions.transform.dense.weight', 'cls.predictions.transform.LayerNorm.weight']\n",
            "- This IS expected if you are initializing BertForNextSentencePrediction from the checkpoint of a model trained on another task or with another architecture (e.g. initializing a BertForSequenceClassification model from a BertForPreTraining model).\n",
            "- This IS NOT expected if you are initializing BertForNextSentencePrediction from the checkpoint of a model that you expect to be exactly identical (initializing a BertForSequenceClassification model from a BertForSequenceClassification model).\n"
          ]
        }
      ]
    },
    {
      "cell_type": "code",
      "source": [
        "from pytorch_lightning.loggers import TensorBoardLogger\n",
        "from pytorch_lightning.callbacks.model_checkpoint import ModelCheckpoint\n",
        "from pytorch_lightning.callbacks import LearningRateMonitor\n",
        "\n",
        "logger = TensorBoardLogger(\n",
        "    save_dir=os.path.join(config.log_path, config.task), version=3, name=config.task\n",
        ")\n",
        "\n",
        "acc_checkpoint_callback = ModelCheckpoint(\n",
        "    dirpath=data_path+'/sts/checkpoints/'+ config.task, \n",
        "    filename=\"{epoch}_{val_acc:2f}_{other_metric:.2f}\",\n",
        "    verbose=True,\n",
        "    monitor='val_acc',\n",
        "    mode='max',\n",
        "    save_top_k=1,\n",
        "    save_last=True)\n",
        "\n",
        "lrmonitor_callback = LearningRateMonitor(logging_interval='step')"
      ],
      "metadata": {
        "id": "bcmvuRLRRPJk"
      },
      "execution_count": 25,
      "outputs": []
    },
    {
      "cell_type": "code",
      "source": [
        "import gc\n",
        "gc.collect()"
      ],
      "metadata": {
        "colab": {
          "base_uri": "https://localhost:8080/"
        },
        "id": "fJRxFZL7BKVe",
        "outputId": "ad0e7d2c-6d5c-4e3f-ae95-7821df70ce01"
      },
      "execution_count": 26,
      "outputs": [
        {
          "output_type": "execute_result",
          "data": {
            "text/plain": [
              "685"
            ]
          },
          "metadata": {},
          "execution_count": 26
        }
      ]
    },
    {
      "cell_type": "code",
      "source": [
        "trainer = pl.Trainer(\n",
        "    gpus=config.gpus,\n",
        "    callbacks=[acc_checkpoint_callback, lrmonitor_callback],\n",
        "    logger=logger,\n",
        "    max_epochs=2,\n",
        ")\n",
        "\n",
        "trainer.fit(model)"
      ],
      "metadata": {
        "colab": {
          "base_uri": "https://localhost:8080/",
          "height": 693,
          "referenced_widgets": [
            "1db3eabb0c6446888b7bbee6c3ce472f",
            "be91f480fc9a44c58ea30f46a0e1f10e",
            "4876f233ffc4497aadb0d61ef07e74bc",
            "2efc213c87964eab9827f840b7d348ed",
            "970014013168429dbfa83c78bd2516e2",
            "8fbad6f36e2f43e493ac7a8670e6afec",
            "00b13eab1c9c4ac2991ebb1a70a1ca68",
            "1524c23b37f54942ad21a576df2f749c",
            "c43cd6587ece466f916c651099b473ed",
            "648f7e372de94ab88a7a84472caca8b3",
            "97429db8e4794ec4a5436051877b70e3",
            "ed961521a47c43d9a3b4f69b1afe6e5d",
            "ab498ce405a34264b1f3fbc18f4832ee",
            "afc51efc70394a6895185cba25b3645c",
            "48ee9b3043b74bae9171539018ddec90",
            "b472e4af65cd4c07a35b4607f775970d",
            "816b6f03509742df9b37aac5f4114001",
            "1913f2f4ef124a76a655dd42d8472d70",
            "7a4ed97cfc694ffc8fe624b713e0f90a",
            "9f6b8526263f4e8cbccd9137b8ac99c5",
            "abd7ca269b37494db923cd33bb8d9880",
            "838345f0db504833aabe63c2c796a374",
            "8b25523f3499479c9e71fdf2a57fb2cc",
            "c1eb626c6342409eb7890fc9a7df7a19",
            "c81fcd84bce0480aa6af4a5e4c088fa3",
            "bf36beeb09c44a6abf3fa9aa45c28875",
            "f1b62eb6dfb5484aa85128c00cc583ad",
            "2002215c6e284928acaa0b3237a0e65a",
            "7d068c46b79146d6bbdaf7795e8d4dc8",
            "289ecffdbec94875a87e7125f8343f4c",
            "c9e06d3956274036a6b12c15789f1ede",
            "b83c3032f51d4cb3ae0d7b608b2b462c",
            "23325eb5ea5e44e182176416378e9442"
          ]
        },
        "id": "fO0tsGHDhz1A",
        "outputId": "9213c0b0-488c-4b5e-ff98-20b60895c98b"
      },
      "execution_count": null,
      "outputs": [
        {
          "output_type": "stream",
          "name": "stderr",
          "text": [
            "GPU available: True, used: True\n",
            "TPU available: False, using: 0 TPU cores\n",
            "IPU available: False, using: 0 IPUs\n",
            "LOCAL_RANK: 0 - CUDA_VISIBLE_DEVICES: [0]\n",
            "/usr/local/lib/python3.7/dist-packages/transformers/optimization.py:309: FutureWarning: This implementation of AdamW is deprecated and will be removed in a future version. Use the PyTorch implementation torch.optim.AdamW instead, or set `no_deprecation_warning=True` to disable this warning\n",
            "  FutureWarning,\n",
            "\n",
            "  | Name    | Type                          | Params\n",
            "----------------------------------------------------------\n",
            "0 | softmax | Softmax                       | 0     \n",
            "1 | model   | BertForNextSentencePrediction | 101 M \n",
            "2 | cls     | BertOnlyNSPHead               | 1.5 K \n",
            "3 | dropout | Dropout                       | 0     \n",
            "4 | linear  | Linear                        | 1.5 K \n",
            "----------------------------------------------------------\n",
            "101 M     Trainable params\n",
            "0         Non-trainable params\n",
            "101 M     Total params\n",
            "405.624   Total estimated model params size (MB)\n",
            "/usr/local/lib/python3.7/dist-packages/pytorch_lightning/callbacks/model_checkpoint.py:631: UserWarning: Checkpoint directory /content/drive/My Drive/Colab Notebooks/NextLab/news_class9x1400/sts/checkpoints/kor_nextsentence_prediction_ exists and is not empty.\n",
            "  rank_zero_warn(f\"Checkpoint directory {dirpath} exists and is not empty.\")\n"
          ]
        },
        {
          "output_type": "display_data",
          "data": {
            "text/plain": [
              "Validation sanity check: 0it [00:00, ?it/s]"
            ],
            "application/vnd.jupyter.widget-view+json": {
              "version_major": 2,
              "version_minor": 0,
              "model_id": "1db3eabb0c6446888b7bbee6c3ce472f"
            }
          },
          "metadata": {}
        },
        {
          "output_type": "stream",
          "name": "stderr",
          "text": [
            "/usr/local/lib/python3.7/dist-packages/pytorch_lightning/trainer/data_loading.py:133: UserWarning: The dataloader, val_dataloader 0, does not have many workers which may be a bottleneck. Consider increasing the value of the `num_workers` argument` (try 4 which is the number of cpus on this machine) in the `DataLoader` init to improve performance.\n",
            "  f\"The dataloader, {name}, does not have many workers which may be a bottleneck.\"\n",
            "/usr/local/lib/python3.7/dist-packages/ipykernel_launcher.py:48: UserWarning: Implicit dimension choice for softmax has been deprecated. Change the call to include dim=X as an argument.\n"
          ]
        },
        {
          "output_type": "stream",
          "name": "stdout",
          "text": [
            "validation_epoch_end :  {'val_loss': tensor(0.3760, device='cuda:0'), 'val_acc': tensor(0.9375, device='cuda:0')}\n"
          ]
        },
        {
          "output_type": "stream",
          "name": "stderr",
          "text": [
            "/usr/local/lib/python3.7/dist-packages/pytorch_lightning/trainer/data_loading.py:133: UserWarning: The dataloader, train_dataloader, does not have many workers which may be a bottleneck. Consider increasing the value of the `num_workers` argument` (try 4 which is the number of cpus on this machine) in the `DataLoader` init to improve performance.\n",
            "  f\"The dataloader, {name}, does not have many workers which may be a bottleneck.\"\n"
          ]
        },
        {
          "output_type": "display_data",
          "data": {
            "text/plain": [
              "Training: 0it [00:00, ?it/s]"
            ],
            "application/vnd.jupyter.widget-view+json": {
              "version_major": 2,
              "version_minor": 0,
              "model_id": "ed961521a47c43d9a3b4f69b1afe6e5d"
            }
          },
          "metadata": {}
        },
        {
          "output_type": "stream",
          "name": "stderr",
          "text": [
            "/usr/local/lib/python3.7/dist-packages/pytorch_lightning/loops/optimization/closure.py:36: LightningDeprecationWarning: One of the returned values {'acc', 'log'} has a `grad_fn`. We will detach it automatically but this behaviour will change in v1.6. Please detach it manually: `return {'loss': ..., 'something': something.detach()}`\n",
            "  f\"One of the returned values {set(extra.keys())} has a `grad_fn`. We will detach it automatically\"\n"
          ]
        },
        {
          "output_type": "display_data",
          "data": {
            "text/plain": [
              "Validating: 0it [00:00, ?it/s]"
            ],
            "application/vnd.jupyter.widget-view+json": {
              "version_major": 2,
              "version_minor": 0,
              "model_id": "8b25523f3499479c9e71fdf2a57fb2cc"
            }
          },
          "metadata": {}
        },
        {
          "output_type": "stream",
          "name": "stdout",
          "text": [
            "validation_epoch_end :  "
          ]
        },
        {
          "output_type": "stream",
          "name": "stderr",
          "text": [
            "Epoch 0, global step 9103: val_acc reached 0.97217 (best 0.97217), saving model to \"/content/drive/My Drive/Colab Notebooks/NextLab/news_class9x1400/sts/checkpoints/kor_nextsentence_prediction_/acc_epoch=0_val_loss=                           0.339202.ckpt\" as top 3\n"
          ]
        },
        {
          "output_type": "stream",
          "name": "stdout",
          "text": [
            "{'val_loss': tensor(0.3392, device='cuda:0'), 'val_acc': tensor(0.9722, device='cuda:0')}\n",
            "training_epoch_end\n",
            "training_epoch_end :  {'loss': tensor(0.3397, device='cuda:0'), 'acc': tensor(0.9722, device='cuda:0')}\n"
          ]
        },
        {
          "output_type": "stream",
          "name": "stderr",
          "text": [
            "Epoch 0, global step 9103: val_loss reached 0.33920 (best 0.33920), saving model to \"/content/drive/My Drive/Colab Notebooks/NextLab/news_class9x1400/sts/checkpoints/kor_nextsentence_prediction_/val_epoch=0_val_acc=0.972.ckpt\" as top 1\n"
          ]
        }
      ]
    },
    {
      "cell_type": "code",
      "source": [
        "trainer.test()"
      ],
      "metadata": {
        "colab": {
          "base_uri": "https://localhost:8080/",
          "height": 491,
          "referenced_widgets": [
            "cbe69e89ac184dcbabb0e19f821537e0",
            "bb589a25754d46a49807749a9f1ca538",
            "e6661f804c074345a7731b5067fea9c5",
            "193c2990b52d4143a898aa1e9b350109",
            "129885fc814d4343bcb72026898920a2",
            "57359ee041e44371be4985e421df437e",
            "2daec3d7091c4d3488431ffe0ec7482b",
            "fb27dfd922824dd1a0fe74efa94cb1ec",
            "047566aafa484f66a740a7de8656945b",
            "b14296978feb4a9595826820cb0b26ab",
            "b14c5ceb82e8431a853cd334d4cd9317"
          ]
        },
        "id": "zVNMIn89hOUb",
        "outputId": "6e8fa8e5-1859-4b8e-f3b2-5dc983cbcd60"
      },
      "execution_count": 216,
      "outputs": [
        {
          "output_type": "stream",
          "name": "stderr",
          "text": [
            "/usr/local/lib/python3.7/dist-packages/pytorch_lightning/trainer/trainer.py:1399: UserWarning: `.test(ckpt_path=None)` was called without a model. The best model of the previous `fit` call will be used. You can pass `test(ckpt_path='best')` to use and best model checkpoint and avoid this warning or `ckpt_path=trainer.checkpoint_callback.last_model_path` to use the last model.\n",
            "  f\"`.{fn}(ckpt_path=None)` was called without a model.\"\n",
            "Restoring states from the checkpoint path at /content/drive/My Drive/Colab Notebooks/NextLab/news_class9x1400/sts/checkpoints/kor_nextsentence_prediction_/acc_epoch=1_val_loss=                           0.351590.ckpt\n",
            "LOCAL_RANK: 0 - CUDA_VISIBLE_DEVICES: [0]\n",
            "Loaded model weights from checkpoint at /content/drive/My Drive/Colab Notebooks/NextLab/news_class9x1400/sts/checkpoints/kor_nextsentence_prediction_/acc_epoch=1_val_loss=                           0.351590.ckpt\n",
            "/usr/local/lib/python3.7/dist-packages/pytorch_lightning/trainer/data_loading.py:133: UserWarning: The dataloader, test_dataloader 0, does not have many workers which may be a bottleneck. Consider increasing the value of the `num_workers` argument` (try 4 which is the number of cpus on this machine) in the `DataLoader` init to improve performance.\n",
            "  f\"The dataloader, {name}, does not have many workers which may be a bottleneck.\"\n"
          ]
        },
        {
          "output_type": "display_data",
          "data": {
            "text/plain": [
              "Testing: 0it [00:00, ?it/s]"
            ],
            "application/vnd.jupyter.widget-view+json": {
              "version_major": 2,
              "version_minor": 0,
              "model_id": "cbe69e89ac184dcbabb0e19f821537e0"
            }
          },
          "metadata": {}
        },
        {
          "output_type": "stream",
          "name": "stderr",
          "text": [
            "/usr/local/lib/python3.7/dist-packages/ipykernel_launcher.py:48: UserWarning: Implicit dimension choice for softmax has been deprecated. Change the call to include dim=X as an argument.\n"
          ]
        },
        {
          "output_type": "stream",
          "name": "stdout",
          "text": [
            "tensor(0.3134, device='cuda:0')\n",
            "tensor(0.3233, device='cuda:0')\n",
            "tensor(0.3208, device='cuda:0')\n",
            "tensor(0.3452, device='cuda:0')\n",
            "tensor(0.3538, device='cuda:0')\n",
            "tensor(0.3154, device='cuda:0')\n",
            "tensor(0.3138, device='cuda:0')\n",
            "test_epoch_end :  {'test_loss': tensor(0.3265, device='cuda:0'), 'test_acc': tensor(0.9911, device='cuda:0')}\n",
            "--------------------------------------------------------------------------------\n",
            "DATALOADER:0 TEST RESULTS\n",
            "{'test_epoch_end : tensorboard_logs ': {'test_acc': tensor(0.9911, device='cuda:0'),\n",
            "                                        'test_loss': tensor(0.3265, device='cuda:0')}}\n",
            "--------------------------------------------------------------------------------\n"
          ]
        },
        {
          "output_type": "execute_result",
          "data": {
            "text/plain": [
              "[{'test_epoch_end : tensorboard_logs ': {'test_acc': tensor(0.9911, device='cuda:0'),\n",
              "   'test_loss': tensor(0.3265, device='cuda:0')}}]"
            ]
          },
          "metadata": {},
          "execution_count": 216
        }
      ]
    },
    {
      "cell_type": "code",
      "source": [
        ""
      ],
      "metadata": {
        "id": "8fIy2SCvH0e0"
      },
      "execution_count": null,
      "outputs": []
    }
  ]
}