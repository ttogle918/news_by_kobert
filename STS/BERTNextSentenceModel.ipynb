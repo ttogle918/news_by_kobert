{
  "nbformat": 4,
  "nbformat_minor": 0,
  "metadata": {
    "colab": {
      "name": "데이터_라벨링_증식.ipynb",
      "provenance": [],
      "collapsed_sections": [
        "RYnZN7OwSROj"
      ],
      "machine_shape": "hm",
      "authorship_tag": "ABX9TyMzSzfZUW2GQYk/4vr9I66l",
      "include_colab_link": true
    },
    "kernelspec": {
      "name": "python3",
      "display_name": "Python 3"
    },
    "language_info": {
      "name": "python"
    },
    "accelerator": "GPU",
    "widgets": {
      "application/vnd.jupyter.widget-state+json": {
        "208a61d5f7634565aa839e84ebf65a18": {
          "model_module": "@jupyter-widgets/controls",
          "model_name": "HBoxModel",
          "model_module_version": "1.5.0",
          "state": {
            "_dom_classes": [],
            "_model_module": "@jupyter-widgets/controls",
            "_model_module_version": "1.5.0",
            "_model_name": "HBoxModel",
            "_view_count": null,
            "_view_module": "@jupyter-widgets/controls",
            "_view_module_version": "1.5.0",
            "_view_name": "HBoxView",
            "box_style": "",
            "children": [
              "IPY_MODEL_50b39cfd758746baa90a5f5f10e7e437",
              "IPY_MODEL_6133e3efd562449d93aaf5c79f65b71e",
              "IPY_MODEL_74eea9386f7f48418b2097ee591a0d21"
            ],
            "layout": "IPY_MODEL_1cb23616134c4dffb9dfd1c12bf1f4c9"
          }
        },
        "50b39cfd758746baa90a5f5f10e7e437": {
          "model_module": "@jupyter-widgets/controls",
          "model_name": "HTMLModel",
          "model_module_version": "1.5.0",
          "state": {
            "_dom_classes": [],
            "_model_module": "@jupyter-widgets/controls",
            "_model_module_version": "1.5.0",
            "_model_name": "HTMLModel",
            "_view_count": null,
            "_view_module": "@jupyter-widgets/controls",
            "_view_module_version": "1.5.0",
            "_view_name": "HTMLView",
            "description": "",
            "description_tooltip": null,
            "layout": "IPY_MODEL_3287264e786c41e091118fdd180bf924",
            "placeholder": "​",
            "style": "IPY_MODEL_e3134848795746c29f02f2b3189c307d",
            "value": "Validation sanity check: 100%"
          }
        },
        "6133e3efd562449d93aaf5c79f65b71e": {
          "model_module": "@jupyter-widgets/controls",
          "model_name": "FloatProgressModel",
          "model_module_version": "1.5.0",
          "state": {
            "_dom_classes": [],
            "_model_module": "@jupyter-widgets/controls",
            "_model_module_version": "1.5.0",
            "_model_name": "FloatProgressModel",
            "_view_count": null,
            "_view_module": "@jupyter-widgets/controls",
            "_view_module_version": "1.5.0",
            "_view_name": "ProgressView",
            "bar_style": "",
            "description": "",
            "description_tooltip": null,
            "layout": "IPY_MODEL_b7db88710bdf4246bcf31f8daf58c732",
            "max": 2,
            "min": 0,
            "orientation": "horizontal",
            "style": "IPY_MODEL_e08705d26aec4d508e6f7403e5510b92",
            "value": 2
          }
        },
        "74eea9386f7f48418b2097ee591a0d21": {
          "model_module": "@jupyter-widgets/controls",
          "model_name": "HTMLModel",
          "model_module_version": "1.5.0",
          "state": {
            "_dom_classes": [],
            "_model_module": "@jupyter-widgets/controls",
            "_model_module_version": "1.5.0",
            "_model_name": "HTMLModel",
            "_view_count": null,
            "_view_module": "@jupyter-widgets/controls",
            "_view_module_version": "1.5.0",
            "_view_name": "HTMLView",
            "description": "",
            "description_tooltip": null,
            "layout": "IPY_MODEL_b48ad029bf564fe590791807277b7c1a",
            "placeholder": "​",
            "style": "IPY_MODEL_6c1f4e9ab1594ecf98b1b99bc0d1b868",
            "value": " 2/2 [00:00&lt;00:00,  2.77it/s]"
          }
        },
        "1cb23616134c4dffb9dfd1c12bf1f4c9": {
          "model_module": "@jupyter-widgets/base",
          "model_name": "LayoutModel",
          "model_module_version": "1.2.0",
          "state": {
            "_model_module": "@jupyter-widgets/base",
            "_model_module_version": "1.2.0",
            "_model_name": "LayoutModel",
            "_view_count": null,
            "_view_module": "@jupyter-widgets/base",
            "_view_module_version": "1.2.0",
            "_view_name": "LayoutView",
            "align_content": null,
            "align_items": null,
            "align_self": null,
            "border": null,
            "bottom": null,
            "display": "inline-flex",
            "flex": null,
            "flex_flow": "row wrap",
            "grid_area": null,
            "grid_auto_columns": null,
            "grid_auto_flow": null,
            "grid_auto_rows": null,
            "grid_column": null,
            "grid_gap": null,
            "grid_row": null,
            "grid_template_areas": null,
            "grid_template_columns": null,
            "grid_template_rows": null,
            "height": null,
            "justify_content": null,
            "justify_items": null,
            "left": null,
            "margin": null,
            "max_height": null,
            "max_width": null,
            "min_height": null,
            "min_width": null,
            "object_fit": null,
            "object_position": null,
            "order": null,
            "overflow": null,
            "overflow_x": null,
            "overflow_y": null,
            "padding": null,
            "right": null,
            "top": null,
            "visibility": null,
            "width": "100%"
          }
        },
        "3287264e786c41e091118fdd180bf924": {
          "model_module": "@jupyter-widgets/base",
          "model_name": "LayoutModel",
          "model_module_version": "1.2.0",
          "state": {
            "_model_module": "@jupyter-widgets/base",
            "_model_module_version": "1.2.0",
            "_model_name": "LayoutModel",
            "_view_count": null,
            "_view_module": "@jupyter-widgets/base",
            "_view_module_version": "1.2.0",
            "_view_name": "LayoutView",
            "align_content": null,
            "align_items": null,
            "align_self": null,
            "border": null,
            "bottom": null,
            "display": null,
            "flex": null,
            "flex_flow": null,
            "grid_area": null,
            "grid_auto_columns": null,
            "grid_auto_flow": null,
            "grid_auto_rows": null,
            "grid_column": null,
            "grid_gap": null,
            "grid_row": null,
            "grid_template_areas": null,
            "grid_template_columns": null,
            "grid_template_rows": null,
            "height": null,
            "justify_content": null,
            "justify_items": null,
            "left": null,
            "margin": null,
            "max_height": null,
            "max_width": null,
            "min_height": null,
            "min_width": null,
            "object_fit": null,
            "object_position": null,
            "order": null,
            "overflow": null,
            "overflow_x": null,
            "overflow_y": null,
            "padding": null,
            "right": null,
            "top": null,
            "visibility": null,
            "width": null
          }
        },
        "e3134848795746c29f02f2b3189c307d": {
          "model_module": "@jupyter-widgets/controls",
          "model_name": "DescriptionStyleModel",
          "model_module_version": "1.5.0",
          "state": {
            "_model_module": "@jupyter-widgets/controls",
            "_model_module_version": "1.5.0",
            "_model_name": "DescriptionStyleModel",
            "_view_count": null,
            "_view_module": "@jupyter-widgets/base",
            "_view_module_version": "1.2.0",
            "_view_name": "StyleView",
            "description_width": ""
          }
        },
        "b7db88710bdf4246bcf31f8daf58c732": {
          "model_module": "@jupyter-widgets/base",
          "model_name": "LayoutModel",
          "model_module_version": "1.2.0",
          "state": {
            "_model_module": "@jupyter-widgets/base",
            "_model_module_version": "1.2.0",
            "_model_name": "LayoutModel",
            "_view_count": null,
            "_view_module": "@jupyter-widgets/base",
            "_view_module_version": "1.2.0",
            "_view_name": "LayoutView",
            "align_content": null,
            "align_items": null,
            "align_self": null,
            "border": null,
            "bottom": null,
            "display": null,
            "flex": "2",
            "flex_flow": null,
            "grid_area": null,
            "grid_auto_columns": null,
            "grid_auto_flow": null,
            "grid_auto_rows": null,
            "grid_column": null,
            "grid_gap": null,
            "grid_row": null,
            "grid_template_areas": null,
            "grid_template_columns": null,
            "grid_template_rows": null,
            "height": null,
            "justify_content": null,
            "justify_items": null,
            "left": null,
            "margin": null,
            "max_height": null,
            "max_width": null,
            "min_height": null,
            "min_width": null,
            "object_fit": null,
            "object_position": null,
            "order": null,
            "overflow": null,
            "overflow_x": null,
            "overflow_y": null,
            "padding": null,
            "right": null,
            "top": null,
            "visibility": null,
            "width": null
          }
        },
        "e08705d26aec4d508e6f7403e5510b92": {
          "model_module": "@jupyter-widgets/controls",
          "model_name": "ProgressStyleModel",
          "model_module_version": "1.5.0",
          "state": {
            "_model_module": "@jupyter-widgets/controls",
            "_model_module_version": "1.5.0",
            "_model_name": "ProgressStyleModel",
            "_view_count": null,
            "_view_module": "@jupyter-widgets/base",
            "_view_module_version": "1.2.0",
            "_view_name": "StyleView",
            "bar_color": null,
            "description_width": ""
          }
        },
        "b48ad029bf564fe590791807277b7c1a": {
          "model_module": "@jupyter-widgets/base",
          "model_name": "LayoutModel",
          "model_module_version": "1.2.0",
          "state": {
            "_model_module": "@jupyter-widgets/base",
            "_model_module_version": "1.2.0",
            "_model_name": "LayoutModel",
            "_view_count": null,
            "_view_module": "@jupyter-widgets/base",
            "_view_module_version": "1.2.0",
            "_view_name": "LayoutView",
            "align_content": null,
            "align_items": null,
            "align_self": null,
            "border": null,
            "bottom": null,
            "display": null,
            "flex": null,
            "flex_flow": null,
            "grid_area": null,
            "grid_auto_columns": null,
            "grid_auto_flow": null,
            "grid_auto_rows": null,
            "grid_column": null,
            "grid_gap": null,
            "grid_row": null,
            "grid_template_areas": null,
            "grid_template_columns": null,
            "grid_template_rows": null,
            "height": null,
            "justify_content": null,
            "justify_items": null,
            "left": null,
            "margin": null,
            "max_height": null,
            "max_width": null,
            "min_height": null,
            "min_width": null,
            "object_fit": null,
            "object_position": null,
            "order": null,
            "overflow": null,
            "overflow_x": null,
            "overflow_y": null,
            "padding": null,
            "right": null,
            "top": null,
            "visibility": null,
            "width": null
          }
        },
        "6c1f4e9ab1594ecf98b1b99bc0d1b868": {
          "model_module": "@jupyter-widgets/controls",
          "model_name": "DescriptionStyleModel",
          "model_module_version": "1.5.0",
          "state": {
            "_model_module": "@jupyter-widgets/controls",
            "_model_module_version": "1.5.0",
            "_model_name": "DescriptionStyleModel",
            "_view_count": null,
            "_view_module": "@jupyter-widgets/base",
            "_view_module_version": "1.2.0",
            "_view_name": "StyleView",
            "description_width": ""
          }
        },
        "5b8c2e4ae99d4c5cacda1d88b8353990": {
          "model_module": "@jupyter-widgets/controls",
          "model_name": "HBoxModel",
          "model_module_version": "1.5.0",
          "state": {
            "_dom_classes": [],
            "_model_module": "@jupyter-widgets/controls",
            "_model_module_version": "1.5.0",
            "_model_name": "HBoxModel",
            "_view_count": null,
            "_view_module": "@jupyter-widgets/controls",
            "_view_module_version": "1.5.0",
            "_view_name": "HBoxView",
            "box_style": "",
            "children": [
              "IPY_MODEL_cb8b922018ce48b6ab5b6d2091898780",
              "IPY_MODEL_a8fdaae68b934767a8740976d65c68d8",
              "IPY_MODEL_b75da99d59b04919801cbd2a10a39e28"
            ],
            "layout": "IPY_MODEL_0c48155e1a9b4b7d8b3c495f843db368"
          }
        },
        "cb8b922018ce48b6ab5b6d2091898780": {
          "model_module": "@jupyter-widgets/controls",
          "model_name": "HTMLModel",
          "model_module_version": "1.5.0",
          "state": {
            "_dom_classes": [],
            "_model_module": "@jupyter-widgets/controls",
            "_model_module_version": "1.5.0",
            "_model_name": "HTMLModel",
            "_view_count": null,
            "_view_module": "@jupyter-widgets/controls",
            "_view_module_version": "1.5.0",
            "_view_name": "HTMLView",
            "description": "",
            "description_tooltip": null,
            "layout": "IPY_MODEL_e22e0c739379454ca04d495893d19364",
            "placeholder": "​",
            "style": "IPY_MODEL_a1c61bb7afeb4f8785e4d208b2e31ac6",
            "value": "Epoch 1: 100%"
          }
        },
        "a8fdaae68b934767a8740976d65c68d8": {
          "model_module": "@jupyter-widgets/controls",
          "model_name": "FloatProgressModel",
          "model_module_version": "1.5.0",
          "state": {
            "_dom_classes": [],
            "_model_module": "@jupyter-widgets/controls",
            "_model_module_version": "1.5.0",
            "_model_name": "FloatProgressModel",
            "_view_count": null,
            "_view_module": "@jupyter-widgets/controls",
            "_view_module_version": "1.5.0",
            "_view_name": "ProgressView",
            "bar_style": "success",
            "description": "",
            "description_tooltip": null,
            "layout": "IPY_MODEL_24313741d41f4b519cbed19f0c4fb02f",
            "max": 25,
            "min": 0,
            "orientation": "horizontal",
            "style": "IPY_MODEL_e9e5d0dcf20e491b90f2be1df5cc6283",
            "value": 25
          }
        },
        "b75da99d59b04919801cbd2a10a39e28": {
          "model_module": "@jupyter-widgets/controls",
          "model_name": "HTMLModel",
          "model_module_version": "1.5.0",
          "state": {
            "_dom_classes": [],
            "_model_module": "@jupyter-widgets/controls",
            "_model_module_version": "1.5.0",
            "_model_name": "HTMLModel",
            "_view_count": null,
            "_view_module": "@jupyter-widgets/controls",
            "_view_module_version": "1.5.0",
            "_view_name": "HTMLView",
            "description": "",
            "description_tooltip": null,
            "layout": "IPY_MODEL_4e329241cb2d4068ba35d4a0579a5a93",
            "placeholder": "​",
            "style": "IPY_MODEL_4b43769a86524730afd6ccae7447c910",
            "value": " 25/25 [00:56&lt;00:00,  2.26s/it, loss=0.33, v_num=3]"
          }
        },
        "0c48155e1a9b4b7d8b3c495f843db368": {
          "model_module": "@jupyter-widgets/base",
          "model_name": "LayoutModel",
          "model_module_version": "1.2.0",
          "state": {
            "_model_module": "@jupyter-widgets/base",
            "_model_module_version": "1.2.0",
            "_model_name": "LayoutModel",
            "_view_count": null,
            "_view_module": "@jupyter-widgets/base",
            "_view_module_version": "1.2.0",
            "_view_name": "LayoutView",
            "align_content": null,
            "align_items": null,
            "align_self": null,
            "border": null,
            "bottom": null,
            "display": "inline-flex",
            "flex": null,
            "flex_flow": "row wrap",
            "grid_area": null,
            "grid_auto_columns": null,
            "grid_auto_flow": null,
            "grid_auto_rows": null,
            "grid_column": null,
            "grid_gap": null,
            "grid_row": null,
            "grid_template_areas": null,
            "grid_template_columns": null,
            "grid_template_rows": null,
            "height": null,
            "justify_content": null,
            "justify_items": null,
            "left": null,
            "margin": null,
            "max_height": null,
            "max_width": null,
            "min_height": null,
            "min_width": null,
            "object_fit": null,
            "object_position": null,
            "order": null,
            "overflow": null,
            "overflow_x": null,
            "overflow_y": null,
            "padding": null,
            "right": null,
            "top": null,
            "visibility": null,
            "width": "100%"
          }
        },
        "e22e0c739379454ca04d495893d19364": {
          "model_module": "@jupyter-widgets/base",
          "model_name": "LayoutModel",
          "model_module_version": "1.2.0",
          "state": {
            "_model_module": "@jupyter-widgets/base",
            "_model_module_version": "1.2.0",
            "_model_name": "LayoutModel",
            "_view_count": null,
            "_view_module": "@jupyter-widgets/base",
            "_view_module_version": "1.2.0",
            "_view_name": "LayoutView",
            "align_content": null,
            "align_items": null,
            "align_self": null,
            "border": null,
            "bottom": null,
            "display": null,
            "flex": null,
            "flex_flow": null,
            "grid_area": null,
            "grid_auto_columns": null,
            "grid_auto_flow": null,
            "grid_auto_rows": null,
            "grid_column": null,
            "grid_gap": null,
            "grid_row": null,
            "grid_template_areas": null,
            "grid_template_columns": null,
            "grid_template_rows": null,
            "height": null,
            "justify_content": null,
            "justify_items": null,
            "left": null,
            "margin": null,
            "max_height": null,
            "max_width": null,
            "min_height": null,
            "min_width": null,
            "object_fit": null,
            "object_position": null,
            "order": null,
            "overflow": null,
            "overflow_x": null,
            "overflow_y": null,
            "padding": null,
            "right": null,
            "top": null,
            "visibility": null,
            "width": null
          }
        },
        "a1c61bb7afeb4f8785e4d208b2e31ac6": {
          "model_module": "@jupyter-widgets/controls",
          "model_name": "DescriptionStyleModel",
          "model_module_version": "1.5.0",
          "state": {
            "_model_module": "@jupyter-widgets/controls",
            "_model_module_version": "1.5.0",
            "_model_name": "DescriptionStyleModel",
            "_view_count": null,
            "_view_module": "@jupyter-widgets/base",
            "_view_module_version": "1.2.0",
            "_view_name": "StyleView",
            "description_width": ""
          }
        },
        "24313741d41f4b519cbed19f0c4fb02f": {
          "model_module": "@jupyter-widgets/base",
          "model_name": "LayoutModel",
          "model_module_version": "1.2.0",
          "state": {
            "_model_module": "@jupyter-widgets/base",
            "_model_module_version": "1.2.0",
            "_model_name": "LayoutModel",
            "_view_count": null,
            "_view_module": "@jupyter-widgets/base",
            "_view_module_version": "1.2.0",
            "_view_name": "LayoutView",
            "align_content": null,
            "align_items": null,
            "align_self": null,
            "border": null,
            "bottom": null,
            "display": null,
            "flex": "2",
            "flex_flow": null,
            "grid_area": null,
            "grid_auto_columns": null,
            "grid_auto_flow": null,
            "grid_auto_rows": null,
            "grid_column": null,
            "grid_gap": null,
            "grid_row": null,
            "grid_template_areas": null,
            "grid_template_columns": null,
            "grid_template_rows": null,
            "height": null,
            "justify_content": null,
            "justify_items": null,
            "left": null,
            "margin": null,
            "max_height": null,
            "max_width": null,
            "min_height": null,
            "min_width": null,
            "object_fit": null,
            "object_position": null,
            "order": null,
            "overflow": null,
            "overflow_x": null,
            "overflow_y": null,
            "padding": null,
            "right": null,
            "top": null,
            "visibility": null,
            "width": null
          }
        },
        "e9e5d0dcf20e491b90f2be1df5cc6283": {
          "model_module": "@jupyter-widgets/controls",
          "model_name": "ProgressStyleModel",
          "model_module_version": "1.5.0",
          "state": {
            "_model_module": "@jupyter-widgets/controls",
            "_model_module_version": "1.5.0",
            "_model_name": "ProgressStyleModel",
            "_view_count": null,
            "_view_module": "@jupyter-widgets/base",
            "_view_module_version": "1.2.0",
            "_view_name": "StyleView",
            "bar_color": null,
            "description_width": ""
          }
        },
        "4e329241cb2d4068ba35d4a0579a5a93": {
          "model_module": "@jupyter-widgets/base",
          "model_name": "LayoutModel",
          "model_module_version": "1.2.0",
          "state": {
            "_model_module": "@jupyter-widgets/base",
            "_model_module_version": "1.2.0",
            "_model_name": "LayoutModel",
            "_view_count": null,
            "_view_module": "@jupyter-widgets/base",
            "_view_module_version": "1.2.0",
            "_view_name": "LayoutView",
            "align_content": null,
            "align_items": null,
            "align_self": null,
            "border": null,
            "bottom": null,
            "display": null,
            "flex": null,
            "flex_flow": null,
            "grid_area": null,
            "grid_auto_columns": null,
            "grid_auto_flow": null,
            "grid_auto_rows": null,
            "grid_column": null,
            "grid_gap": null,
            "grid_row": null,
            "grid_template_areas": null,
            "grid_template_columns": null,
            "grid_template_rows": null,
            "height": null,
            "justify_content": null,
            "justify_items": null,
            "left": null,
            "margin": null,
            "max_height": null,
            "max_width": null,
            "min_height": null,
            "min_width": null,
            "object_fit": null,
            "object_position": null,
            "order": null,
            "overflow": null,
            "overflow_x": null,
            "overflow_y": null,
            "padding": null,
            "right": null,
            "top": null,
            "visibility": null,
            "width": null
          }
        },
        "4b43769a86524730afd6ccae7447c910": {
          "model_module": "@jupyter-widgets/controls",
          "model_name": "DescriptionStyleModel",
          "model_module_version": "1.5.0",
          "state": {
            "_model_module": "@jupyter-widgets/controls",
            "_model_module_version": "1.5.0",
            "_model_name": "DescriptionStyleModel",
            "_view_count": null,
            "_view_module": "@jupyter-widgets/base",
            "_view_module_version": "1.2.0",
            "_view_name": "StyleView",
            "description_width": ""
          }
        },
        "27ab8c7010ab440395bc91a89b9b38ea": {
          "model_module": "@jupyter-widgets/controls",
          "model_name": "HBoxModel",
          "model_module_version": "1.5.0",
          "state": {
            "_dom_classes": [],
            "_model_module": "@jupyter-widgets/controls",
            "_model_module_version": "1.5.0",
            "_model_name": "HBoxModel",
            "_view_count": null,
            "_view_module": "@jupyter-widgets/controls",
            "_view_module_version": "1.5.0",
            "_view_name": "HBoxView",
            "box_style": "",
            "children": [
              "IPY_MODEL_7d7d3cb47bbc43b19207578a01c52779",
              "IPY_MODEL_be9b5065a36644ef90605e15cc2bdca5",
              "IPY_MODEL_60b73eb1aeb743cf8b8e9113a0f22c12"
            ],
            "layout": "IPY_MODEL_5ce4a96e4b184fb38fbe6e8b67eed3fa"
          }
        },
        "7d7d3cb47bbc43b19207578a01c52779": {
          "model_module": "@jupyter-widgets/controls",
          "model_name": "HTMLModel",
          "model_module_version": "1.5.0",
          "state": {
            "_dom_classes": [],
            "_model_module": "@jupyter-widgets/controls",
            "_model_module_version": "1.5.0",
            "_model_name": "HTMLModel",
            "_view_count": null,
            "_view_module": "@jupyter-widgets/controls",
            "_view_module_version": "1.5.0",
            "_view_name": "HTMLView",
            "description": "",
            "description_tooltip": null,
            "layout": "IPY_MODEL_ff79fa7f2ea141e495c844666d6d63f4",
            "placeholder": "​",
            "style": "IPY_MODEL_aec210bb3b854fe2863a8ae535f724c3",
            "value": "Validating: 100%"
          }
        },
        "be9b5065a36644ef90605e15cc2bdca5": {
          "model_module": "@jupyter-widgets/controls",
          "model_name": "FloatProgressModel",
          "model_module_version": "1.5.0",
          "state": {
            "_dom_classes": [],
            "_model_module": "@jupyter-widgets/controls",
            "_model_module_version": "1.5.0",
            "_model_name": "FloatProgressModel",
            "_view_count": null,
            "_view_module": "@jupyter-widgets/controls",
            "_view_module_version": "1.5.0",
            "_view_name": "ProgressView",
            "bar_style": "",
            "description": "",
            "description_tooltip": null,
            "layout": "IPY_MODEL_bac6a56911c44631a751ea678cb8eb94",
            "max": 5,
            "min": 0,
            "orientation": "horizontal",
            "style": "IPY_MODEL_7ce03ed870d040a29a555459f9155098",
            "value": 5
          }
        },
        "60b73eb1aeb743cf8b8e9113a0f22c12": {
          "model_module": "@jupyter-widgets/controls",
          "model_name": "HTMLModel",
          "model_module_version": "1.5.0",
          "state": {
            "_dom_classes": [],
            "_model_module": "@jupyter-widgets/controls",
            "_model_module_version": "1.5.0",
            "_model_name": "HTMLModel",
            "_view_count": null,
            "_view_module": "@jupyter-widgets/controls",
            "_view_module_version": "1.5.0",
            "_view_name": "HTMLView",
            "description": "",
            "description_tooltip": null,
            "layout": "IPY_MODEL_94c7c4151e5d417695317c70f664946a",
            "placeholder": "​",
            "style": "IPY_MODEL_ad7241e395dd4233aa6a7c92e7101f30",
            "value": " 5/5 [00:01&lt;00:00,  3.22it/s]"
          }
        },
        "5ce4a96e4b184fb38fbe6e8b67eed3fa": {
          "model_module": "@jupyter-widgets/base",
          "model_name": "LayoutModel",
          "model_module_version": "1.2.0",
          "state": {
            "_model_module": "@jupyter-widgets/base",
            "_model_module_version": "1.2.0",
            "_model_name": "LayoutModel",
            "_view_count": null,
            "_view_module": "@jupyter-widgets/base",
            "_view_module_version": "1.2.0",
            "_view_name": "LayoutView",
            "align_content": null,
            "align_items": null,
            "align_self": null,
            "border": null,
            "bottom": null,
            "display": "inline-flex",
            "flex": null,
            "flex_flow": "row wrap",
            "grid_area": null,
            "grid_auto_columns": null,
            "grid_auto_flow": null,
            "grid_auto_rows": null,
            "grid_column": null,
            "grid_gap": null,
            "grid_row": null,
            "grid_template_areas": null,
            "grid_template_columns": null,
            "grid_template_rows": null,
            "height": null,
            "justify_content": null,
            "justify_items": null,
            "left": null,
            "margin": null,
            "max_height": null,
            "max_width": null,
            "min_height": null,
            "min_width": null,
            "object_fit": null,
            "object_position": null,
            "order": null,
            "overflow": null,
            "overflow_x": null,
            "overflow_y": null,
            "padding": null,
            "right": null,
            "top": null,
            "visibility": null,
            "width": "100%"
          }
        },
        "ff79fa7f2ea141e495c844666d6d63f4": {
          "model_module": "@jupyter-widgets/base",
          "model_name": "LayoutModel",
          "model_module_version": "1.2.0",
          "state": {
            "_model_module": "@jupyter-widgets/base",
            "_model_module_version": "1.2.0",
            "_model_name": "LayoutModel",
            "_view_count": null,
            "_view_module": "@jupyter-widgets/base",
            "_view_module_version": "1.2.0",
            "_view_name": "LayoutView",
            "align_content": null,
            "align_items": null,
            "align_self": null,
            "border": null,
            "bottom": null,
            "display": null,
            "flex": null,
            "flex_flow": null,
            "grid_area": null,
            "grid_auto_columns": null,
            "grid_auto_flow": null,
            "grid_auto_rows": null,
            "grid_column": null,
            "grid_gap": null,
            "grid_row": null,
            "grid_template_areas": null,
            "grid_template_columns": null,
            "grid_template_rows": null,
            "height": null,
            "justify_content": null,
            "justify_items": null,
            "left": null,
            "margin": null,
            "max_height": null,
            "max_width": null,
            "min_height": null,
            "min_width": null,
            "object_fit": null,
            "object_position": null,
            "order": null,
            "overflow": null,
            "overflow_x": null,
            "overflow_y": null,
            "padding": null,
            "right": null,
            "top": null,
            "visibility": null,
            "width": null
          }
        },
        "aec210bb3b854fe2863a8ae535f724c3": {
          "model_module": "@jupyter-widgets/controls",
          "model_name": "DescriptionStyleModel",
          "model_module_version": "1.5.0",
          "state": {
            "_model_module": "@jupyter-widgets/controls",
            "_model_module_version": "1.5.0",
            "_model_name": "DescriptionStyleModel",
            "_view_count": null,
            "_view_module": "@jupyter-widgets/base",
            "_view_module_version": "1.2.0",
            "_view_name": "StyleView",
            "description_width": ""
          }
        },
        "bac6a56911c44631a751ea678cb8eb94": {
          "model_module": "@jupyter-widgets/base",
          "model_name": "LayoutModel",
          "model_module_version": "1.2.0",
          "state": {
            "_model_module": "@jupyter-widgets/base",
            "_model_module_version": "1.2.0",
            "_model_name": "LayoutModel",
            "_view_count": null,
            "_view_module": "@jupyter-widgets/base",
            "_view_module_version": "1.2.0",
            "_view_name": "LayoutView",
            "align_content": null,
            "align_items": null,
            "align_self": null,
            "border": null,
            "bottom": null,
            "display": null,
            "flex": "2",
            "flex_flow": null,
            "grid_area": null,
            "grid_auto_columns": null,
            "grid_auto_flow": null,
            "grid_auto_rows": null,
            "grid_column": null,
            "grid_gap": null,
            "grid_row": null,
            "grid_template_areas": null,
            "grid_template_columns": null,
            "grid_template_rows": null,
            "height": null,
            "justify_content": null,
            "justify_items": null,
            "left": null,
            "margin": null,
            "max_height": null,
            "max_width": null,
            "min_height": null,
            "min_width": null,
            "object_fit": null,
            "object_position": null,
            "order": null,
            "overflow": null,
            "overflow_x": null,
            "overflow_y": null,
            "padding": null,
            "right": null,
            "top": null,
            "visibility": null,
            "width": null
          }
        },
        "7ce03ed870d040a29a555459f9155098": {
          "model_module": "@jupyter-widgets/controls",
          "model_name": "ProgressStyleModel",
          "model_module_version": "1.5.0",
          "state": {
            "_model_module": "@jupyter-widgets/controls",
            "_model_module_version": "1.5.0",
            "_model_name": "ProgressStyleModel",
            "_view_count": null,
            "_view_module": "@jupyter-widgets/base",
            "_view_module_version": "1.2.0",
            "_view_name": "StyleView",
            "bar_color": null,
            "description_width": ""
          }
        },
        "94c7c4151e5d417695317c70f664946a": {
          "model_module": "@jupyter-widgets/base",
          "model_name": "LayoutModel",
          "model_module_version": "1.2.0",
          "state": {
            "_model_module": "@jupyter-widgets/base",
            "_model_module_version": "1.2.0",
            "_model_name": "LayoutModel",
            "_view_count": null,
            "_view_module": "@jupyter-widgets/base",
            "_view_module_version": "1.2.0",
            "_view_name": "LayoutView",
            "align_content": null,
            "align_items": null,
            "align_self": null,
            "border": null,
            "bottom": null,
            "display": null,
            "flex": null,
            "flex_flow": null,
            "grid_area": null,
            "grid_auto_columns": null,
            "grid_auto_flow": null,
            "grid_auto_rows": null,
            "grid_column": null,
            "grid_gap": null,
            "grid_row": null,
            "grid_template_areas": null,
            "grid_template_columns": null,
            "grid_template_rows": null,
            "height": null,
            "justify_content": null,
            "justify_items": null,
            "left": null,
            "margin": null,
            "max_height": null,
            "max_width": null,
            "min_height": null,
            "min_width": null,
            "object_fit": null,
            "object_position": null,
            "order": null,
            "overflow": null,
            "overflow_x": null,
            "overflow_y": null,
            "padding": null,
            "right": null,
            "top": null,
            "visibility": null,
            "width": null
          }
        },
        "ad7241e395dd4233aa6a7c92e7101f30": {
          "model_module": "@jupyter-widgets/controls",
          "model_name": "DescriptionStyleModel",
          "model_module_version": "1.5.0",
          "state": {
            "_model_module": "@jupyter-widgets/controls",
            "_model_module_version": "1.5.0",
            "_model_name": "DescriptionStyleModel",
            "_view_count": null,
            "_view_module": "@jupyter-widgets/base",
            "_view_module_version": "1.2.0",
            "_view_name": "StyleView",
            "description_width": ""
          }
        },
        "4720a6e7858f44a1a4b8930a6f392ee6": {
          "model_module": "@jupyter-widgets/controls",
          "model_name": "HBoxModel",
          "model_module_version": "1.5.0",
          "state": {
            "_dom_classes": [],
            "_model_module": "@jupyter-widgets/controls",
            "_model_module_version": "1.5.0",
            "_model_name": "HBoxModel",
            "_view_count": null,
            "_view_module": "@jupyter-widgets/controls",
            "_view_module_version": "1.5.0",
            "_view_name": "HBoxView",
            "box_style": "",
            "children": [
              "IPY_MODEL_3f587788abfa45c78123bbc3458f357c",
              "IPY_MODEL_acece7e761034637a8d68abc0b642c58",
              "IPY_MODEL_40c0334830d44fd1983e97c50decd91b"
            ],
            "layout": "IPY_MODEL_018e0e887b1a4d438b6959df3f1c51c2"
          }
        },
        "3f587788abfa45c78123bbc3458f357c": {
          "model_module": "@jupyter-widgets/controls",
          "model_name": "HTMLModel",
          "model_module_version": "1.5.0",
          "state": {
            "_dom_classes": [],
            "_model_module": "@jupyter-widgets/controls",
            "_model_module_version": "1.5.0",
            "_model_name": "HTMLModel",
            "_view_count": null,
            "_view_module": "@jupyter-widgets/controls",
            "_view_module_version": "1.5.0",
            "_view_name": "HTMLView",
            "description": "",
            "description_tooltip": null,
            "layout": "IPY_MODEL_84578afcddff446b8d2ad57188f830cc",
            "placeholder": "​",
            "style": "IPY_MODEL_2be7834b27ee4767b3a655173c9073e9",
            "value": "Validating: 100%"
          }
        },
        "acece7e761034637a8d68abc0b642c58": {
          "model_module": "@jupyter-widgets/controls",
          "model_name": "FloatProgressModel",
          "model_module_version": "1.5.0",
          "state": {
            "_dom_classes": [],
            "_model_module": "@jupyter-widgets/controls",
            "_model_module_version": "1.5.0",
            "_model_name": "FloatProgressModel",
            "_view_count": null,
            "_view_module": "@jupyter-widgets/controls",
            "_view_module_version": "1.5.0",
            "_view_name": "ProgressView",
            "bar_style": "",
            "description": "",
            "description_tooltip": null,
            "layout": "IPY_MODEL_bf10e3d610dd4a86a327804387bae558",
            "max": 5,
            "min": 0,
            "orientation": "horizontal",
            "style": "IPY_MODEL_c13ee0b7eae14c3baa04293b608f2ea9",
            "value": 5
          }
        },
        "40c0334830d44fd1983e97c50decd91b": {
          "model_module": "@jupyter-widgets/controls",
          "model_name": "HTMLModel",
          "model_module_version": "1.5.0",
          "state": {
            "_dom_classes": [],
            "_model_module": "@jupyter-widgets/controls",
            "_model_module_version": "1.5.0",
            "_model_name": "HTMLModel",
            "_view_count": null,
            "_view_module": "@jupyter-widgets/controls",
            "_view_module_version": "1.5.0",
            "_view_name": "HTMLView",
            "description": "",
            "description_tooltip": null,
            "layout": "IPY_MODEL_d1be1238aa0243d3aacf748d7862b2f8",
            "placeholder": "​",
            "style": "IPY_MODEL_d8471c1fe7b6422a8bf70d8fcc06dc8b",
            "value": " 5/5 [00:01&lt;00:00,  2.88it/s]"
          }
        },
        "018e0e887b1a4d438b6959df3f1c51c2": {
          "model_module": "@jupyter-widgets/base",
          "model_name": "LayoutModel",
          "model_module_version": "1.2.0",
          "state": {
            "_model_module": "@jupyter-widgets/base",
            "_model_module_version": "1.2.0",
            "_model_name": "LayoutModel",
            "_view_count": null,
            "_view_module": "@jupyter-widgets/base",
            "_view_module_version": "1.2.0",
            "_view_name": "LayoutView",
            "align_content": null,
            "align_items": null,
            "align_self": null,
            "border": null,
            "bottom": null,
            "display": "inline-flex",
            "flex": null,
            "flex_flow": "row wrap",
            "grid_area": null,
            "grid_auto_columns": null,
            "grid_auto_flow": null,
            "grid_auto_rows": null,
            "grid_column": null,
            "grid_gap": null,
            "grid_row": null,
            "grid_template_areas": null,
            "grid_template_columns": null,
            "grid_template_rows": null,
            "height": null,
            "justify_content": null,
            "justify_items": null,
            "left": null,
            "margin": null,
            "max_height": null,
            "max_width": null,
            "min_height": null,
            "min_width": null,
            "object_fit": null,
            "object_position": null,
            "order": null,
            "overflow": null,
            "overflow_x": null,
            "overflow_y": null,
            "padding": null,
            "right": null,
            "top": null,
            "visibility": null,
            "width": "100%"
          }
        },
        "84578afcddff446b8d2ad57188f830cc": {
          "model_module": "@jupyter-widgets/base",
          "model_name": "LayoutModel",
          "model_module_version": "1.2.0",
          "state": {
            "_model_module": "@jupyter-widgets/base",
            "_model_module_version": "1.2.0",
            "_model_name": "LayoutModel",
            "_view_count": null,
            "_view_module": "@jupyter-widgets/base",
            "_view_module_version": "1.2.0",
            "_view_name": "LayoutView",
            "align_content": null,
            "align_items": null,
            "align_self": null,
            "border": null,
            "bottom": null,
            "display": null,
            "flex": null,
            "flex_flow": null,
            "grid_area": null,
            "grid_auto_columns": null,
            "grid_auto_flow": null,
            "grid_auto_rows": null,
            "grid_column": null,
            "grid_gap": null,
            "grid_row": null,
            "grid_template_areas": null,
            "grid_template_columns": null,
            "grid_template_rows": null,
            "height": null,
            "justify_content": null,
            "justify_items": null,
            "left": null,
            "margin": null,
            "max_height": null,
            "max_width": null,
            "min_height": null,
            "min_width": null,
            "object_fit": null,
            "object_position": null,
            "order": null,
            "overflow": null,
            "overflow_x": null,
            "overflow_y": null,
            "padding": null,
            "right": null,
            "top": null,
            "visibility": null,
            "width": null
          }
        },
        "2be7834b27ee4767b3a655173c9073e9": {
          "model_module": "@jupyter-widgets/controls",
          "model_name": "DescriptionStyleModel",
          "model_module_version": "1.5.0",
          "state": {
            "_model_module": "@jupyter-widgets/controls",
            "_model_module_version": "1.5.0",
            "_model_name": "DescriptionStyleModel",
            "_view_count": null,
            "_view_module": "@jupyter-widgets/base",
            "_view_module_version": "1.2.0",
            "_view_name": "StyleView",
            "description_width": ""
          }
        },
        "bf10e3d610dd4a86a327804387bae558": {
          "model_module": "@jupyter-widgets/base",
          "model_name": "LayoutModel",
          "model_module_version": "1.2.0",
          "state": {
            "_model_module": "@jupyter-widgets/base",
            "_model_module_version": "1.2.0",
            "_model_name": "LayoutModel",
            "_view_count": null,
            "_view_module": "@jupyter-widgets/base",
            "_view_module_version": "1.2.0",
            "_view_name": "LayoutView",
            "align_content": null,
            "align_items": null,
            "align_self": null,
            "border": null,
            "bottom": null,
            "display": null,
            "flex": "2",
            "flex_flow": null,
            "grid_area": null,
            "grid_auto_columns": null,
            "grid_auto_flow": null,
            "grid_auto_rows": null,
            "grid_column": null,
            "grid_gap": null,
            "grid_row": null,
            "grid_template_areas": null,
            "grid_template_columns": null,
            "grid_template_rows": null,
            "height": null,
            "justify_content": null,
            "justify_items": null,
            "left": null,
            "margin": null,
            "max_height": null,
            "max_width": null,
            "min_height": null,
            "min_width": null,
            "object_fit": null,
            "object_position": null,
            "order": null,
            "overflow": null,
            "overflow_x": null,
            "overflow_y": null,
            "padding": null,
            "right": null,
            "top": null,
            "visibility": null,
            "width": null
          }
        },
        "c13ee0b7eae14c3baa04293b608f2ea9": {
          "model_module": "@jupyter-widgets/controls",
          "model_name": "ProgressStyleModel",
          "model_module_version": "1.5.0",
          "state": {
            "_model_module": "@jupyter-widgets/controls",
            "_model_module_version": "1.5.0",
            "_model_name": "ProgressStyleModel",
            "_view_count": null,
            "_view_module": "@jupyter-widgets/base",
            "_view_module_version": "1.2.0",
            "_view_name": "StyleView",
            "bar_color": null,
            "description_width": ""
          }
        },
        "d1be1238aa0243d3aacf748d7862b2f8": {
          "model_module": "@jupyter-widgets/base",
          "model_name": "LayoutModel",
          "model_module_version": "1.2.0",
          "state": {
            "_model_module": "@jupyter-widgets/base",
            "_model_module_version": "1.2.0",
            "_model_name": "LayoutModel",
            "_view_count": null,
            "_view_module": "@jupyter-widgets/base",
            "_view_module_version": "1.2.0",
            "_view_name": "LayoutView",
            "align_content": null,
            "align_items": null,
            "align_self": null,
            "border": null,
            "bottom": null,
            "display": null,
            "flex": null,
            "flex_flow": null,
            "grid_area": null,
            "grid_auto_columns": null,
            "grid_auto_flow": null,
            "grid_auto_rows": null,
            "grid_column": null,
            "grid_gap": null,
            "grid_row": null,
            "grid_template_areas": null,
            "grid_template_columns": null,
            "grid_template_rows": null,
            "height": null,
            "justify_content": null,
            "justify_items": null,
            "left": null,
            "margin": null,
            "max_height": null,
            "max_width": null,
            "min_height": null,
            "min_width": null,
            "object_fit": null,
            "object_position": null,
            "order": null,
            "overflow": null,
            "overflow_x": null,
            "overflow_y": null,
            "padding": null,
            "right": null,
            "top": null,
            "visibility": null,
            "width": null
          }
        },
        "d8471c1fe7b6422a8bf70d8fcc06dc8b": {
          "model_module": "@jupyter-widgets/controls",
          "model_name": "DescriptionStyleModel",
          "model_module_version": "1.5.0",
          "state": {
            "_model_module": "@jupyter-widgets/controls",
            "_model_module_version": "1.5.0",
            "_model_name": "DescriptionStyleModel",
            "_view_count": null,
            "_view_module": "@jupyter-widgets/base",
            "_view_module_version": "1.2.0",
            "_view_name": "StyleView",
            "description_width": ""
          }
        },
        "cbe69e89ac184dcbabb0e19f821537e0": {
          "model_module": "@jupyter-widgets/controls",
          "model_name": "HBoxModel",
          "model_module_version": "1.5.0",
          "state": {
            "_dom_classes": [],
            "_model_module": "@jupyter-widgets/controls",
            "_model_module_version": "1.5.0",
            "_model_name": "HBoxModel",
            "_view_count": null,
            "_view_module": "@jupyter-widgets/controls",
            "_view_module_version": "1.5.0",
            "_view_name": "HBoxView",
            "box_style": "",
            "children": [
              "IPY_MODEL_bb589a25754d46a49807749a9f1ca538",
              "IPY_MODEL_e6661f804c074345a7731b5067fea9c5",
              "IPY_MODEL_193c2990b52d4143a898aa1e9b350109"
            ],
            "layout": "IPY_MODEL_129885fc814d4343bcb72026898920a2"
          }
        },
        "bb589a25754d46a49807749a9f1ca538": {
          "model_module": "@jupyter-widgets/controls",
          "model_name": "HTMLModel",
          "model_module_version": "1.5.0",
          "state": {
            "_dom_classes": [],
            "_model_module": "@jupyter-widgets/controls",
            "_model_module_version": "1.5.0",
            "_model_name": "HTMLModel",
            "_view_count": null,
            "_view_module": "@jupyter-widgets/controls",
            "_view_module_version": "1.5.0",
            "_view_name": "HTMLView",
            "description": "",
            "description_tooltip": null,
            "layout": "IPY_MODEL_57359ee041e44371be4985e421df437e",
            "placeholder": "​",
            "style": "IPY_MODEL_2daec3d7091c4d3488431ffe0ec7482b",
            "value": "Testing: 100%"
          }
        },
        "e6661f804c074345a7731b5067fea9c5": {
          "model_module": "@jupyter-widgets/controls",
          "model_name": "FloatProgressModel",
          "model_module_version": "1.5.0",
          "state": {
            "_dom_classes": [],
            "_model_module": "@jupyter-widgets/controls",
            "_model_module_version": "1.5.0",
            "_model_name": "FloatProgressModel",
            "_view_count": null,
            "_view_module": "@jupyter-widgets/controls",
            "_view_module_version": "1.5.0",
            "_view_name": "ProgressView",
            "bar_style": "success",
            "description": "",
            "description_tooltip": null,
            "layout": "IPY_MODEL_fb27dfd922824dd1a0fe74efa94cb1ec",
            "max": 1,
            "min": 0,
            "orientation": "horizontal",
            "style": "IPY_MODEL_047566aafa484f66a740a7de8656945b",
            "value": 1
          }
        },
        "193c2990b52d4143a898aa1e9b350109": {
          "model_module": "@jupyter-widgets/controls",
          "model_name": "HTMLModel",
          "model_module_version": "1.5.0",
          "state": {
            "_dom_classes": [],
            "_model_module": "@jupyter-widgets/controls",
            "_model_module_version": "1.5.0",
            "_model_name": "HTMLModel",
            "_view_count": null,
            "_view_module": "@jupyter-widgets/controls",
            "_view_module_version": "1.5.0",
            "_view_name": "HTMLView",
            "description": "",
            "description_tooltip": null,
            "layout": "IPY_MODEL_b14296978feb4a9595826820cb0b26ab",
            "placeholder": "​",
            "style": "IPY_MODEL_b14c5ceb82e8431a853cd334d4cd9317",
            "value": " 7/7 [00:02&lt;00:00,  3.47it/s]"
          }
        },
        "129885fc814d4343bcb72026898920a2": {
          "model_module": "@jupyter-widgets/base",
          "model_name": "LayoutModel",
          "model_module_version": "1.2.0",
          "state": {
            "_model_module": "@jupyter-widgets/base",
            "_model_module_version": "1.2.0",
            "_model_name": "LayoutModel",
            "_view_count": null,
            "_view_module": "@jupyter-widgets/base",
            "_view_module_version": "1.2.0",
            "_view_name": "LayoutView",
            "align_content": null,
            "align_items": null,
            "align_self": null,
            "border": null,
            "bottom": null,
            "display": "inline-flex",
            "flex": null,
            "flex_flow": "row wrap",
            "grid_area": null,
            "grid_auto_columns": null,
            "grid_auto_flow": null,
            "grid_auto_rows": null,
            "grid_column": null,
            "grid_gap": null,
            "grid_row": null,
            "grid_template_areas": null,
            "grid_template_columns": null,
            "grid_template_rows": null,
            "height": null,
            "justify_content": null,
            "justify_items": null,
            "left": null,
            "margin": null,
            "max_height": null,
            "max_width": null,
            "min_height": null,
            "min_width": null,
            "object_fit": null,
            "object_position": null,
            "order": null,
            "overflow": null,
            "overflow_x": null,
            "overflow_y": null,
            "padding": null,
            "right": null,
            "top": null,
            "visibility": null,
            "width": "100%"
          }
        },
        "57359ee041e44371be4985e421df437e": {
          "model_module": "@jupyter-widgets/base",
          "model_name": "LayoutModel",
          "model_module_version": "1.2.0",
          "state": {
            "_model_module": "@jupyter-widgets/base",
            "_model_module_version": "1.2.0",
            "_model_name": "LayoutModel",
            "_view_count": null,
            "_view_module": "@jupyter-widgets/base",
            "_view_module_version": "1.2.0",
            "_view_name": "LayoutView",
            "align_content": null,
            "align_items": null,
            "align_self": null,
            "border": null,
            "bottom": null,
            "display": null,
            "flex": null,
            "flex_flow": null,
            "grid_area": null,
            "grid_auto_columns": null,
            "grid_auto_flow": null,
            "grid_auto_rows": null,
            "grid_column": null,
            "grid_gap": null,
            "grid_row": null,
            "grid_template_areas": null,
            "grid_template_columns": null,
            "grid_template_rows": null,
            "height": null,
            "justify_content": null,
            "justify_items": null,
            "left": null,
            "margin": null,
            "max_height": null,
            "max_width": null,
            "min_height": null,
            "min_width": null,
            "object_fit": null,
            "object_position": null,
            "order": null,
            "overflow": null,
            "overflow_x": null,
            "overflow_y": null,
            "padding": null,
            "right": null,
            "top": null,
            "visibility": null,
            "width": null
          }
        },
        "2daec3d7091c4d3488431ffe0ec7482b": {
          "model_module": "@jupyter-widgets/controls",
          "model_name": "DescriptionStyleModel",
          "model_module_version": "1.5.0",
          "state": {
            "_model_module": "@jupyter-widgets/controls",
            "_model_module_version": "1.5.0",
            "_model_name": "DescriptionStyleModel",
            "_view_count": null,
            "_view_module": "@jupyter-widgets/base",
            "_view_module_version": "1.2.0",
            "_view_name": "StyleView",
            "description_width": ""
          }
        },
        "fb27dfd922824dd1a0fe74efa94cb1ec": {
          "model_module": "@jupyter-widgets/base",
          "model_name": "LayoutModel",
          "model_module_version": "1.2.0",
          "state": {
            "_model_module": "@jupyter-widgets/base",
            "_model_module_version": "1.2.0",
            "_model_name": "LayoutModel",
            "_view_count": null,
            "_view_module": "@jupyter-widgets/base",
            "_view_module_version": "1.2.0",
            "_view_name": "LayoutView",
            "align_content": null,
            "align_items": null,
            "align_self": null,
            "border": null,
            "bottom": null,
            "display": null,
            "flex": "2",
            "flex_flow": null,
            "grid_area": null,
            "grid_auto_columns": null,
            "grid_auto_flow": null,
            "grid_auto_rows": null,
            "grid_column": null,
            "grid_gap": null,
            "grid_row": null,
            "grid_template_areas": null,
            "grid_template_columns": null,
            "grid_template_rows": null,
            "height": null,
            "justify_content": null,
            "justify_items": null,
            "left": null,
            "margin": null,
            "max_height": null,
            "max_width": null,
            "min_height": null,
            "min_width": null,
            "object_fit": null,
            "object_position": null,
            "order": null,
            "overflow": null,
            "overflow_x": null,
            "overflow_y": null,
            "padding": null,
            "right": null,
            "top": null,
            "visibility": null,
            "width": null
          }
        },
        "047566aafa484f66a740a7de8656945b": {
          "model_module": "@jupyter-widgets/controls",
          "model_name": "ProgressStyleModel",
          "model_module_version": "1.5.0",
          "state": {
            "_model_module": "@jupyter-widgets/controls",
            "_model_module_version": "1.5.0",
            "_model_name": "ProgressStyleModel",
            "_view_count": null,
            "_view_module": "@jupyter-widgets/base",
            "_view_module_version": "1.2.0",
            "_view_name": "StyleView",
            "bar_color": null,
            "description_width": ""
          }
        },
        "b14296978feb4a9595826820cb0b26ab": {
          "model_module": "@jupyter-widgets/base",
          "model_name": "LayoutModel",
          "model_module_version": "1.2.0",
          "state": {
            "_model_module": "@jupyter-widgets/base",
            "_model_module_version": "1.2.0",
            "_model_name": "LayoutModel",
            "_view_count": null,
            "_view_module": "@jupyter-widgets/base",
            "_view_module_version": "1.2.0",
            "_view_name": "LayoutView",
            "align_content": null,
            "align_items": null,
            "align_self": null,
            "border": null,
            "bottom": null,
            "display": null,
            "flex": null,
            "flex_flow": null,
            "grid_area": null,
            "grid_auto_columns": null,
            "grid_auto_flow": null,
            "grid_auto_rows": null,
            "grid_column": null,
            "grid_gap": null,
            "grid_row": null,
            "grid_template_areas": null,
            "grid_template_columns": null,
            "grid_template_rows": null,
            "height": null,
            "justify_content": null,
            "justify_items": null,
            "left": null,
            "margin": null,
            "max_height": null,
            "max_width": null,
            "min_height": null,
            "min_width": null,
            "object_fit": null,
            "object_position": null,
            "order": null,
            "overflow": null,
            "overflow_x": null,
            "overflow_y": null,
            "padding": null,
            "right": null,
            "top": null,
            "visibility": null,
            "width": null
          }
        },
        "b14c5ceb82e8431a853cd334d4cd9317": {
          "model_module": "@jupyter-widgets/controls",
          "model_name": "DescriptionStyleModel",
          "model_module_version": "1.5.0",
          "state": {
            "_model_module": "@jupyter-widgets/controls",
            "_model_module_version": "1.5.0",
            "_model_name": "DescriptionStyleModel",
            "_view_count": null,
            "_view_module": "@jupyter-widgets/base",
            "_view_module_version": "1.2.0",
            "_view_name": "StyleView",
            "description_width": ""
          }
        }
      }
    }
  },
  "cells": [
    {
      "cell_type": "markdown",
      "metadata": {
        "id": "view-in-github",
        "colab_type": "text"
      },
      "source": [
        "<a href=\"https://colab.research.google.com/github/ttogle918/news_by_kobert/blob/master/STS/BERTNextSentenceModel.ipynb\" target=\"_parent\"><img src=\"https://colab.research.google.com/assets/colab-badge.svg\" alt=\"Open In Colab\"/></a>"
      ]
    },
    {
      "cell_type": "markdown",
      "source": [
        "# 모델 가져오기 시도\n",
        "\n",
        "데이터 증식은 성공!"
      ],
      "metadata": {
        "id": "K6j19bR8TG2-"
      }
    },
    {
      "cell_type": "code",
      "source": [
        "# !pip install sentencepiece transformers torch"
      ],
      "metadata": {
        "id": "gUFb-2H82WUN"
      },
      "execution_count": 4,
      "outputs": []
    },
    {
      "cell_type": "code",
      "source": [
        "# !pip install seqeval\n",
        "# !pip install torchtext pytorch-lightning\n",
        "# !pip install git+https://git@github.com/SKTBrain/KoBERT.git@master"
      ],
      "metadata": {
        "id": "T0KrXnVl2X-N"
      },
      "execution_count": 5,
      "outputs": []
    },
    {
      "cell_type": "code",
      "source": [
        "# !pip install sentence_transformers numpy scikit-learn scipy nltk tqdm"
      ],
      "metadata": {
        "id": "gye9YOvE7RSB"
      },
      "execution_count": 6,
      "outputs": []
    },
    {
      "cell_type": "code",
      "source": [
        "import pytorch_lightning as pl\n",
        "pl.__version__"
      ],
      "metadata": {
        "colab": {
          "base_uri": "https://localhost:8080/",
          "height": 35
        },
        "id": "IXmkDrPB2agz",
        "outputId": "025ed257-6dcb-4bc7-86b6-c60f1ebbafe7"
      },
      "execution_count": 1,
      "outputs": [
        {
          "output_type": "execute_result",
          "data": {
            "text/plain": [
              "'1.5.10'"
            ],
            "application/vnd.google.colaboratory.intrinsic+json": {
              "type": "string"
            }
          },
          "metadata": {},
          "execution_count": 1
        }
      ]
    },
    {
      "cell_type": "code",
      "source": [
        "import torch\n",
        "from torch import nn\n",
        "import torch.nn.functional as F\n",
        "from torch.utils.data import Dataset, DataLoader\n",
        "import numpy as np"
      ],
      "metadata": {
        "id": "FR1XoGvL2co1"
      },
      "execution_count": 2,
      "outputs": []
    },
    {
      "cell_type": "code",
      "source": [
        "from transformers import BertConfig, AdamW\n",
        "from transformers import BertForNextSentencePrediction\n",
        "from transformers import BertTokenizer"
      ],
      "metadata": {
        "id": "WqchZTVT2ggT"
      },
      "execution_count": 3,
      "outputs": []
    },
    {
      "cell_type": "code",
      "source": [
        "from tqdm import tqdm, tqdm_notebook\n",
        "from typing import Callable, List, Tuple\n",
        "from seqeval.metrics import accuracy_score"
      ],
      "metadata": {
        "id": "Fg5S56W22hzQ"
      },
      "execution_count": 4,
      "outputs": []
    },
    {
      "cell_type": "code",
      "source": [
        "import torch\n",
        "# gpu 연산이 가능하면 'cuda:0', 아니면 'cpu' 출력\n",
        "device = torch.device(\"cuda:0\" if torch.cuda.is_available() else \"cpu\")\n",
        "device, torch.cuda.device_count()"
      ],
      "metadata": {
        "colab": {
          "base_uri": "https://localhost:8080/"
        },
        "id": "NWmKplsf2kT3",
        "outputId": "7d5bd11e-ae41-4bb3-cbea-e4edb7625943"
      },
      "execution_count": 5,
      "outputs": [
        {
          "output_type": "execute_result",
          "data": {
            "text/plain": [
              "(device(type='cuda', index=0), 1)"
            ]
          },
          "metadata": {},
          "execution_count": 5
        }
      ]
    },
    {
      "cell_type": "code",
      "execution_count": 6,
      "metadata": {
        "colab": {
          "base_uri": "https://localhost:8080/"
        },
        "id": "9w59GBsmp6OA",
        "outputId": "5f25485f-f267-4625-cab0-a7aaf0aa8cf7"
      },
      "outputs": [
        {
          "output_type": "stream",
          "name": "stdout",
          "text": [
            "Drive already mounted at /content/drive; to attempt to forcibly remount, call drive.mount(\"/content/drive\", force_remount=True).\n"
          ]
        }
      ],
      "source": [
        "from google.colab import drive\n",
        "\n",
        "drive.mount('/content/drive')\n",
        "data_path = '/content/drive/My Drive/Colab Notebooks/NextLab/news_class9x1400'"
      ]
    },
    {
      "cell_type": "code",
      "source": [
        "def text_splicing(text, max_len) :\n",
        "  before_idx = 0\n",
        "  li = []\n",
        "  i = 0\n",
        "  while True:\n",
        "    if before_idx+max_len < len(text) :\n",
        "      li.append( [text[before_idx:before_idx+max_len], i] )\n",
        "      i += 1\n",
        "    else :\n",
        "      li.append(  [text[before_idx:], i] )\n",
        "      if len(li) < 2 :\n",
        "        return None   # 연결할 단락이 없으므로 dataset에 넣지 않는다.\n",
        "      return li\n",
        "\n",
        "    before_idx += max_len\n",
        "  return li"
      ],
      "metadata": {
        "id": "mE5gxyglqC-_"
      },
      "execution_count": 7,
      "outputs": []
    },
    {
      "cell_type": "code",
      "source": [
        "max_len = 128"
      ],
      "metadata": {
        "id": "xxAUazIhq7AJ"
      },
      "execution_count": 8,
      "outputs": []
    },
    {
      "cell_type": "code",
      "source": [
        "text = \"\"\"특정한 풍경을 통하여 개인적인 감정을 시각화한 사진전\n",
        "박진호는 1990년대에 자신의 벗은 몸을 복사기로 복제하여 실험적인 결과물을 생산한 작가로서 유명하다.\n",
        "그런데 이번에는 새벽녘의 달과 하늘을 카메라 앵글에 담아서 감상적인 이미지를 전시하였다.\n",
        "작가가 이번에 인사동에 있는 나우 갤러리에서 전시한 작품들은 달빛과 구름 낀 새벽하늘을 감성적인 느낌이 드는 결과물로 재구성하여 보여주고 있다.\n",
        "전시 작품마다 외형적으로 컬러가 자극적이고 전체적으로 톤도 어두워서 보는 이들을 감성적으로 동화시키는 표현전략을 구사하고 있다는 것을 알 수 있다.\n",
        "작가가 관심을 갖고 카메라 앵글에 담은 대상을 구체적으로 살펴보면 구름과 산봉우리 그리고 강변 풍경이다.\n",
        "그런데 왠지 표현대상과 소재가 낯설게 느껴지지 않고 너무나도 익숙하다.\n",
        "왜 그런 것 일까?\n",
        "그것은 작가가 표현대상으로 선택한 소재와 표현방식이 ‘일요 사진가’라고 일컬어지는 아마추어 작가들이 흔히 찍는 탐미적인 사진과 별다른 차이점이 없기 때문이다.\n",
        "사진은 시각예술이다.\n",
        "그러므로 작가가 표현하고자하는 주제와 관계없이 외형적으로 보여 지고 느껴지는 것이 무엇보다도 중요하다.\n",
        "그런데도 아쉽게도 이번에 박진호가 발표한 풍경사진들은 외형적으로 아마추어 작가들의 유미주의적이고 감상적인 작품과의 차별화에 실패하였다.\n",
        "풍경사진이나 정물사진은 절제된 프레이밍과 세련된 컬러와 톤이 작품의 완성도를 보장하는데 있어서 중요한 요소로 작용한다.\n",
        "그러므로 주제선택과 더불어서 외형적으로는 그것을 좀 더 염두에 두고 작업을 진행을 했다면 최종 결과물의 완성도가 달라졌을 것이다.\n",
        "이번에 작가가 발표한 작품들은 누구나 폭넓게 이해할 수 있는 소재와 표현방식을 보여주고 있다. 하지만 자신만의 조형언어를 보여주는 데는 소홀히 했다는 것이 느껴진다.\n",
        "그래서 여러 가지로 아쉬운 점이 많은 전시가 되었다. 하지만 자신의 감정을 솔직하게 표현하여 결과물을 생산 한 것은 분명하다.\n",
        "특정한 풍경을 통하여 개인적인 감정을 시각화 전시이다.\"\"\".replace('\\n', '')\n",
        "\n",
        "text_splicing(text, max_len) \n"
      ],
      "metadata": {
        "id": "YaLWkKfjrzPC"
      },
      "execution_count": null,
      "outputs": []
    },
    {
      "cell_type": "code",
      "source": [
        "import os\n",
        "content = []\n",
        "for (path, dir, files) in os.walk(data_path):\n",
        "    for filename in files:\n",
        "        ext = os.path.splitext(filename)[-1]\n",
        "        if ext == '.txt':\n",
        "            with open(\"%s/%s\" % (path, filename), encoding=\"utf-8\") as f:\n",
        "              label = path[path.rindex('/')+1:]\n",
        "              text = f.read()\n",
        "              temp_list = text_splicing(text.replace('\\n', ' '), max_len)\n",
        "              if temp_list is not None :\n",
        "                content.extend(temp_list)\n",
        "\n",
        "len(content), len(content[0]) # content : [(text, 단락 번호)]"
      ],
      "metadata": {
        "id": "MABJQRdUrJth"
      },
      "execution_count": null,
      "outputs": []
    },
    {
      "cell_type": "code",
      "source": [
        "len(content)"
      ],
      "metadata": {
        "colab": {
          "base_uri": "https://localhost:8080/"
        },
        "id": "B1NkS6qwBQsn",
        "outputId": "69f2d7dc-1adf-498c-e18d-da11321d172d"
      },
      "execution_count": 59,
      "outputs": [
        {
          "output_type": "execute_result",
          "data": {
            "text/plain": [
              "12229"
            ]
          },
          "metadata": {},
          "execution_count": 59
        }
      ]
    },
    {
      "cell_type": "code",
      "source": [
        "# label : 0 is True, 1 is False\n",
        "import random\n",
        "i, len_content = 0, len(content)\n",
        "dataset = []\n",
        "right_li, wrong_li = [], []   # 추가할 list\n",
        "before_text = content[0][0]\n",
        "while i < len_content :\n",
        "  text = content[i][0]\n",
        "  idx = content[i][1]\n",
        "  if idx > 0 :    # label : right\n",
        "    right_li.append( (before_text, text, 0) )   # right\n",
        "\n",
        "  # idx == 0 and len(li) == 1 인 경우는 없다. file read할 때 넣지 않았다. \n",
        "  elif idx == 0 and len(right_li) > 1 :   # label : wrong \n",
        "    len_li = len(right_li)\n",
        "    for t in right_li :\n",
        "      rd = random.randint(0, len_content-len_li-1)\n",
        "      wrong_text = content[rd][0] if rd < i-len_li else content[rd+len_li][0]   # random으로 고르기 ( 같은 기사 제외 )\n",
        "      wrong_li.append((t[0], wrong_text, 1) )\n",
        "    dataset.extend(right_li)\n",
        "    dataset.extend(wrong_li)\n",
        "    right_li, wrong_li = [], []\n",
        "  before_text = text\n",
        "  i += 1\n",
        "len_content, len(dataset)"
      ],
      "metadata": {
        "colab": {
          "base_uri": "https://localhost:8080/"
        },
        "id": "m9zgCD5pri-p",
        "outputId": "73758333-a3f1-4e29-fe88-03bb60f1c8c5"
      },
      "execution_count": 60,
      "outputs": [
        {
          "output_type": "execute_result",
          "data": {
            "text/plain": [
              "(12229, 23078)"
            ]
          },
          "metadata": {},
          "execution_count": 60
        }
      ]
    },
    {
      "cell_type": "code",
      "source": [
        "dataset[-3:]"
      ],
      "metadata": {
        "colab": {
          "base_uri": "https://localhost:8080/"
        },
        "id": "JtP9xT_5EVzA",
        "outputId": "9c3dad37-cfe4-4203-92ec-e2bb732c51c7"
      },
      "execution_count": 61,
      "outputs": [
        {
          "output_type": "execute_result",
          "data": {
            "text/plain": [
              "[('경한 태도다. 홍익대학교 대학본부측은 지난 13일 오후부터 행사에 필요한 무대, 음향기기 설치를 위한 장비 반입을 막겠다며 덤프트럭을 동원하여 학교정문 봉쇄작전을 벌였다. 하지만 학생들의 강력한 저항에 무산되자 14일 새벽시간을 ',\n",
              "  '르지 못해 그동안 당 대표로서 책임을 통감한다는 차원에서 정치 일선에서 물러나 있었다 면서 그렇지만 현재와 같은 상황은 묵과할 수 없기에 당과 협의해서 단식농성에 결합하게 되었던 것이라고 덧붙였다. 이병하 정부가 잘못을 빌 때까지',\n",
              "  1),\n",
              " ('이용해 임직원들의 차량 10여 대를 동원해 학교정문을 가로막고 있다. 이에 학생 200여 명은 14일 오후 4시 현재 정문 앞에서 정권에 굴복하지 말고 평화적인 행사를 보장하라며 1박2일째 연좌농성을 벌이고 있다. 학생들은 이번 ',\n",
              "  '부로서 일했다. 당시 민중당은 한 석이라도 의회에 진출해 서민과 노동자 등 약자들을 대변하겠다는 생각이었지만 의회 진출해 실패했다. 당시 군사독재를 지원한 민정당과 노태우 정권의 노동자 탄압이 거셌다. 이에 맞서 민중당은 재야에서',\n",
              "  1),\n",
              " ('8.15 대회에서는 정부의 탄압을 받고 있는 국민들이 다시 한번 모여 막힌 광장과 막힌 민주주의를 뚫고 이명박 정부를 규탄하는 자리가 될 것이다라며 대회를 강행할 뜻을 내비쳐 학교당국과 학생들의 물리적 충돌이 예상되고 있다. 한편',\n",
              "  '팽하다고 논란으로 다룬 뒤, 법을 만드는 국회의원들 스스로 불법여부를 가리지 못해 헌법재판소를 찾는 모습이 지금 국회의 위상이라고 비난하는데 그쳤다. SBS도 <대리투표 논란 확산>(김윤수 기자)에서 방송법 재투표 문제를 다뤘으나',\n",
              "  1)]"
            ]
          },
          "metadata": {},
          "execution_count": 61
        }
      ]
    },
    {
      "cell_type": "code",
      "source": [
        "from sklearn.model_selection import train_test_split\n",
        "\n",
        "# Split Train and Validation data\n",
        "train, test = train_test_split(dataset[:1000], test_size=0.2, random_state=0, shuffle=True)\n",
        "train, val = train_test_split(train, test_size=0.2, random_state=0, shuffle=True)\n",
        "print(\"train :\", len(train), \"  val :\", len(val), \"  test :\", len(test))"
      ],
      "metadata": {
        "colab": {
          "base_uri": "https://localhost:8080/"
        },
        "id": "RMkcFFbrsXhh",
        "outputId": "a6ef7e02-3b3e-4647-c161-ba6966787291"
      },
      "execution_count": 62,
      "outputs": [
        {
          "output_type": "stream",
          "name": "stdout",
          "text": [
            "train : 640   val : 160   test : 200\n"
          ]
        }
      ]
    },
    {
      "cell_type": "code",
      "source": [
        "del content\n",
        "del dataset\n",
        "del right_li\n",
        "del wrong_li\n",
        "del before_text\n",
        "del text"
      ],
      "metadata": {
        "id": "nNYBWi0xduEq"
      },
      "execution_count": 63,
      "outputs": []
    },
    {
      "cell_type": "code",
      "source": [
        "train[0]"
      ],
      "metadata": {
        "id": "K0ynXgR8TVY1",
        "colab": {
          "base_uri": "https://localhost:8080/"
        },
        "outputId": "e1e81517-7941-4de0-8b27-8834d0b3737e"
      },
      "execution_count": 64,
      "outputs": [
        {
          "output_type": "execute_result",
          "data": {
            "text/plain": [
              "('일 먼저 항공방제를 거부했다. 항공방제의 특성상 어느 한 곳만 빼고 농약을 할 수 없기 때문이었다. 이로 인해 주변 사람들한테 눈총도 많이 받았다. 주민들의 심정은 충분히 이해를 하죠. 과수 농사는 한 번 망치면 끝이거든요. 성공',\n",
              " '이주여성은 영어교사라는 안정적인 직업을 접고 연극단 전속배우가 되었단다. 그리고 그 연극을 남편과 시댁 식구들에게 보여주고 싶었단다. 거기에 그녀가 느낀 한국생활에서의 체험이나 느낌들이 담겼기 때문이었던 것 같다. 더 이상 사회 ',\n",
              " 1)"
            ]
          },
          "metadata": {},
          "execution_count": 64
        }
      ]
    },
    {
      "cell_type": "markdown",
      "source": [
        "# 여기까지 ok"
      ],
      "metadata": {
        "id": "OVwFhiQRTSh2"
      }
    },
    {
      "cell_type": "code",
      "source": [
        "# https://github.com/jhgan00/ko-sentence-transformers\n",
        "# from sentence_transformers import SentenceTransformer, util\n",
        "# import numpy as np\n",
        "\n",
        "# embedder = SentenceTransformer(\"jhgan/ko-sroberta-multitask\")\n",
        "\n",
        "# model_path = '/content/drive/My Drive/Colab Notebooks/NextLab/nli/result.pt'\n",
        "# from sentence_transformers import SentenceTransformer, util\n",
        "# import numpy as np\n",
        "# from transformers import BertModel, DistilBertModel\n",
        "# distilbert_model = DistilBertModel.from_pretrained('monologg/distilkobert')"
      ],
      "metadata": {
        "id": "k5UqSuURTVVA"
      },
      "execution_count": 23,
      "outputs": []
    },
    {
      "cell_type": "code",
      "source": [
        ""
      ],
      "metadata": {
        "id": "6pQcOZCR2SoT"
      },
      "execution_count": 23,
      "outputs": []
    },
    {
      "cell_type": "code",
      "source": [
        "# tokenizer = BertTokenizer.from_pretrained('monologg/kobert', do_lower_case=False)\n",
        "\n",
        "# model = BertForNextSentencePrediction.from_pretrained('monologg/kobert')"
      ],
      "metadata": {
        "id": "flxSYBROmWkY"
      },
      "execution_count": 35,
      "outputs": []
    },
    {
      "cell_type": "code",
      "source": [
        "# import math\n",
        "# # 이어지는 두 개의 문장\n",
        "# prompt = \" 메카로 불리는 걸까. 암베르크 공장은 커다란 병원 수술\"\n",
        "# next_sentence = \"실 같았다. 안내자가 “건초 더미에서 바늘을 찾는 게 더 쉬울 것”이라고 말할 정도로 먼지 한점 없이 깨끗했다.\"\n",
        "# encoding = tokenizer(prompt, next_sentence, return_tensors='pt', padding=True )    # 두 문장을 이어붙여서 encode\n",
        "# print(type(encoding))\n",
        "# print(encoding)\n",
        "# logits = model(encoding['input_ids'], token_type_ids=encoding['token_type_ids'])\n",
        "# print(logits)\n",
        "# print(logits.logits)\n",
        "# softmax = torch.nn.Softmax()\n",
        "# probs = softmax(logits[0])\n",
        "# print(probs)\n",
        "# print('최종 예측 레이블 :', torch.argmax(probs))"
      ],
      "metadata": {
        "colab": {
          "base_uri": "https://localhost:8080/"
        },
        "id": "-WEuRwWjm2Fk",
        "outputId": "ddcaf178-d186-49ba-d134-9a3293b2c7ea"
      },
      "execution_count": 64,
      "outputs": [
        {
          "output_type": "stream",
          "name": "stdout",
          "text": [
            "<class 'transformers.tokenization_utils_base.BatchEncoding'>\n",
            "{'input_ids': tensor([[    2,  2850,  5363,  5016, 17396,  1965,  5045,    18,  3525,  5467,\n",
            "         14118, 11525,  5019,  4198,  5042,  5109, 10016, 12728,     3,  3389,\n",
            "          1936,  8660,    18, 13544,  8573,   211,  1963,  5817,  2436,  5031,\n",
            "          8454,  2955,  5946,  5008, 16657,  1977,  2436,  3349,  5340,  1969,\n",
            "           212,  9118, 13555, 10845, 14089,  4494,  5450,  9043, 10269,  8468,\n",
            "            18,     3]]), 'token_type_ids': tensor([[0, 0, 0, 0, 0, 0, 0, 0, 0, 0, 0, 0, 0, 0, 0, 0, 0, 0, 0, 1, 1, 1, 1, 1,\n",
            "         1, 1, 1, 1, 1, 1, 1, 1, 1, 1, 1, 1, 1, 1, 1, 1, 1, 1, 1, 1, 1, 1, 1, 1,\n",
            "         1, 1, 1, 1]]), 'attention_mask': tensor([[1, 1, 1, 1, 1, 1, 1, 1, 1, 1, 1, 1, 1, 1, 1, 1, 1, 1, 1, 1, 1, 1, 1, 1,\n",
            "         1, 1, 1, 1, 1, 1, 1, 1, 1, 1, 1, 1, 1, 1, 1, 1, 1, 1, 1, 1, 1, 1, 1, 1,\n",
            "         1, 1, 1, 1]])}\n",
            "NextSentencePredictorOutput(loss=None, logits=tensor([[ 1.5886, -0.8314]], grad_fn=<AddmmBackward0>), hidden_states=None, attentions=None)\n",
            "tensor([[ 1.5886, -0.8314]], grad_fn=<AddmmBackward0>)\n",
            "tensor([[0.9183, 0.0817]], grad_fn=<SoftmaxBackward0>)\n",
            "최종 예측 레이블 : tensor(0)\n"
          ]
        },
        {
          "output_type": "stream",
          "name": "stderr",
          "text": [
            "/usr/local/lib/python3.7/dist-packages/ipykernel_launcher.py:12: UserWarning: Implicit dimension choice for softmax has been deprecated. Change the call to include dim=X as an argument.\n",
            "  if sys.path[0] == '':\n"
          ]
        }
      ]
    },
    {
      "cell_type": "code",
      "source": [
        "# tokenizer.decode([0,1,2, 3])    # unk : 없는 글자, unknown, pad 문장의 길이를 맞추기위함"
      ],
      "metadata": {
        "id": "v8xJmjOZFtgO",
        "outputId": "50c4174e-da1f-4cab-b6d1-9740c5562090",
        "colab": {
          "base_uri": "https://localhost:8080/",
          "height": 35
        }
      },
      "execution_count": 26,
      "outputs": [
        {
          "output_type": "execute_result",
          "data": {
            "text/plain": [
              "'[CLS] [SEP]'"
            ],
            "application/vnd.google.colaboratory.intrinsic+json": {
              "type": "string"
            }
          },
          "metadata": {},
          "execution_count": 26
        }
      ]
    },
    {
      "cell_type": "code",
      "source": [
        "# model = SentenceTransformer('sentence-transformers/xlm-r-100langs-bert-base-nli-stsb-mean-tokens')\n",
        "# model = TFBertForNextSentencePrediction.from_pretrained('klue/bert-base', from_pt=True)"
      ],
      "metadata": {
        "id": "91kZRcBO7K7b"
      },
      "execution_count": 29,
      "outputs": []
    },
    {
      "cell_type": "markdown",
      "source": [
        "+ Korean RoBERTa\n",
        "+ KorSTS \n",
        "+ Kr-bert-base\n",
        "\n",
        "SentenceTransformer : 문장, 텍스트, 이미지 임베딩, cosine 유사성과 비교하여 유사한 의미를 가진 문장 찾기"
      ],
      "metadata": {
        "id": "vbrcrZSkOrpn"
      }
    },
    {
      "cell_type": "code",
      "source": [
        "# tokenizer = BertTokenizer.from_pretrained(\"bert-base-uncased\")\n",
        "# model = BertForNextSentencePrediction.from_pretrained(\"bert-base-uncased\")\n",
        "# prompt = \"In Italy, pizza served in formal settings, such as at a restaurant, is presented unsliced.\"\n",
        "# next_sentence = \"The sky is blue due to the shorter wavelength of blue light.\"\n",
        "# encoding = tokenizer(prompt, next_sentence, return_tensors=\"pt\")\n",
        "# outputs = model(**encoding, labels=torch.LongTensor([1]))\n",
        "# logits = outputs.logits\n",
        "# assert logits[0, 0] < logits[0, 1]  # next sentence was random"
      ],
      "metadata": {
        "id": "CAIq97HpyStW"
      },
      "execution_count": 30,
      "outputs": []
    },
    {
      "cell_type": "markdown",
      "source": [
        "## CorpusDataset"
      ],
      "metadata": {
        "id": "UPkYoWMAKaTB"
      }
    },
    {
      "cell_type": "code",
      "source": [
        "class CorpusDataset(Dataset):\n",
        "    def __init__(self, sentences, transform: Callable):\n",
        "        self.sentences = sentences\n",
        "        self.transform = transform\n",
        "\n",
        "    def __len__(self):\n",
        "        return len(self.sentences)\n",
        "\n",
        "    def __getitem__(self, idx):\n",
        "        prompt = self.sentences[idx][0]\n",
        "        next_sentence = self.sentences[idx][1]\n",
        "        label = self.sentences[idx][2]\n",
        "        (\n",
        "            input_ids,\n",
        "            attention_mask,\n",
        "            token_type_ids,\n",
        "            label, \n",
        "        ) = self.transform(prompt, next_sentence, label)\n",
        "\n",
        "        return input_ids, attention_mask, token_type_ids, label"
      ],
      "metadata": {
        "id": "IUOliQisGaBx"
      },
      "execution_count": 65,
      "outputs": []
    },
    {
      "cell_type": "markdown",
      "source": [
        "## Preprocessor"
      ],
      "metadata": {
        "id": "WI0AtpHWKdM0"
      }
    },
    {
      "cell_type": "code",
      "source": [
        "from typing import List, Tuple\n",
        "\n",
        "class Preprocessor :\n",
        "    def __init__(self, max_len: int):\n",
        "        self.tokenizer = BertTokenizer.from_pretrained(\"snunlp/KR-Medium\", do_lower_case=False)\n",
        "        self.max_len = max_len\n",
        "        self.pad_token_id = 0\n",
        "\n",
        "    def get_input_features(self, prompt, next_sentence, label\n",
        "    ) -> Tuple[torch.Tensor, torch.Tensor, torch.Tensor, torch.Tensor]:\n",
        "        \"\"\"문장과 띄어쓰기 tagging에 대해 feature로 변환한다.\n",
        "\n",
        "        Args:\n",
        "            sentence: 문장\n",
        "            tags: 띄어쓰기 tagging\n",
        "\n",
        "        Returns:\n",
        "            feature를 리턴한다.\n",
        "            input_ids, attention_mask, token_type_ids, slot_labels\n",
        "        \"\"\"\n",
        "        tok_prompt = self.tokenizer.tokenize(prompt)    # 두 문장을 이어붙여서 encode\n",
        "        tok_next_sen = self.tokenizer.tokenize(next_sentence)    # 두 문장을 이어붙여서 encode\n",
        "\n",
        "        input_ids = [2] + self.tokenizer.convert_tokens_to_ids(tok_prompt) + [3]    # 처음과 끝 표시\n",
        "        input_ids_next_sen = [2]+ self.tokenizer.convert_tokens_to_ids(tok_next_sen)+ [3]\n",
        "\n",
        "        slicing_idx = 0\n",
        "        if len(input_ids) + len(input_ids_next_sen) > self.max_len :\n",
        "          slicing_idx = len(input_ids) + len(input_ids_next_sen) - self.max_len // 2 + 2\n",
        "          input_ids = [2] + input_ids[slicing_idx:]\n",
        "          input_ids_next_sen = input_ids_next_sen[:-slicing_idx] + [3]\n",
        "\n",
        "        token_type_ids = [0]*len(input_ids)\n",
        "        token_type_ids.extend([1]*len(input_ids_next_sen))\n",
        "        input_ids.extend(input_ids_next_sen)\n",
        "        attention_mask = [1] * len(token_type_ids)\n",
        "        pad_length = self.max_len-len(input_ids)\n",
        "\n",
        "        input_ids.extend([0] * pad_length)\n",
        "        token_type_ids.extend([0] * pad_length) # pad : 0\n",
        "        attention_mask.extend([0] * pad_length) # pad : 0\n",
        "\n",
        "        input_ids = torch.tensor(input_ids, dtype=torch.int)\n",
        "        attention_mask = torch.tensor(attention_mask, dtype=torch.int)\n",
        "        token_type_ids = torch.tensor(token_type_ids, dtype=torch.int)\n",
        "\n",
        "        label = [1.0, 0.] if label == 0 else [0., 1.0]\n",
        "        label = torch.tensor(label, dtype=torch.float)\n",
        "        return input_ids, attention_mask, token_type_ids, label"
      ],
      "metadata": {
        "id": "R3Z2VLbaFEK8"
      },
      "execution_count": 137,
      "outputs": []
    },
    {
      "cell_type": "markdown",
      "source": [
        "## BERTNextSentenceModel"
      ],
      "metadata": {
        "id": "RYnZN7OwSROj"
      }
    },
    {
      "cell_type": "code",
      "source": [
        "from math import log\n",
        "class BertOnlyNSPHead(pl.LightningModule):\n",
        "    def __init__(self, config):\n",
        "        super().__init__()\n",
        "        self.seq_relationship = nn.Linear(config.hidden_size, 2)\n",
        "\n",
        "    def forward(self, pooled_output):\n",
        "        seq_relationship_score = self.seq_relationship(pooled_output)\n",
        "        print(seq_relationship_score, len(seq_relationship_score))\n",
        "        return seq_relationship_score\n",
        "\n",
        "# NextSentencePredictorOutput\n",
        "class BERTNextSentenceModel(pl.LightningModule):\n",
        "    def __init__(self, config, dataset):\n",
        "        super().__init__()\n",
        "        print(\"init\")\n",
        "        self.config = config\n",
        "        self.dataset = dataset\n",
        "        self.labels_type = [0,1]\n",
        "        self.pad_token_id = 0\n",
        "        self.softmax = torch.nn.Softmax()\n",
        "        self.bert_config = BertConfig.from_pretrained(\n",
        "            self.config.bert_model, num_labels=2\n",
        "        )\n",
        "        self.model = BertForNextSentencePrediction.from_pretrained(\n",
        "            self.config.bert_model, config=self.bert_config\n",
        "        )\n",
        "        self.cls = BertOnlyNSPHead(config)\n",
        "        self.dropout = nn.Dropout(self.config.dropout_rate)\n",
        "        self.linear = nn.Linear(\n",
        "            self.bert_config.hidden_size, len(self.labels_type)\n",
        "        )\n",
        "\n",
        "    def forward(self,\n",
        "        input_ids=None, attention_mask=None, token_type_ids=None, position_ids=None,\n",
        "        head_mask=None, inputs_embeds=None, labels=None, output_attentions=None, output_hidden_states=None,\n",
        "        return_dict=None, **kwargs, ):\n",
        "        \"\"\"\n",
        "        return NextSentencePredictorOutput(\n",
        "            loss=next_sentence_loss,\n",
        "            logits=seq_relationship_scores,\n",
        "            hidden_states=outputs.hidden_states,\n",
        "            attentions=outputs.attentions,\n",
        "        )\n",
        "\n",
        "        \"\"\"\n",
        "        logits = self.model(input_ids, token_type_ids=token_type_ids).logits\n",
        "        probs = self.softmax(logits)\n",
        "        return probs\n",
        "\n",
        "    def training_step(self, batch, batch_nb):\n",
        "        input_ids, attention_mask, token_type_ids, label_ids = batch\n",
        "        \n",
        "        outputs = self(\n",
        "            input_ids=input_ids,\n",
        "            attention_mask=attention_mask,\n",
        "            token_type_ids=token_type_ids,\n",
        "            labels=label_ids,\n",
        "        )\n",
        "\n",
        "        loss = self._calculate_loss(outputs, label_ids) # slot_labels : labels\n",
        "        # f1 = self._f1_score(outputs, label_ids)\n",
        "        acc = self._calculate_accuracy(outputs, label_ids)\n",
        "        tensorboard_logs = {'train_loss': loss, 'train_acc':acc}\n",
        "        return {\"loss\": loss, \"acc\": acc, \"log\": tensorboard_logs}\n",
        "\n",
        "    def training_end(self, batch, batch_nb):\n",
        "        input_ids, attention_mask, token_type_ids, label_ids = batch\n",
        "\n",
        "        outputs = self(\n",
        "            input_ids=input_ids,\n",
        "            attention_mask=attention_mask,\n",
        "            token_type_ids=token_type_ids,\n",
        "        )\n",
        "        loss = self._calculate_loss(outputs, label_ids) # slot_labels : labels\n",
        "        # f1 = self._f1_score(outputs, slot_label_ids)\n",
        "        acc = self._calculate_accuracy(outputs, label_ids)\n",
        "\n",
        "        tensorboard_logs = {'train_loss': loss, 'train_acc':acc}\n",
        "        print(\"training_end : \", tensorboard_logs)\n",
        "        return {\"loss\": loss, \"acc\": acc, \"log\": tensorboard_logs}\n",
        "\n",
        "    def training_epoch_end(self, outputs):\n",
        "        super().on_train_epoch_end()\n",
        "        print(\"training_epoch_end\")\n",
        "            \n",
        "        avg_loss = torch.stack([x['loss'] for x in outputs]).mean()\n",
        "        # val_f1 = torch.stack([x['val_f1'] for x in outputs]).mean()\n",
        "        acc = torch.stack([x['acc'] for x in outputs]).mean()\n",
        "        tensorboard_logs = {'loss': avg_loss, 'acc': acc}\n",
        "        print('training_epoch_end : ', tensorboard_logs)\n",
        "        self.log(\"validation_epoch_end : tensorboard_logs \", tensorboard_logs)\n",
        "\n",
        "    def validation_step(self, batch, batch_nb):\n",
        "        input_ids, attention_mask, token_type_ids, slot_label_ids = batch\n",
        "        outputs = self(\n",
        "            input_ids=input_ids,\n",
        "            attention_mask=attention_mask,\n",
        "            token_type_ids=token_type_ids,\n",
        "        )\n",
        "        loss = self._calculate_loss(outputs, slot_label_ids)\n",
        "        # val_f1 = self._f1_score(outputs, slot_label_ids)\n",
        "        val_acc = self._calculate_accuracy(outputs, slot_label_ids)\n",
        "        return {\"val_loss\": loss, 'val_acc':val_acc}\n",
        "\n",
        "    def validation_epoch_end(self, outputs):\n",
        "      \n",
        "        avg_loss = torch.stack([x['val_loss'] for x in outputs]).mean()\n",
        "        # val_f1 = torch.stack([x['val_f1'] for x in outputs]).mean()\n",
        "        val_acc = torch.stack([x['val_acc'] for x in outputs]).mean()\n",
        "        tensorboard_logs = {'val_loss': avg_loss, 'val_acc':val_acc}\n",
        "        print('validation_epoch_end : ', tensorboard_logs)\n",
        "        self.log('val_acc', val_acc)\n",
        "        self.log('val_loss', avg_loss)\n",
        "        return {'val_acc':val_acc, 'val_loss': avg_loss, 'log': tensorboard_logs}\n",
        "    \n",
        "    def validation_end(self, outputs):\n",
        "        print('validation_end : ')\n",
        "\n",
        "        val_loss = torch.stack([x[\"val_loss\"] for x in outputs]).mean()\n",
        "        val_acc = torch.stack([x[\"val_acc\"] for x in outputs]).mean()\n",
        "        # val_f1 = torch.stack([x[\"val_f1\"] for x in outputs]).mean()\n",
        "        tensorboard_logs = {\n",
        "            \"val_loss\": val_loss,\n",
        "            \"val_acc\" : val_acc\n",
        "        }\n",
        "        print(\"validation_end : \", tensorboard_logs)\n",
        "        return {'val_acc':val_acc, 'val_loss': val_loss, 'log': tensorboard_logs}\n",
        "    \n",
        "    def test_step(self, batch, batch_nb):\n",
        "        input_ids, attention_mask, token_type_ids, slot_label_ids = batch\n",
        "        outputs = self(\n",
        "            input_ids=input_ids,\n",
        "            attention_mask=attention_mask,\n",
        "            token_type_ids=token_type_ids,\n",
        "        )\n",
        "\n",
        "        # f1 = self._f1_score(gt_slot_labels, pred_slot_labels)\n",
        "        acc = self._calculate_accuracy(outputs, slot_label_ids)\n",
        "        loss = self._calculate_loss(outputs, slot_label_ids)\n",
        "        return {\"test_loss\": loss, \"test_acc\": acc}\n",
        "\n",
        "    def test_end(self, outputs):\n",
        "\n",
        "        # test_f1 = torch.stack([x[\"test_f1\"] for x in outputs]).mean()\n",
        "        test_loss = torch.stack([x[\"test_loss\"] for x in outputs]).mean()\n",
        "        test_acc = torch.stack([x[\"test_acc\"] for x in outputs]).mean()\n",
        "        self.log(\"test_loss\", test_loss)\n",
        "        self.log(\"test_acc\", test_acc)\n",
        "        # self.log(\"test_f1\", test_f1)\n",
        "        return {\"labels\" : [x[\"labels\"] for x in outputs], \"test_loss\": test_loss,  \"test_acc\": test_acc}\n",
        "    \n",
        "    def test_epoch_end(self, outputs):\n",
        "        avg_loss = torch.stack([x['test_loss'] for x in outputs]).mean()\n",
        "        # f1 = torch.stack([x['test_f1'] for x in outputs]).mean()\n",
        "        acc = torch.stack([x['test_acc'] for x in outputs]).mean()\n",
        "        tensorboard_logs = {'test_loss': avg_loss, 'test_acc':acc}\n",
        "        print('test_epoch_end : ', tensorboard_logs)\n",
        "        self.log(\"test_epoch_end : tensorboard_logs \", tensorboard_logs)\n",
        "        return {'test_acc':acc, 'test_loss': avg_loss, 'log': tensorboard_logs}\n",
        "\n",
        "    def predict_step(self, batch, batch_idx, dataloader_idx=0):   # prediction : forward(), predict_step()\n",
        "        input_ids, attention_mask, token_type_ids, label_ids = batch    # slot_label은 없음.\n",
        "        outputs = self(\n",
        "            input_ids=input_ids,\n",
        "            attention_mask=attention_mask,\n",
        "            token_type_ids=token_type_ids,\n",
        "        )\n",
        "\n",
        "        return {'pred_labels':outputs, 'slot_label_ids': label_ids}\n",
        "\n",
        "\n",
        "    def configure_optimizers(self):\n",
        "        return AdamW(self.model.parameters(), lr=2e-5, eps=1e-8)\n",
        "\n",
        "    def train_dataloader(self):\n",
        "        return DataLoader(self.dataset[\"train\"], batch_size=self.config.eval_batch_size)\n",
        "\n",
        "    def val_dataloader(self):\n",
        "        return DataLoader(self.dataset[\"val\"], batch_size=self.config.eval_batch_size)\n",
        "\n",
        "    def test_dataloader(self):\n",
        "        return DataLoader(self.dataset[\"test\"], batch_size=self.config.eval_batch_size)\n",
        "\n",
        "    def pred_dataloader(self, dataset):\n",
        "        return DataLoader(dataset, batch_size=1)\n",
        "\n",
        "    def _calculate_loss(self, outputs, labels):   # 확률에서 얼마나 떨어져있는가?\n",
        "        loss = F.cross_entropy(outputs, labels)\n",
        "        return loss\n",
        "        \n",
        "    def _calculate_accuracy(self, outputs, labels):   # 0.5보다 크면 1, 아니면 0으로 labeling\n",
        "        active_logits = torch.argmax(outputs, dim=1)\n",
        "        active_labels = torch.argmax(labels, dim=1)\n",
        "        accuracy = accuracy_score(active_logits, active_labels)\n",
        "        return accuracy\n",
        "\n",
        "    # def _f1_score(self, outputs, labels):\n",
        "    #     print('_f1_score : ')\n",
        "\n",
        "    #     active_logits = outputs.view(-1)\n",
        "    #     active_labels = labels.view(-1)\n",
        "    #     print(active_logits, active_logits)\n",
        "    #     f1 = F1Score()\n",
        "    #     f1 = f1(active_logits, active_logits)\n",
        "    #     print(f1)\n",
        "    #     return f1\n",
        "\n",
        "    def _convert_ids_to_labels(self, outputs, slot_labels):\n",
        "        _, y_hat = torch.max(outputs, dim=2)\n",
        "        y_hat = y_hat.detach().cpu().numpy()\n",
        "        slot_label_ids = slot_labels.detach().cpu().numpy()\n",
        "\n",
        "        slot_label_map = {i: label for i, label in enumerate(self.slot_labels_type)}\n",
        "        slot_gt_labels = [[] for _ in range(slot_label_ids.shape[0])]\n",
        "        slot_pred_labels = [[] for _ in range(slot_label_ids.shape[0])]\n",
        "\n",
        "        for i in range(slot_label_ids.shape[0]):\n",
        "            for j in range(slot_label_ids.shape[1]):\n",
        "                if slot_label_ids[i, j] != self.pad_token_id:\n",
        "                    slot_gt_labels[i].append(slot_label_map[slot_label_ids[i][j]])\n",
        "                    slot_pred_labels[i].append(slot_label_map[y_hat[i][j]])\n",
        "\n",
        "        return slot_pred_labels, slot_gt_labels"
      ],
      "metadata": {
        "id": "hkPjDg8xRzJc"
      },
      "execution_count": 206,
      "outputs": []
    },
    {
      "cell_type": "markdown",
      "source": [
        "## Config"
      ],
      "metadata": {
        "id": "gKfOPREESKO9"
      }
    },
    {
      "cell_type": "code",
      "source": [
        "# yaml 파일 대신에 객체로 생성\n",
        "class Config(BertConfig):\n",
        "  def __init__(self) :\n",
        "    super().__init__()\n",
        "    self.task= 'kor_nextsentence_prediction_'\n",
        "    self.log_path= data_path+'/logs'\n",
        "    self.bert_model = \"snunlp/KR-Medium\"    # 수정해야함!\n",
        "    self.max_len= 256\n",
        "    self.train_batch_size= 32\n",
        "    self.eval_batch_size= 32\n",
        "    self.dropout_rate= 0.1\n",
        "    self.gpus= torch.cuda.device_count()\n",
        "config = Config()"
      ],
      "metadata": {
        "id": "SjNMG75CSJsR"
      },
      "execution_count": 207,
      "outputs": []
    },
    {
      "cell_type": "markdown",
      "source": [
        "# Train\n",
        "\n",
        "loss는 softmax한 값에서 label( [0, 1] 혹은 [1, 0] )과 얼마나 떨어져있는가?\n",
        "\n",
        "acc는 softmax(확률) 값에서 더 큰 index를 label로 지정, output : [0, 1] 혹은 [1, 0], 따라서 성능측정은 acc를 보는 것이 더 낫다."
      ],
      "metadata": {
        "id": "RADAOb-DidY9"
      }
    },
    {
      "cell_type": "code",
      "source": [
        "preprocessor = Preprocessor(config.max_len)"
      ],
      "metadata": {
        "id": "cMHINMMQf-wi"
      },
      "execution_count": 208,
      "outputs": []
    },
    {
      "cell_type": "code",
      "source": [
        "dataset = {}\n",
        "dataset['train'] = CorpusDataset(train, preprocessor.get_input_features)\n",
        "dataset['val'] = CorpusDataset(val, preprocessor.get_input_features)\n",
        "dataset['test'] = CorpusDataset(test, preprocessor.get_input_features)"
      ],
      "metadata": {
        "id": "oM0u4PTTScqM"
      },
      "execution_count": 209,
      "outputs": []
    },
    {
      "cell_type": "code",
      "source": [
        "import gc\n",
        "gc.collect()"
      ],
      "metadata": {
        "id": "j315XVgr8iDM",
        "outputId": "633c8bd5-c18f-4b11-ecf0-486403694587",
        "colab": {
          "base_uri": "https://localhost:8080/",
          "height": 35
        }
      },
      "execution_count": 210,
      "outputs": [
        {
          "output_type": "execute_result",
          "data": {
            "text/plain": [
              "3516"
            ]
          },
          "metadata": {},
          "execution_count": 210
        }
      ]
    },
    {
      "cell_type": "code",
      "source": [
        "# model = BertForNextSentencePrediction.from_pretrained(model_path)\n",
        "model = BERTNextSentenceModel(config, dataset).cuda()"
      ],
      "metadata": {
        "colab": {
          "base_uri": "https://localhost:8080/"
        },
        "id": "39QuRPjV8asV",
        "outputId": "875f4370-a4ee-4665-897c-49180df9e0e4"
      },
      "execution_count": 211,
      "outputs": [
        {
          "output_type": "stream",
          "name": "stdout",
          "text": [
            "init\n"
          ]
        },
        {
          "output_type": "stream",
          "name": "stderr",
          "text": [
            "Some weights of the model checkpoint at snunlp/KR-Medium were not used when initializing BertForNextSentencePrediction: ['cls.predictions.decoder.bias', 'cls.predictions.transform.dense.weight', 'cls.predictions.decoder.weight', 'cls.predictions.transform.LayerNorm.bias', 'cls.predictions.bias', 'cls.predictions.transform.dense.bias', 'cls.predictions.transform.LayerNorm.weight']\n",
            "- This IS expected if you are initializing BertForNextSentencePrediction from the checkpoint of a model trained on another task or with another architecture (e.g. initializing a BertForSequenceClassification model from a BertForPreTraining model).\n",
            "- This IS NOT expected if you are initializing BertForNextSentencePrediction from the checkpoint of a model that you expect to be exactly identical (initializing a BertForSequenceClassification model from a BertForSequenceClassification model).\n"
          ]
        }
      ]
    },
    {
      "cell_type": "code",
      "source": [
        "from pytorch_lightning.loggers import TensorBoardLogger\n",
        "from pytorch_lightning.callbacks.model_checkpoint import ModelCheckpoint\n",
        "from pytorch_lightning.callbacks import LearningRateMonitor\n",
        "\n",
        "logger = TensorBoardLogger(\n",
        "    save_dir=os.path.join(config.log_path, config.task), version=3, name=config.task\n",
        ")\n",
        "\n",
        "acc_checkpoint_callback = ModelCheckpoint(\n",
        "    dirpath=data_path+'/sts/checkpoints/'+ config.task, \n",
        "    filename=\"acc_{epoch}_{val_loss:35f}\",\n",
        "    verbose=True,\n",
        "    monitor='val_acc',\n",
        "    mode='max',\n",
        "    save_top_k=3,\n",
        "    save_last=True)\n",
        "\n",
        "loss_checkpoint_callback = ModelCheckpoint(\n",
        "    dirpath=data_path+'/sts/checkpoints/'+ config.task, \n",
        "    filename=\"val_{epoch}_{val_acc:.3f}\",\n",
        "    verbose=True,\n",
        "    monitor='val_loss',\n",
        "    mode='min',\n",
        "    save_top_k=1,\n",
        "    save_last=True)\n",
        "\n",
        "lrmonitor_callback = LearningRateMonitor(logging_interval='step')"
      ],
      "metadata": {
        "id": "bcmvuRLRRPJk"
      },
      "execution_count": 212,
      "outputs": []
    },
    {
      "cell_type": "code",
      "source": [
        "import gc\n",
        "gc.collect()"
      ],
      "metadata": {
        "id": "fJRxFZL7BKVe",
        "outputId": "11db631a-46ea-4049-cf37-b402c60b3ead",
        "colab": {
          "base_uri": "https://localhost:8080/"
        }
      },
      "execution_count": 213,
      "outputs": [
        {
          "output_type": "execute_result",
          "data": {
            "text/plain": [
              "538"
            ]
          },
          "metadata": {},
          "execution_count": 213
        }
      ]
    },
    {
      "cell_type": "code",
      "source": [
        "trainer = pl.Trainer(\n",
        "    gpus=config.gpus,\n",
        "    callbacks=[acc_checkpoint_callback, loss_checkpoint_callback, lrmonitor_callback],\n",
        "    logger=logger,\n",
        "    max_epochs=2,\n",
        ")\n",
        "\n",
        "trainer.fit(model)"
      ],
      "metadata": {
        "colab": {
          "base_uri": "https://localhost:8080/",
          "height": 1000,
          "referenced_widgets": [
            "208a61d5f7634565aa839e84ebf65a18",
            "50b39cfd758746baa90a5f5f10e7e437",
            "6133e3efd562449d93aaf5c79f65b71e",
            "74eea9386f7f48418b2097ee591a0d21",
            "1cb23616134c4dffb9dfd1c12bf1f4c9",
            "3287264e786c41e091118fdd180bf924",
            "e3134848795746c29f02f2b3189c307d",
            "b7db88710bdf4246bcf31f8daf58c732",
            "e08705d26aec4d508e6f7403e5510b92",
            "b48ad029bf564fe590791807277b7c1a",
            "6c1f4e9ab1594ecf98b1b99bc0d1b868",
            "5b8c2e4ae99d4c5cacda1d88b8353990",
            "cb8b922018ce48b6ab5b6d2091898780",
            "a8fdaae68b934767a8740976d65c68d8",
            "b75da99d59b04919801cbd2a10a39e28",
            "0c48155e1a9b4b7d8b3c495f843db368",
            "e22e0c739379454ca04d495893d19364",
            "a1c61bb7afeb4f8785e4d208b2e31ac6",
            "24313741d41f4b519cbed19f0c4fb02f",
            "e9e5d0dcf20e491b90f2be1df5cc6283",
            "4e329241cb2d4068ba35d4a0579a5a93",
            "4b43769a86524730afd6ccae7447c910",
            "27ab8c7010ab440395bc91a89b9b38ea",
            "7d7d3cb47bbc43b19207578a01c52779",
            "be9b5065a36644ef90605e15cc2bdca5",
            "60b73eb1aeb743cf8b8e9113a0f22c12",
            "5ce4a96e4b184fb38fbe6e8b67eed3fa",
            "ff79fa7f2ea141e495c844666d6d63f4",
            "aec210bb3b854fe2863a8ae535f724c3",
            "bac6a56911c44631a751ea678cb8eb94",
            "7ce03ed870d040a29a555459f9155098",
            "94c7c4151e5d417695317c70f664946a",
            "ad7241e395dd4233aa6a7c92e7101f30",
            "4720a6e7858f44a1a4b8930a6f392ee6",
            "3f587788abfa45c78123bbc3458f357c",
            "acece7e761034637a8d68abc0b642c58",
            "40c0334830d44fd1983e97c50decd91b",
            "018e0e887b1a4d438b6959df3f1c51c2",
            "84578afcddff446b8d2ad57188f830cc",
            "2be7834b27ee4767b3a655173c9073e9",
            "bf10e3d610dd4a86a327804387bae558",
            "c13ee0b7eae14c3baa04293b608f2ea9",
            "d1be1238aa0243d3aacf748d7862b2f8",
            "d8471c1fe7b6422a8bf70d8fcc06dc8b"
          ]
        },
        "id": "fO0tsGHDhz1A",
        "outputId": "1a116ea6-5609-4d01-8c20-9d4f844f0de0"
      },
      "execution_count": 214,
      "outputs": [
        {
          "output_type": "stream",
          "name": "stderr",
          "text": [
            "GPU available: True, used: True\n",
            "TPU available: False, using: 0 TPU cores\n",
            "IPU available: False, using: 0 IPUs\n",
            "LOCAL_RANK: 0 - CUDA_VISIBLE_DEVICES: [0]\n",
            "/usr/local/lib/python3.7/dist-packages/transformers/optimization.py:309: FutureWarning: This implementation of AdamW is deprecated and will be removed in a future version. Use the PyTorch implementation torch.optim.AdamW instead, or set `no_deprecation_warning=True` to disable this warning\n",
            "  FutureWarning,\n",
            "\n",
            "  | Name    | Type                          | Params\n",
            "----------------------------------------------------------\n",
            "0 | softmax | Softmax                       | 0     \n",
            "1 | model   | BertForNextSentencePrediction | 101 M \n",
            "2 | cls     | BertOnlyNSPHead               | 1.5 K \n",
            "3 | dropout | Dropout                       | 0     \n",
            "4 | linear  | Linear                        | 1.5 K \n",
            "----------------------------------------------------------\n",
            "101 M     Trainable params\n",
            "0         Non-trainable params\n",
            "101 M     Total params\n",
            "405.624   Total estimated model params size (MB)\n",
            "/usr/local/lib/python3.7/dist-packages/pytorch_lightning/callbacks/model_checkpoint.py:631: UserWarning: Checkpoint directory /content/drive/My Drive/Colab Notebooks/NextLab/news_class9x1400/sts/checkpoints/kor_nextsentence_prediction_ exists and is not empty.\n",
            "  rank_zero_warn(f\"Checkpoint directory {dirpath} exists and is not empty.\")\n"
          ]
        },
        {
          "output_type": "display_data",
          "data": {
            "text/plain": [
              "Validation sanity check: 0it [00:00, ?it/s]"
            ],
            "application/vnd.jupyter.widget-view+json": {
              "version_major": 2,
              "version_minor": 0,
              "model_id": "208a61d5f7634565aa839e84ebf65a18"
            }
          },
          "metadata": {}
        },
        {
          "output_type": "stream",
          "name": "stderr",
          "text": [
            "/usr/local/lib/python3.7/dist-packages/pytorch_lightning/trainer/data_loading.py:133: UserWarning: The dataloader, val_dataloader 0, does not have many workers which may be a bottleneck. Consider increasing the value of the `num_workers` argument` (try 4 which is the number of cpus on this machine) in the `DataLoader` init to improve performance.\n",
            "  f\"The dataloader, {name}, does not have many workers which may be a bottleneck.\"\n",
            "/usr/local/lib/python3.7/dist-packages/ipykernel_launcher.py:48: UserWarning: Implicit dimension choice for softmax has been deprecated. Change the call to include dim=X as an argument.\n"
          ]
        },
        {
          "output_type": "stream",
          "name": "stdout",
          "text": [
            "tensor(0.5023, device='cuda:0')\n",
            "tensor(0.4128, device='cuda:0')\n",
            "validation_epoch_end :  {'val_loss': tensor(0.4575, device='cuda:0'), 'val_acc': tensor(0.8281, device='cuda:0')}\n"
          ]
        },
        {
          "output_type": "stream",
          "name": "stderr",
          "text": [
            "/usr/local/lib/python3.7/dist-packages/pytorch_lightning/trainer/data_loading.py:133: UserWarning: The dataloader, train_dataloader, does not have many workers which may be a bottleneck. Consider increasing the value of the `num_workers` argument` (try 4 which is the number of cpus on this machine) in the `DataLoader` init to improve performance.\n",
            "  f\"The dataloader, {name}, does not have many workers which may be a bottleneck.\"\n",
            "/usr/local/lib/python3.7/dist-packages/pytorch_lightning/trainer/data_loading.py:433: UserWarning: The number of training samples (20) is smaller than the logging interval Trainer(log_every_n_steps=50). Set a lower value for log_every_n_steps if you want to see logs for the training epoch.\n",
            "  f\"The number of training samples ({self.num_training_batches}) is smaller than the logging interval\"\n"
          ]
        },
        {
          "output_type": "display_data",
          "data": {
            "text/plain": [
              "Training: 0it [00:00, ?it/s]"
            ],
            "application/vnd.jupyter.widget-view+json": {
              "version_major": 2,
              "version_minor": 0,
              "model_id": "5b8c2e4ae99d4c5cacda1d88b8353990"
            }
          },
          "metadata": {}
        },
        {
          "output_type": "stream",
          "name": "stdout",
          "text": [
            "tensor(0.3802, device='cuda:0', grad_fn=<DivBackward1>)\n"
          ]
        },
        {
          "output_type": "stream",
          "name": "stderr",
          "text": [
            "/usr/local/lib/python3.7/dist-packages/pytorch_lightning/loops/optimization/closure.py:36: LightningDeprecationWarning: One of the returned values {'log', 'acc'} has a `grad_fn`. We will detach it automatically but this behaviour will change in v1.6. Please detach it manually: `return {'loss': ..., 'something': something.detach()}`\n",
            "  f\"One of the returned values {set(extra.keys())} has a `grad_fn`. We will detach it automatically\"\n"
          ]
        },
        {
          "output_type": "stream",
          "name": "stdout",
          "text": [
            "tensor(0.4887, device='cuda:0', grad_fn=<DivBackward1>)\n",
            "tensor(0.3593, device='cuda:0', grad_fn=<DivBackward1>)\n",
            "tensor(0.3933, device='cuda:0', grad_fn=<DivBackward1>)\n",
            "tensor(0.3694, device='cuda:0', grad_fn=<DivBackward1>)\n",
            "tensor(0.3440, device='cuda:0', grad_fn=<DivBackward1>)\n",
            "tensor(0.3181, device='cuda:0', grad_fn=<DivBackward1>)\n",
            "tensor(0.3927, device='cuda:0', grad_fn=<DivBackward1>)\n",
            "tensor(0.3584, device='cuda:0', grad_fn=<DivBackward1>)\n",
            "tensor(0.3222, device='cuda:0', grad_fn=<DivBackward1>)\n",
            "tensor(0.3520, device='cuda:0', grad_fn=<DivBackward1>)\n",
            "tensor(0.3697, device='cuda:0', grad_fn=<DivBackward1>)\n",
            "tensor(0.3782, device='cuda:0', grad_fn=<DivBackward1>)\n",
            "tensor(0.3423, device='cuda:0', grad_fn=<DivBackward1>)\n",
            "tensor(0.3500, device='cuda:0', grad_fn=<DivBackward1>)\n",
            "tensor(0.3221, device='cuda:0', grad_fn=<DivBackward1>)\n",
            "tensor(0.3402, device='cuda:0', grad_fn=<DivBackward1>)\n",
            "tensor(0.3196, device='cuda:0', grad_fn=<DivBackward1>)\n",
            "tensor(0.3401, device='cuda:0', grad_fn=<DivBackward1>)\n",
            "tensor(0.3877, device='cuda:0', grad_fn=<DivBackward1>)\n"
          ]
        },
        {
          "output_type": "display_data",
          "data": {
            "text/plain": [
              "Validating: 0it [00:00, ?it/s]"
            ],
            "application/vnd.jupyter.widget-view+json": {
              "version_major": 2,
              "version_minor": 0,
              "model_id": "27ab8c7010ab440395bc91a89b9b38ea"
            }
          },
          "metadata": {}
        },
        {
          "output_type": "stream",
          "name": "stdout",
          "text": [
            "tensor(0.3473, device='cuda:0')\n",
            "tensor(0.3492, device='cuda:0')\n",
            "tensor(0.3147, device='cuda:0')\n",
            "tensor(0.3827, device='cuda:0')\n"
          ]
        },
        {
          "output_type": "stream",
          "name": "stderr",
          "text": [
            "Epoch 0, global step 19: val_acc reached 0.95625 (best 0.95625), saving model to \"/content/drive/My Drive/Colab Notebooks/NextLab/news_class9x1400/sts/checkpoints/kor_nextsentence_prediction_/acc_epoch=0_val_loss=                           0.352356.ckpt\" as top 3\n"
          ]
        },
        {
          "output_type": "stream",
          "name": "stdout",
          "text": [
            "tensor(0.3678, device='cuda:0')\n",
            "validation_epoch_end :  {'val_loss': tensor(0.3524, device='cuda:0'), 'val_acc': tensor(0.9563, device='cuda:0')}\n",
            "training_epoch_end\n",
            "training_epoch_end :  {'loss': tensor(0.3614, device='cuda:0'), 'acc': tensor(0.9547, device='cuda:0')}\n"
          ]
        },
        {
          "output_type": "stream",
          "name": "stderr",
          "text": [
            "Epoch 0, global step 19: val_loss reached 0.35236 (best 0.35236), saving model to \"/content/drive/My Drive/Colab Notebooks/NextLab/news_class9x1400/sts/checkpoints/kor_nextsentence_prediction_/val_epoch=0_val_acc=0.956.ckpt\" as top 1\n"
          ]
        },
        {
          "output_type": "stream",
          "name": "stdout",
          "text": [
            "tensor(0.3180, device='cuda:0', grad_fn=<DivBackward1>)\n",
            "tensor(0.3145, device='cuda:0', grad_fn=<DivBackward1>)\n",
            "tensor(0.3196, device='cuda:0', grad_fn=<DivBackward1>)\n",
            "tensor(0.3625, device='cuda:0', grad_fn=<DivBackward1>)\n",
            "tensor(0.3641, device='cuda:0', grad_fn=<DivBackward1>)\n",
            "tensor(0.3208, device='cuda:0', grad_fn=<DivBackward1>)\n",
            "tensor(0.3147, device='cuda:0', grad_fn=<DivBackward1>)\n",
            "tensor(0.3263, device='cuda:0', grad_fn=<DivBackward1>)\n",
            "tensor(0.3485, device='cuda:0', grad_fn=<DivBackward1>)\n",
            "tensor(0.3139, device='cuda:0', grad_fn=<DivBackward1>)\n",
            "tensor(0.3163, device='cuda:0', grad_fn=<DivBackward1>)\n",
            "tensor(0.3511, device='cuda:0', grad_fn=<DivBackward1>)\n",
            "tensor(0.3460, device='cuda:0', grad_fn=<DivBackward1>)\n",
            "tensor(0.3173, device='cuda:0', grad_fn=<DivBackward1>)\n",
            "tensor(0.3449, device='cuda:0', grad_fn=<DivBackward1>)\n",
            "tensor(0.3135, device='cuda:0', grad_fn=<DivBackward1>)\n",
            "tensor(0.3140, device='cuda:0', grad_fn=<DivBackward1>)\n",
            "tensor(0.3136, device='cuda:0', grad_fn=<DivBackward1>)\n",
            "tensor(0.3286, device='cuda:0', grad_fn=<DivBackward1>)\n",
            "tensor(0.3454, device='cuda:0', grad_fn=<DivBackward1>)\n"
          ]
        },
        {
          "output_type": "display_data",
          "data": {
            "text/plain": [
              "Validating: 0it [00:00, ?it/s]"
            ],
            "application/vnd.jupyter.widget-view+json": {
              "version_major": 2,
              "version_minor": 0,
              "model_id": "4720a6e7858f44a1a4b8930a6f392ee6"
            }
          },
          "metadata": {}
        },
        {
          "output_type": "stream",
          "name": "stdout",
          "text": [
            "tensor(0.3462, device='cuda:0')\n",
            "tensor(0.3477, device='cuda:0')\n",
            "tensor(0.3162, device='cuda:0')\n",
            "tensor(0.4004, device='cuda:0')\n"
          ]
        },
        {
          "output_type": "stream",
          "name": "stderr",
          "text": [
            "Epoch 1, global step 39: val_acc reached 0.96250 (best 0.96250), saving model to \"/content/drive/My Drive/Colab Notebooks/NextLab/news_class9x1400/sts/checkpoints/kor_nextsentence_prediction_/acc_epoch=1_val_loss=                           0.351590.ckpt\" as top 3\n"
          ]
        },
        {
          "output_type": "stream",
          "name": "stdout",
          "text": [
            "tensor(0.3475, device='cuda:0')\n",
            "validation_epoch_end :  {'val_loss': tensor(0.3516, device='cuda:0'), 'val_acc': tensor(0.9625, device='cuda:0')}\n",
            "training_epoch_end\n",
            "training_epoch_end :  {'loss': tensor(0.3297, device='cuda:0'), 'acc': tensor(0.9844, device='cuda:0')}\n"
          ]
        },
        {
          "output_type": "stream",
          "name": "stderr",
          "text": [
            "Epoch 1, global step 39: val_loss reached 0.35159 (best 0.35159), saving model to \"/content/drive/My Drive/Colab Notebooks/NextLab/news_class9x1400/sts/checkpoints/kor_nextsentence_prediction_/val_epoch=1_val_acc=0.963.ckpt\" as top 1\n",
            "Saving latest checkpoint...\n",
            "Saving latest checkpoint...\n"
          ]
        }
      ]
    },
    {
      "cell_type": "code",
      "source": [
        "# bert model에 forward return 값 고쳐야함. : linear? relu??\n",
        "# https://huggingface.co/transformers/v3.0.2/model_doc/bert.html#bertfornextsentenceprediction"
      ],
      "metadata": {
        "id": "9YnWBdy5iGNk"
      },
      "execution_count": 215,
      "outputs": []
    },
    {
      "cell_type": "code",
      "source": [
        "trainer.test()"
      ],
      "metadata": {
        "id": "zVNMIn89hOUb",
        "outputId": "6e8fa8e5-1859-4b8e-f3b2-5dc983cbcd60",
        "colab": {
          "base_uri": "https://localhost:8080/",
          "height": 491,
          "referenced_widgets": [
            "cbe69e89ac184dcbabb0e19f821537e0",
            "bb589a25754d46a49807749a9f1ca538",
            "e6661f804c074345a7731b5067fea9c5",
            "193c2990b52d4143a898aa1e9b350109",
            "129885fc814d4343bcb72026898920a2",
            "57359ee041e44371be4985e421df437e",
            "2daec3d7091c4d3488431ffe0ec7482b",
            "fb27dfd922824dd1a0fe74efa94cb1ec",
            "047566aafa484f66a740a7de8656945b",
            "b14296978feb4a9595826820cb0b26ab",
            "b14c5ceb82e8431a853cd334d4cd9317"
          ]
        }
      },
      "execution_count": 216,
      "outputs": [
        {
          "output_type": "stream",
          "name": "stderr",
          "text": [
            "/usr/local/lib/python3.7/dist-packages/pytorch_lightning/trainer/trainer.py:1399: UserWarning: `.test(ckpt_path=None)` was called without a model. The best model of the previous `fit` call will be used. You can pass `test(ckpt_path='best')` to use and best model checkpoint and avoid this warning or `ckpt_path=trainer.checkpoint_callback.last_model_path` to use the last model.\n",
            "  f\"`.{fn}(ckpt_path=None)` was called without a model.\"\n",
            "Restoring states from the checkpoint path at /content/drive/My Drive/Colab Notebooks/NextLab/news_class9x1400/sts/checkpoints/kor_nextsentence_prediction_/acc_epoch=1_val_loss=                           0.351590.ckpt\n",
            "LOCAL_RANK: 0 - CUDA_VISIBLE_DEVICES: [0]\n",
            "Loaded model weights from checkpoint at /content/drive/My Drive/Colab Notebooks/NextLab/news_class9x1400/sts/checkpoints/kor_nextsentence_prediction_/acc_epoch=1_val_loss=                           0.351590.ckpt\n",
            "/usr/local/lib/python3.7/dist-packages/pytorch_lightning/trainer/data_loading.py:133: UserWarning: The dataloader, test_dataloader 0, does not have many workers which may be a bottleneck. Consider increasing the value of the `num_workers` argument` (try 4 which is the number of cpus on this machine) in the `DataLoader` init to improve performance.\n",
            "  f\"The dataloader, {name}, does not have many workers which may be a bottleneck.\"\n"
          ]
        },
        {
          "output_type": "display_data",
          "data": {
            "text/plain": [
              "Testing: 0it [00:00, ?it/s]"
            ],
            "application/vnd.jupyter.widget-view+json": {
              "version_major": 2,
              "version_minor": 0,
              "model_id": "cbe69e89ac184dcbabb0e19f821537e0"
            }
          },
          "metadata": {}
        },
        {
          "output_type": "stream",
          "name": "stderr",
          "text": [
            "/usr/local/lib/python3.7/dist-packages/ipykernel_launcher.py:48: UserWarning: Implicit dimension choice for softmax has been deprecated. Change the call to include dim=X as an argument.\n"
          ]
        },
        {
          "output_type": "stream",
          "name": "stdout",
          "text": [
            "tensor(0.3134, device='cuda:0')\n",
            "tensor(0.3233, device='cuda:0')\n",
            "tensor(0.3208, device='cuda:0')\n",
            "tensor(0.3452, device='cuda:0')\n",
            "tensor(0.3538, device='cuda:0')\n",
            "tensor(0.3154, device='cuda:0')\n",
            "tensor(0.3138, device='cuda:0')\n",
            "test_epoch_end :  {'test_loss': tensor(0.3265, device='cuda:0'), 'test_acc': tensor(0.9911, device='cuda:0')}\n",
            "--------------------------------------------------------------------------------\n",
            "DATALOADER:0 TEST RESULTS\n",
            "{'test_epoch_end : tensorboard_logs ': {'test_acc': tensor(0.9911, device='cuda:0'),\n",
            "                                        'test_loss': tensor(0.3265, device='cuda:0')}}\n",
            "--------------------------------------------------------------------------------\n"
          ]
        },
        {
          "output_type": "execute_result",
          "data": {
            "text/plain": [
              "[{'test_epoch_end : tensorboard_logs ': {'test_acc': tensor(0.9911, device='cuda:0'),\n",
              "   'test_loss': tensor(0.3265, device='cuda:0')}}]"
            ]
          },
          "metadata": {},
          "execution_count": 216
        }
      ]
    },
    {
      "cell_type": "code",
      "source": [
        ""
      ],
      "metadata": {
        "id": "8fIy2SCvH0e0"
      },
      "execution_count": null,
      "outputs": []
    }
  ]
}