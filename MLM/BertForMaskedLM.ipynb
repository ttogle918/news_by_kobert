{
  "nbformat": 4,
  "nbformat_minor": 0,
  "metadata": {
    "colab": {
      "name": "BertForMaskedLM.ipynb",
      "provenance": [],
      "collapsed_sections": [],
      "machine_shape": "hm",
      "authorship_tag": "ABX9TyONJVP/thJw/XP9HCcO7ETI",
      "include_colab_link": true
    },
    "kernelspec": {
      "name": "python3",
      "display_name": "Python 3"
    },
    "language_info": {
      "name": "python"
    },
    "accelerator": "GPU",
    "widgets": {
      "application/vnd.jupyter.widget-state+json": {
        "9f4a7155303e44d48e27bdb1a531292b": {
          "model_module": "@jupyter-widgets/controls",
          "model_name": "HBoxModel",
          "model_module_version": "1.5.0",
          "state": {
            "_dom_classes": [],
            "_model_module": "@jupyter-widgets/controls",
            "_model_module_version": "1.5.0",
            "_model_name": "HBoxModel",
            "_view_count": null,
            "_view_module": "@jupyter-widgets/controls",
            "_view_module_version": "1.5.0",
            "_view_name": "HBoxView",
            "box_style": "",
            "children": [
              "IPY_MODEL_3a6104b2a95d47aa9aa783555203c585",
              "IPY_MODEL_f566e42b073f427e996f5f3c1478207b",
              "IPY_MODEL_f214f09113904b249ecf5e5be12d17bc"
            ],
            "layout": "IPY_MODEL_403c145a3bfb43c5b10601e14a4c1e85"
          }
        },
        "3a6104b2a95d47aa9aa783555203c585": {
          "model_module": "@jupyter-widgets/controls",
          "model_name": "HTMLModel",
          "model_module_version": "1.5.0",
          "state": {
            "_dom_classes": [],
            "_model_module": "@jupyter-widgets/controls",
            "_model_module_version": "1.5.0",
            "_model_name": "HTMLModel",
            "_view_count": null,
            "_view_module": "@jupyter-widgets/controls",
            "_view_module_version": "1.5.0",
            "_view_name": "HTMLView",
            "description": "",
            "description_tooltip": null,
            "layout": "IPY_MODEL_dc396fc8dd93408da34d6dc129130e76",
            "placeholder": "​",
            "style": "IPY_MODEL_c7c490e1410e4b7daeaf84056d4bbc4c",
            "value": "Downloading: 100%"
          }
        },
        "f566e42b073f427e996f5f3c1478207b": {
          "model_module": "@jupyter-widgets/controls",
          "model_name": "FloatProgressModel",
          "model_module_version": "1.5.0",
          "state": {
            "_dom_classes": [],
            "_model_module": "@jupyter-widgets/controls",
            "_model_module_version": "1.5.0",
            "_model_name": "FloatProgressModel",
            "_view_count": null,
            "_view_module": "@jupyter-widgets/controls",
            "_view_module_version": "1.5.0",
            "_view_name": "ProgressView",
            "bar_style": "success",
            "description": "",
            "description_tooltip": null,
            "layout": "IPY_MODEL_25238f3270e8401c9163ac849c62da83",
            "max": 143209,
            "min": 0,
            "orientation": "horizontal",
            "style": "IPY_MODEL_2aa5b88ae0964a33ab8c5e7a7978fe5e",
            "value": 143209
          }
        },
        "f214f09113904b249ecf5e5be12d17bc": {
          "model_module": "@jupyter-widgets/controls",
          "model_name": "HTMLModel",
          "model_module_version": "1.5.0",
          "state": {
            "_dom_classes": [],
            "_model_module": "@jupyter-widgets/controls",
            "_model_module_version": "1.5.0",
            "_model_name": "HTMLModel",
            "_view_count": null,
            "_view_module": "@jupyter-widgets/controls",
            "_view_module_version": "1.5.0",
            "_view_name": "HTMLView",
            "description": "",
            "description_tooltip": null,
            "layout": "IPY_MODEL_fee6a6ba0dc14c619bb1dd6f32731c11",
            "placeholder": "​",
            "style": "IPY_MODEL_dd37bcc790b644cf875149bc509fd206",
            "value": " 140k/140k [00:00&lt;00:00, 264kB/s]"
          }
        },
        "403c145a3bfb43c5b10601e14a4c1e85": {
          "model_module": "@jupyter-widgets/base",
          "model_name": "LayoutModel",
          "model_module_version": "1.2.0",
          "state": {
            "_model_module": "@jupyter-widgets/base",
            "_model_module_version": "1.2.0",
            "_model_name": "LayoutModel",
            "_view_count": null,
            "_view_module": "@jupyter-widgets/base",
            "_view_module_version": "1.2.0",
            "_view_name": "LayoutView",
            "align_content": null,
            "align_items": null,
            "align_self": null,
            "border": null,
            "bottom": null,
            "display": null,
            "flex": null,
            "flex_flow": null,
            "grid_area": null,
            "grid_auto_columns": null,
            "grid_auto_flow": null,
            "grid_auto_rows": null,
            "grid_column": null,
            "grid_gap": null,
            "grid_row": null,
            "grid_template_areas": null,
            "grid_template_columns": null,
            "grid_template_rows": null,
            "height": null,
            "justify_content": null,
            "justify_items": null,
            "left": null,
            "margin": null,
            "max_height": null,
            "max_width": null,
            "min_height": null,
            "min_width": null,
            "object_fit": null,
            "object_position": null,
            "order": null,
            "overflow": null,
            "overflow_x": null,
            "overflow_y": null,
            "padding": null,
            "right": null,
            "top": null,
            "visibility": null,
            "width": null
          }
        },
        "dc396fc8dd93408da34d6dc129130e76": {
          "model_module": "@jupyter-widgets/base",
          "model_name": "LayoutModel",
          "model_module_version": "1.2.0",
          "state": {
            "_model_module": "@jupyter-widgets/base",
            "_model_module_version": "1.2.0",
            "_model_name": "LayoutModel",
            "_view_count": null,
            "_view_module": "@jupyter-widgets/base",
            "_view_module_version": "1.2.0",
            "_view_name": "LayoutView",
            "align_content": null,
            "align_items": null,
            "align_self": null,
            "border": null,
            "bottom": null,
            "display": null,
            "flex": null,
            "flex_flow": null,
            "grid_area": null,
            "grid_auto_columns": null,
            "grid_auto_flow": null,
            "grid_auto_rows": null,
            "grid_column": null,
            "grid_gap": null,
            "grid_row": null,
            "grid_template_areas": null,
            "grid_template_columns": null,
            "grid_template_rows": null,
            "height": null,
            "justify_content": null,
            "justify_items": null,
            "left": null,
            "margin": null,
            "max_height": null,
            "max_width": null,
            "min_height": null,
            "min_width": null,
            "object_fit": null,
            "object_position": null,
            "order": null,
            "overflow": null,
            "overflow_x": null,
            "overflow_y": null,
            "padding": null,
            "right": null,
            "top": null,
            "visibility": null,
            "width": null
          }
        },
        "c7c490e1410e4b7daeaf84056d4bbc4c": {
          "model_module": "@jupyter-widgets/controls",
          "model_name": "DescriptionStyleModel",
          "model_module_version": "1.5.0",
          "state": {
            "_model_module": "@jupyter-widgets/controls",
            "_model_module_version": "1.5.0",
            "_model_name": "DescriptionStyleModel",
            "_view_count": null,
            "_view_module": "@jupyter-widgets/base",
            "_view_module_version": "1.2.0",
            "_view_name": "StyleView",
            "description_width": ""
          }
        },
        "25238f3270e8401c9163ac849c62da83": {
          "model_module": "@jupyter-widgets/base",
          "model_name": "LayoutModel",
          "model_module_version": "1.2.0",
          "state": {
            "_model_module": "@jupyter-widgets/base",
            "_model_module_version": "1.2.0",
            "_model_name": "LayoutModel",
            "_view_count": null,
            "_view_module": "@jupyter-widgets/base",
            "_view_module_version": "1.2.0",
            "_view_name": "LayoutView",
            "align_content": null,
            "align_items": null,
            "align_self": null,
            "border": null,
            "bottom": null,
            "display": null,
            "flex": null,
            "flex_flow": null,
            "grid_area": null,
            "grid_auto_columns": null,
            "grid_auto_flow": null,
            "grid_auto_rows": null,
            "grid_column": null,
            "grid_gap": null,
            "grid_row": null,
            "grid_template_areas": null,
            "grid_template_columns": null,
            "grid_template_rows": null,
            "height": null,
            "justify_content": null,
            "justify_items": null,
            "left": null,
            "margin": null,
            "max_height": null,
            "max_width": null,
            "min_height": null,
            "min_width": null,
            "object_fit": null,
            "object_position": null,
            "order": null,
            "overflow": null,
            "overflow_x": null,
            "overflow_y": null,
            "padding": null,
            "right": null,
            "top": null,
            "visibility": null,
            "width": null
          }
        },
        "2aa5b88ae0964a33ab8c5e7a7978fe5e": {
          "model_module": "@jupyter-widgets/controls",
          "model_name": "ProgressStyleModel",
          "model_module_version": "1.5.0",
          "state": {
            "_model_module": "@jupyter-widgets/controls",
            "_model_module_version": "1.5.0",
            "_model_name": "ProgressStyleModel",
            "_view_count": null,
            "_view_module": "@jupyter-widgets/base",
            "_view_module_version": "1.2.0",
            "_view_name": "StyleView",
            "bar_color": null,
            "description_width": ""
          }
        },
        "fee6a6ba0dc14c619bb1dd6f32731c11": {
          "model_module": "@jupyter-widgets/base",
          "model_name": "LayoutModel",
          "model_module_version": "1.2.0",
          "state": {
            "_model_module": "@jupyter-widgets/base",
            "_model_module_version": "1.2.0",
            "_model_name": "LayoutModel",
            "_view_count": null,
            "_view_module": "@jupyter-widgets/base",
            "_view_module_version": "1.2.0",
            "_view_name": "LayoutView",
            "align_content": null,
            "align_items": null,
            "align_self": null,
            "border": null,
            "bottom": null,
            "display": null,
            "flex": null,
            "flex_flow": null,
            "grid_area": null,
            "grid_auto_columns": null,
            "grid_auto_flow": null,
            "grid_auto_rows": null,
            "grid_column": null,
            "grid_gap": null,
            "grid_row": null,
            "grid_template_areas": null,
            "grid_template_columns": null,
            "grid_template_rows": null,
            "height": null,
            "justify_content": null,
            "justify_items": null,
            "left": null,
            "margin": null,
            "max_height": null,
            "max_width": null,
            "min_height": null,
            "min_width": null,
            "object_fit": null,
            "object_position": null,
            "order": null,
            "overflow": null,
            "overflow_x": null,
            "overflow_y": null,
            "padding": null,
            "right": null,
            "top": null,
            "visibility": null,
            "width": null
          }
        },
        "dd37bcc790b644cf875149bc509fd206": {
          "model_module": "@jupyter-widgets/controls",
          "model_name": "DescriptionStyleModel",
          "model_module_version": "1.5.0",
          "state": {
            "_model_module": "@jupyter-widgets/controls",
            "_model_module_version": "1.5.0",
            "_model_name": "DescriptionStyleModel",
            "_view_count": null,
            "_view_module": "@jupyter-widgets/base",
            "_view_module_version": "1.2.0",
            "_view_name": "StyleView",
            "description_width": ""
          }
        },
        "c1ad6aaa31df4b6189a53e19173d82c9": {
          "model_module": "@jupyter-widgets/controls",
          "model_name": "HBoxModel",
          "model_module_version": "1.5.0",
          "state": {
            "_dom_classes": [],
            "_model_module": "@jupyter-widgets/controls",
            "_model_module_version": "1.5.0",
            "_model_name": "HBoxModel",
            "_view_count": null,
            "_view_module": "@jupyter-widgets/controls",
            "_view_module_version": "1.5.0",
            "_view_name": "HBoxView",
            "box_style": "",
            "children": [
              "IPY_MODEL_136812fd25ca46a0a3eb3690fdd62127",
              "IPY_MODEL_b95e2d3378ac4c9386259e788e6b11a2",
              "IPY_MODEL_ae65418b4ada49c69d414d85599e0d36"
            ],
            "layout": "IPY_MODEL_1ae5fa802aa3469b964914f58c64a7a2"
          }
        },
        "136812fd25ca46a0a3eb3690fdd62127": {
          "model_module": "@jupyter-widgets/controls",
          "model_name": "HTMLModel",
          "model_module_version": "1.5.0",
          "state": {
            "_dom_classes": [],
            "_model_module": "@jupyter-widgets/controls",
            "_model_module_version": "1.5.0",
            "_model_name": "HTMLModel",
            "_view_count": null,
            "_view_module": "@jupyter-widgets/controls",
            "_view_module_version": "1.5.0",
            "_view_name": "HTMLView",
            "description": "",
            "description_tooltip": null,
            "layout": "IPY_MODEL_736dc98074d34508b4d99aeaf50987d8",
            "placeholder": "​",
            "style": "IPY_MODEL_c559b27358e2494dba00fa0fec0fd23c",
            "value": "Downloading: 100%"
          }
        },
        "b95e2d3378ac4c9386259e788e6b11a2": {
          "model_module": "@jupyter-widgets/controls",
          "model_name": "FloatProgressModel",
          "model_module_version": "1.5.0",
          "state": {
            "_dom_classes": [],
            "_model_module": "@jupyter-widgets/controls",
            "_model_module_version": "1.5.0",
            "_model_name": "FloatProgressModel",
            "_view_count": null,
            "_view_module": "@jupyter-widgets/controls",
            "_view_module_version": "1.5.0",
            "_view_name": "ProgressView",
            "bar_style": "success",
            "description": "",
            "description_tooltip": null,
            "layout": "IPY_MODEL_949e3ef569684de7a1495f13af6ab651",
            "max": 28,
            "min": 0,
            "orientation": "horizontal",
            "style": "IPY_MODEL_830bc40dfe9e4ff589fa9cf35c3d0512",
            "value": 28
          }
        },
        "ae65418b4ada49c69d414d85599e0d36": {
          "model_module": "@jupyter-widgets/controls",
          "model_name": "HTMLModel",
          "model_module_version": "1.5.0",
          "state": {
            "_dom_classes": [],
            "_model_module": "@jupyter-widgets/controls",
            "_model_module_version": "1.5.0",
            "_model_name": "HTMLModel",
            "_view_count": null,
            "_view_module": "@jupyter-widgets/controls",
            "_view_module_version": "1.5.0",
            "_view_name": "HTMLView",
            "description": "",
            "description_tooltip": null,
            "layout": "IPY_MODEL_5323fa2b95c54c02bcd9bb7257bac5a2",
            "placeholder": "​",
            "style": "IPY_MODEL_803db47d745b4ce79c0ff989ff67b5e6",
            "value": " 28.0/28.0 [00:00&lt;00:00, 1.18kB/s]"
          }
        },
        "1ae5fa802aa3469b964914f58c64a7a2": {
          "model_module": "@jupyter-widgets/base",
          "model_name": "LayoutModel",
          "model_module_version": "1.2.0",
          "state": {
            "_model_module": "@jupyter-widgets/base",
            "_model_module_version": "1.2.0",
            "_model_name": "LayoutModel",
            "_view_count": null,
            "_view_module": "@jupyter-widgets/base",
            "_view_module_version": "1.2.0",
            "_view_name": "LayoutView",
            "align_content": null,
            "align_items": null,
            "align_self": null,
            "border": null,
            "bottom": null,
            "display": null,
            "flex": null,
            "flex_flow": null,
            "grid_area": null,
            "grid_auto_columns": null,
            "grid_auto_flow": null,
            "grid_auto_rows": null,
            "grid_column": null,
            "grid_gap": null,
            "grid_row": null,
            "grid_template_areas": null,
            "grid_template_columns": null,
            "grid_template_rows": null,
            "height": null,
            "justify_content": null,
            "justify_items": null,
            "left": null,
            "margin": null,
            "max_height": null,
            "max_width": null,
            "min_height": null,
            "min_width": null,
            "object_fit": null,
            "object_position": null,
            "order": null,
            "overflow": null,
            "overflow_x": null,
            "overflow_y": null,
            "padding": null,
            "right": null,
            "top": null,
            "visibility": null,
            "width": null
          }
        },
        "736dc98074d34508b4d99aeaf50987d8": {
          "model_module": "@jupyter-widgets/base",
          "model_name": "LayoutModel",
          "model_module_version": "1.2.0",
          "state": {
            "_model_module": "@jupyter-widgets/base",
            "_model_module_version": "1.2.0",
            "_model_name": "LayoutModel",
            "_view_count": null,
            "_view_module": "@jupyter-widgets/base",
            "_view_module_version": "1.2.0",
            "_view_name": "LayoutView",
            "align_content": null,
            "align_items": null,
            "align_self": null,
            "border": null,
            "bottom": null,
            "display": null,
            "flex": null,
            "flex_flow": null,
            "grid_area": null,
            "grid_auto_columns": null,
            "grid_auto_flow": null,
            "grid_auto_rows": null,
            "grid_column": null,
            "grid_gap": null,
            "grid_row": null,
            "grid_template_areas": null,
            "grid_template_columns": null,
            "grid_template_rows": null,
            "height": null,
            "justify_content": null,
            "justify_items": null,
            "left": null,
            "margin": null,
            "max_height": null,
            "max_width": null,
            "min_height": null,
            "min_width": null,
            "object_fit": null,
            "object_position": null,
            "order": null,
            "overflow": null,
            "overflow_x": null,
            "overflow_y": null,
            "padding": null,
            "right": null,
            "top": null,
            "visibility": null,
            "width": null
          }
        },
        "c559b27358e2494dba00fa0fec0fd23c": {
          "model_module": "@jupyter-widgets/controls",
          "model_name": "DescriptionStyleModel",
          "model_module_version": "1.5.0",
          "state": {
            "_model_module": "@jupyter-widgets/controls",
            "_model_module_version": "1.5.0",
            "_model_name": "DescriptionStyleModel",
            "_view_count": null,
            "_view_module": "@jupyter-widgets/base",
            "_view_module_version": "1.2.0",
            "_view_name": "StyleView",
            "description_width": ""
          }
        },
        "949e3ef569684de7a1495f13af6ab651": {
          "model_module": "@jupyter-widgets/base",
          "model_name": "LayoutModel",
          "model_module_version": "1.2.0",
          "state": {
            "_model_module": "@jupyter-widgets/base",
            "_model_module_version": "1.2.0",
            "_model_name": "LayoutModel",
            "_view_count": null,
            "_view_module": "@jupyter-widgets/base",
            "_view_module_version": "1.2.0",
            "_view_name": "LayoutView",
            "align_content": null,
            "align_items": null,
            "align_self": null,
            "border": null,
            "bottom": null,
            "display": null,
            "flex": null,
            "flex_flow": null,
            "grid_area": null,
            "grid_auto_columns": null,
            "grid_auto_flow": null,
            "grid_auto_rows": null,
            "grid_column": null,
            "grid_gap": null,
            "grid_row": null,
            "grid_template_areas": null,
            "grid_template_columns": null,
            "grid_template_rows": null,
            "height": null,
            "justify_content": null,
            "justify_items": null,
            "left": null,
            "margin": null,
            "max_height": null,
            "max_width": null,
            "min_height": null,
            "min_width": null,
            "object_fit": null,
            "object_position": null,
            "order": null,
            "overflow": null,
            "overflow_x": null,
            "overflow_y": null,
            "padding": null,
            "right": null,
            "top": null,
            "visibility": null,
            "width": null
          }
        },
        "830bc40dfe9e4ff589fa9cf35c3d0512": {
          "model_module": "@jupyter-widgets/controls",
          "model_name": "ProgressStyleModel",
          "model_module_version": "1.5.0",
          "state": {
            "_model_module": "@jupyter-widgets/controls",
            "_model_module_version": "1.5.0",
            "_model_name": "ProgressStyleModel",
            "_view_count": null,
            "_view_module": "@jupyter-widgets/base",
            "_view_module_version": "1.2.0",
            "_view_name": "StyleView",
            "bar_color": null,
            "description_width": ""
          }
        },
        "5323fa2b95c54c02bcd9bb7257bac5a2": {
          "model_module": "@jupyter-widgets/base",
          "model_name": "LayoutModel",
          "model_module_version": "1.2.0",
          "state": {
            "_model_module": "@jupyter-widgets/base",
            "_model_module_version": "1.2.0",
            "_model_name": "LayoutModel",
            "_view_count": null,
            "_view_module": "@jupyter-widgets/base",
            "_view_module_version": "1.2.0",
            "_view_name": "LayoutView",
            "align_content": null,
            "align_items": null,
            "align_self": null,
            "border": null,
            "bottom": null,
            "display": null,
            "flex": null,
            "flex_flow": null,
            "grid_area": null,
            "grid_auto_columns": null,
            "grid_auto_flow": null,
            "grid_auto_rows": null,
            "grid_column": null,
            "grid_gap": null,
            "grid_row": null,
            "grid_template_areas": null,
            "grid_template_columns": null,
            "grid_template_rows": null,
            "height": null,
            "justify_content": null,
            "justify_items": null,
            "left": null,
            "margin": null,
            "max_height": null,
            "max_width": null,
            "min_height": null,
            "min_width": null,
            "object_fit": null,
            "object_position": null,
            "order": null,
            "overflow": null,
            "overflow_x": null,
            "overflow_y": null,
            "padding": null,
            "right": null,
            "top": null,
            "visibility": null,
            "width": null
          }
        },
        "803db47d745b4ce79c0ff989ff67b5e6": {
          "model_module": "@jupyter-widgets/controls",
          "model_name": "DescriptionStyleModel",
          "model_module_version": "1.5.0",
          "state": {
            "_model_module": "@jupyter-widgets/controls",
            "_model_module_version": "1.5.0",
            "_model_name": "DescriptionStyleModel",
            "_view_count": null,
            "_view_module": "@jupyter-widgets/base",
            "_view_module_version": "1.2.0",
            "_view_name": "StyleView",
            "description_width": ""
          }
        },
        "b1e6b0a38ca2440fa49cb5b5d5b40f92": {
          "model_module": "@jupyter-widgets/controls",
          "model_name": "HBoxModel",
          "model_module_version": "1.5.0",
          "state": {
            "_dom_classes": [],
            "_model_module": "@jupyter-widgets/controls",
            "_model_module_version": "1.5.0",
            "_model_name": "HBoxModel",
            "_view_count": null,
            "_view_module": "@jupyter-widgets/controls",
            "_view_module_version": "1.5.0",
            "_view_name": "HBoxView",
            "box_style": "",
            "children": [
              "IPY_MODEL_65766736b2344e6ead096401524394ab",
              "IPY_MODEL_28a66c486a1a45f19d5c9b6dbd7b9fe5",
              "IPY_MODEL_e733fd13f21741abac47e99ec1bf0004"
            ],
            "layout": "IPY_MODEL_92d73bac07a94c17829546d112a76189"
          }
        },
        "65766736b2344e6ead096401524394ab": {
          "model_module": "@jupyter-widgets/controls",
          "model_name": "HTMLModel",
          "model_module_version": "1.5.0",
          "state": {
            "_dom_classes": [],
            "_model_module": "@jupyter-widgets/controls",
            "_model_module_version": "1.5.0",
            "_model_name": "HTMLModel",
            "_view_count": null,
            "_view_module": "@jupyter-widgets/controls",
            "_view_module_version": "1.5.0",
            "_view_name": "HTMLView",
            "description": "",
            "description_tooltip": null,
            "layout": "IPY_MODEL_bd7e086d2c33480dae9129db16ead97c",
            "placeholder": "​",
            "style": "IPY_MODEL_059b6b2bb69e48c6933e2667b00cd9f9",
            "value": "Downloading: 100%"
          }
        },
        "28a66c486a1a45f19d5c9b6dbd7b9fe5": {
          "model_module": "@jupyter-widgets/controls",
          "model_name": "FloatProgressModel",
          "model_module_version": "1.5.0",
          "state": {
            "_dom_classes": [],
            "_model_module": "@jupyter-widgets/controls",
            "_model_module_version": "1.5.0",
            "_model_name": "FloatProgressModel",
            "_view_count": null,
            "_view_module": "@jupyter-widgets/controls",
            "_view_module_version": "1.5.0",
            "_view_name": "ProgressView",
            "bar_style": "success",
            "description": "",
            "description_tooltip": null,
            "layout": "IPY_MODEL_ec2e6b5d2ab5487c919f209a346ce0e6",
            "max": 337,
            "min": 0,
            "orientation": "horizontal",
            "style": "IPY_MODEL_39396c3c33ca4dafa9d348824f4c0fb1",
            "value": 337
          }
        },
        "e733fd13f21741abac47e99ec1bf0004": {
          "model_module": "@jupyter-widgets/controls",
          "model_name": "HTMLModel",
          "model_module_version": "1.5.0",
          "state": {
            "_dom_classes": [],
            "_model_module": "@jupyter-widgets/controls",
            "_model_module_version": "1.5.0",
            "_model_name": "HTMLModel",
            "_view_count": null,
            "_view_module": "@jupyter-widgets/controls",
            "_view_module_version": "1.5.0",
            "_view_name": "HTMLView",
            "description": "",
            "description_tooltip": null,
            "layout": "IPY_MODEL_617e2c6d1cb745ecaf9387b931a00a86",
            "placeholder": "​",
            "style": "IPY_MODEL_2f0323e6202e40dc84c7dd8a3210f2a8",
            "value": " 337/337 [00:00&lt;00:00, 12.3kB/s]"
          }
        },
        "92d73bac07a94c17829546d112a76189": {
          "model_module": "@jupyter-widgets/base",
          "model_name": "LayoutModel",
          "model_module_version": "1.2.0",
          "state": {
            "_model_module": "@jupyter-widgets/base",
            "_model_module_version": "1.2.0",
            "_model_name": "LayoutModel",
            "_view_count": null,
            "_view_module": "@jupyter-widgets/base",
            "_view_module_version": "1.2.0",
            "_view_name": "LayoutView",
            "align_content": null,
            "align_items": null,
            "align_self": null,
            "border": null,
            "bottom": null,
            "display": null,
            "flex": null,
            "flex_flow": null,
            "grid_area": null,
            "grid_auto_columns": null,
            "grid_auto_flow": null,
            "grid_auto_rows": null,
            "grid_column": null,
            "grid_gap": null,
            "grid_row": null,
            "grid_template_areas": null,
            "grid_template_columns": null,
            "grid_template_rows": null,
            "height": null,
            "justify_content": null,
            "justify_items": null,
            "left": null,
            "margin": null,
            "max_height": null,
            "max_width": null,
            "min_height": null,
            "min_width": null,
            "object_fit": null,
            "object_position": null,
            "order": null,
            "overflow": null,
            "overflow_x": null,
            "overflow_y": null,
            "padding": null,
            "right": null,
            "top": null,
            "visibility": null,
            "width": null
          }
        },
        "bd7e086d2c33480dae9129db16ead97c": {
          "model_module": "@jupyter-widgets/base",
          "model_name": "LayoutModel",
          "model_module_version": "1.2.0",
          "state": {
            "_model_module": "@jupyter-widgets/base",
            "_model_module_version": "1.2.0",
            "_model_name": "LayoutModel",
            "_view_count": null,
            "_view_module": "@jupyter-widgets/base",
            "_view_module_version": "1.2.0",
            "_view_name": "LayoutView",
            "align_content": null,
            "align_items": null,
            "align_self": null,
            "border": null,
            "bottom": null,
            "display": null,
            "flex": null,
            "flex_flow": null,
            "grid_area": null,
            "grid_auto_columns": null,
            "grid_auto_flow": null,
            "grid_auto_rows": null,
            "grid_column": null,
            "grid_gap": null,
            "grid_row": null,
            "grid_template_areas": null,
            "grid_template_columns": null,
            "grid_template_rows": null,
            "height": null,
            "justify_content": null,
            "justify_items": null,
            "left": null,
            "margin": null,
            "max_height": null,
            "max_width": null,
            "min_height": null,
            "min_width": null,
            "object_fit": null,
            "object_position": null,
            "order": null,
            "overflow": null,
            "overflow_x": null,
            "overflow_y": null,
            "padding": null,
            "right": null,
            "top": null,
            "visibility": null,
            "width": null
          }
        },
        "059b6b2bb69e48c6933e2667b00cd9f9": {
          "model_module": "@jupyter-widgets/controls",
          "model_name": "DescriptionStyleModel",
          "model_module_version": "1.5.0",
          "state": {
            "_model_module": "@jupyter-widgets/controls",
            "_model_module_version": "1.5.0",
            "_model_name": "DescriptionStyleModel",
            "_view_count": null,
            "_view_module": "@jupyter-widgets/base",
            "_view_module_version": "1.2.0",
            "_view_name": "StyleView",
            "description_width": ""
          }
        },
        "ec2e6b5d2ab5487c919f209a346ce0e6": {
          "model_module": "@jupyter-widgets/base",
          "model_name": "LayoutModel",
          "model_module_version": "1.2.0",
          "state": {
            "_model_module": "@jupyter-widgets/base",
            "_model_module_version": "1.2.0",
            "_model_name": "LayoutModel",
            "_view_count": null,
            "_view_module": "@jupyter-widgets/base",
            "_view_module_version": "1.2.0",
            "_view_name": "LayoutView",
            "align_content": null,
            "align_items": null,
            "align_self": null,
            "border": null,
            "bottom": null,
            "display": null,
            "flex": null,
            "flex_flow": null,
            "grid_area": null,
            "grid_auto_columns": null,
            "grid_auto_flow": null,
            "grid_auto_rows": null,
            "grid_column": null,
            "grid_gap": null,
            "grid_row": null,
            "grid_template_areas": null,
            "grid_template_columns": null,
            "grid_template_rows": null,
            "height": null,
            "justify_content": null,
            "justify_items": null,
            "left": null,
            "margin": null,
            "max_height": null,
            "max_width": null,
            "min_height": null,
            "min_width": null,
            "object_fit": null,
            "object_position": null,
            "order": null,
            "overflow": null,
            "overflow_x": null,
            "overflow_y": null,
            "padding": null,
            "right": null,
            "top": null,
            "visibility": null,
            "width": null
          }
        },
        "39396c3c33ca4dafa9d348824f4c0fb1": {
          "model_module": "@jupyter-widgets/controls",
          "model_name": "ProgressStyleModel",
          "model_module_version": "1.5.0",
          "state": {
            "_model_module": "@jupyter-widgets/controls",
            "_model_module_version": "1.5.0",
            "_model_name": "ProgressStyleModel",
            "_view_count": null,
            "_view_module": "@jupyter-widgets/base",
            "_view_module_version": "1.2.0",
            "_view_name": "StyleView",
            "bar_color": null,
            "description_width": ""
          }
        },
        "617e2c6d1cb745ecaf9387b931a00a86": {
          "model_module": "@jupyter-widgets/base",
          "model_name": "LayoutModel",
          "model_module_version": "1.2.0",
          "state": {
            "_model_module": "@jupyter-widgets/base",
            "_model_module_version": "1.2.0",
            "_model_name": "LayoutModel",
            "_view_count": null,
            "_view_module": "@jupyter-widgets/base",
            "_view_module_version": "1.2.0",
            "_view_name": "LayoutView",
            "align_content": null,
            "align_items": null,
            "align_self": null,
            "border": null,
            "bottom": null,
            "display": null,
            "flex": null,
            "flex_flow": null,
            "grid_area": null,
            "grid_auto_columns": null,
            "grid_auto_flow": null,
            "grid_auto_rows": null,
            "grid_column": null,
            "grid_gap": null,
            "grid_row": null,
            "grid_template_areas": null,
            "grid_template_columns": null,
            "grid_template_rows": null,
            "height": null,
            "justify_content": null,
            "justify_items": null,
            "left": null,
            "margin": null,
            "max_height": null,
            "max_width": null,
            "min_height": null,
            "min_width": null,
            "object_fit": null,
            "object_position": null,
            "order": null,
            "overflow": null,
            "overflow_x": null,
            "overflow_y": null,
            "padding": null,
            "right": null,
            "top": null,
            "visibility": null,
            "width": null
          }
        },
        "2f0323e6202e40dc84c7dd8a3210f2a8": {
          "model_module": "@jupyter-widgets/controls",
          "model_name": "DescriptionStyleModel",
          "model_module_version": "1.5.0",
          "state": {
            "_model_module": "@jupyter-widgets/controls",
            "_model_module_version": "1.5.0",
            "_model_name": "DescriptionStyleModel",
            "_view_count": null,
            "_view_module": "@jupyter-widgets/base",
            "_view_module_version": "1.2.0",
            "_view_name": "StyleView",
            "description_width": ""
          }
        }
      }
    }
  },
  "cells": [
    {
      "cell_type": "markdown",
      "metadata": {
        "id": "view-in-github",
        "colab_type": "text"
      },
      "source": [
        "<a href=\"https://colab.research.google.com/github/ttogle918/news_by_kobert/blob/master/MLM/BertForMaskedLM.ipynb\" target=\"_parent\"><img src=\"https://colab.research.google.com/assets/colab-badge.svg\" alt=\"Open In Colab\"/></a>"
      ]
    },
    {
      "cell_type": "markdown",
      "source": [
        "## 패키지 불러오기"
      ],
      "metadata": {
        "id": "RDgQ0Ci2oLdv"
      }
    },
    {
      "cell_type": "code",
      "execution_count": null,
      "metadata": {
        "id": "PBo7MmwznTlC"
      },
      "outputs": [],
      "source": [
        "!pip install sentencepiece transformers torch"
      ]
    },
    {
      "cell_type": "code",
      "source": [
        "!pip install seqeval\n",
        "!pip install torchtext pytorch-lightning\n",
        "!pip install git+https://git@github.com/SKTBrain/KoBERT.git@master"
      ],
      "metadata": {
        "id": "ZuTQYIoKnfOX"
      },
      "execution_count": null,
      "outputs": []
    },
    {
      "cell_type": "code",
      "source": [
        "!pip install sentence_transformers numpy scikit-learn scipy nltk tqdm"
      ],
      "metadata": {
        "id": "9s8Ng-j4ngCN"
      },
      "execution_count": null,
      "outputs": []
    },
    {
      "cell_type": "code",
      "source": [
        "import pytorch_lightning as pl\n",
        "pl.__version__"
      ],
      "metadata": {
        "colab": {
          "base_uri": "https://localhost:8080/",
          "height": 35
        },
        "id": "sImd1DXungxu",
        "outputId": "68d0e7c6-f67b-4e5e-c3ed-2c358e056951"
      },
      "execution_count": 1,
      "outputs": [
        {
          "output_type": "execute_result",
          "data": {
            "text/plain": [
              "'1.5.10'"
            ],
            "application/vnd.google.colaboratory.intrinsic+json": {
              "type": "string"
            }
          },
          "metadata": {},
          "execution_count": 1
        }
      ]
    },
    {
      "cell_type": "code",
      "source": [
        "import torch\n",
        "from torch import nn\n",
        "import torch.nn.functional as F\n",
        "from torch.utils.data import Dataset, DataLoader\n",
        "import numpy as np"
      ],
      "metadata": {
        "id": "tavlQ6eMnhzk"
      },
      "execution_count": 2,
      "outputs": []
    },
    {
      "cell_type": "code",
      "source": [
        "from transformers import BertConfig, AdamW\n",
        "from transformers import BertForMaskedLM\n",
        "from transformers import FillMaskPipeline\n",
        "from transformers import BertTokenizer, AutoTokenizer"
      ],
      "metadata": {
        "id": "Bzq9EiG2ni3Y"
      },
      "execution_count": 3,
      "outputs": []
    },
    {
      "cell_type": "code",
      "source": [
        "tokenizer = BertTokenizer.from_pretrained(config.bert_model)\n",
        "model = BertForMaskedLM.from_pretrained(config.bert_model)"
      ],
      "metadata": {
        "colab": {
          "base_uri": "https://localhost:8080/"
        },
        "id": "MNGgRgNGfbHw",
        "outputId": "b7988e2d-957d-45c6-e68b-02d6e719ca40"
      },
      "execution_count": 101,
      "outputs": [
        {
          "output_type": "stream",
          "name": "stderr",
          "text": [
            "Some weights of the model checkpoint at snunlp/KR-Medium were not used when initializing BertForMaskedLM: ['cls.seq_relationship.weight', 'cls.seq_relationship.bias']\n",
            "- This IS expected if you are initializing BertForMaskedLM from the checkpoint of a model trained on another task or with another architecture (e.g. initializing a BertForSequenceClassification model from a BertForPreTraining model).\n",
            "- This IS NOT expected if you are initializing BertForMaskedLM from the checkpoint of a model that you expect to be exactly identical (initializing a BertForSequenceClassification model from a BertForSequenceClassification model).\n"
          ]
        }
      ]
    },
    {
      "cell_type": "code",
      "source": [
        "inputs = tokenizer(\"축구는 정말 재미있는 [MASK]다.\", return_tensors=\"pt\")\n",
        "labels = tokenizer(\"축구는 정말 재미있는 스포츠다.\", return_tensors=\"pt\")[\"input_ids\"]"
      ],
      "metadata": {
        "id": "1K4mTSeUqRTq"
      },
      "execution_count": 102,
      "outputs": []
    },
    {
      "cell_type": "code",
      "source": [
        "outputs = model(**inputs, labels=labels)\n",
        "loss = outputs.loss\n",
        "logits = outputs.logits"
      ],
      "metadata": {
        "id": "xytpZeJYp0Te"
      },
      "execution_count": 103,
      "outputs": []
    },
    {
      "cell_type": "code",
      "source": [
        "outputs"
      ],
      "metadata": {
        "colab": {
          "base_uri": "https://localhost:8080/"
        },
        "id": "PY9zscBdqzId",
        "outputId": "b530792a-0de1-4ff0-b880-db321989fd47"
      },
      "execution_count": 110,
      "outputs": [
        {
          "output_type": "execute_result",
          "data": {
            "text/plain": [
              "MaskedLMOutput([('loss', tensor(3.2178, grad_fn=<NllLossBackward0>)),\n",
              "                ('logits',\n",
              "                 tensor([[[-5.4640,  1.0087, -3.7623,  ..., -4.1494, -4.8447, -5.1425],\n",
              "                          [-4.6789,  1.8529, -4.5086,  ..., -2.8888, -3.3678, -2.8439],\n",
              "                          [-7.7065,  1.0267, -6.0396,  ..., -5.3454, -8.1307, -5.2234],\n",
              "                          ...,\n",
              "                          [-6.4272, -0.8331, -6.3297,  ..., -4.2100, -4.5536, -6.1272],\n",
              "                          [-6.9698,  7.7743,  1.2039,  ..., -6.5364, -7.8356, -5.0088],\n",
              "                          [-5.1348,  0.8143, -3.9422,  ..., -3.2602, -5.2708, -3.5649]]],\n",
              "                        grad_fn=<AddBackward0>))])"
            ]
          },
          "metadata": {},
          "execution_count": 110
        }
      ]
    },
    {
      "cell_type": "code",
      "source": [
        "model(input_ids = inputs['input_ids'], attention_mask=inputs['attention_mask'], labels=labels)"
      ],
      "metadata": {
        "colab": {
          "base_uri": "https://localhost:8080/"
        },
        "id": "wOy2oc1MqeMi",
        "outputId": "8cf9e9a0-102d-43bf-a92a-3bae1f8b194e"
      },
      "execution_count": 109,
      "outputs": [
        {
          "output_type": "execute_result",
          "data": {
            "text/plain": [
              "MaskedLMOutput([('loss', tensor(3.2178, grad_fn=<NllLossBackward0>)),\n",
              "                ('logits',\n",
              "                 tensor([[[-5.4640,  1.0087, -3.7623,  ..., -4.1494, -4.8447, -5.1425],\n",
              "                          [-4.6789,  1.8529, -4.5086,  ..., -2.8888, -3.3678, -2.8439],\n",
              "                          [-7.7065,  1.0267, -6.0396,  ..., -5.3454, -8.1307, -5.2234],\n",
              "                          ...,\n",
              "                          [-6.4272, -0.8331, -6.3297,  ..., -4.2100, -4.5536, -6.1272],\n",
              "                          [-6.9698,  7.7743,  1.2039,  ..., -6.5364, -7.8356, -5.0088],\n",
              "                          [-5.1348,  0.8143, -3.9422,  ..., -3.2602, -5.2708, -3.5649]]],\n",
              "                        grad_fn=<AddBackward0>))])"
            ]
          },
          "metadata": {},
          "execution_count": 109
        }
      ]
    },
    {
      "cell_type": "code",
      "source": [
        "from transformers import FillMaskPipeline\n",
        "pip = FillMaskPipeline(model=model, tokenizer=tokenizer)\n",
        "pip('축구는 정말 재미있는 [MASK]다.')"
      ],
      "metadata": {
        "colab": {
          "base_uri": "https://localhost:8080/"
        },
        "id": "Vi6VctcSf9yo",
        "outputId": "0333f90f-1004-4b56-c7e8-8477c43e3612"
      },
      "execution_count": 54,
      "outputs": [
        {
          "output_type": "execute_result",
          "data": {
            "text/plain": [
              "[{'score': 0.3231074810028076,\n",
              "  'sequence': '축구는 정말 재미있는 스포츠 다.',\n",
              "  'token': 12302,\n",
              "  'token_str': '스 포 츠'},\n",
              " {'score': 0.2157781571149826,\n",
              "  'sequence': '축구는 정말 재미있는 경기 다.',\n",
              "  'token': 9195,\n",
              "  'token_str': '경 기'},\n",
              " {'score': 0.1995808333158493,\n",
              "  'sequence': '축구는 정말 재미있는 대회 다.',\n",
              "  'token': 11909,\n",
              "  'token_str': '대 회'},\n",
              " {'score': 0.04826343059539795,\n",
              "  'sequence': '축구는 정말 재미있는 축구 다.',\n",
              "  'token': 11062,\n",
              "  'token_str': '축 구'},\n",
              " {'score': 0.019712088629603386,\n",
              "  'sequence': \"축구는 정말 재미있는'다.\",\n",
              "  'token': 11,\n",
              "  'token_str': \"'\"}]"
            ]
          },
          "metadata": {},
          "execution_count": 54
        }
      ]
    },
    {
      "cell_type": "code",
      "source": [
        "pip(tokenizer.decode(torch.tensor([2,5,6,7,4,3])))"
      ],
      "metadata": {
        "colab": {
          "base_uri": "https://localhost:8080/"
        },
        "id": "y0yINGHYgJX7",
        "outputId": "81d62e94-019b-4d8a-d593-e7f78b7f62bd"
      },
      "execution_count": 58,
      "outputs": [
        {
          "output_type": "execute_result",
          "data": {
            "text/plain": [
              "[{'score': 0.45599833130836487,\n",
              "  'sequence': '! \" # \"',\n",
              "  'token': 6,\n",
              "  'token_str': '\"'},\n",
              " {'score': 0.040783338248729706,\n",
              "  'sequence': '! \" #!',\n",
              "  'token': 5,\n",
              "  'token_str': '!'},\n",
              " {'score': 0.021625056862831116,\n",
              "  'sequence': '! \" # 1',\n",
              "  'token': 21,\n",
              "  'token_str': '1'},\n",
              " {'score': 0.019090600311756134,\n",
              "  'sequence': '! \" #',\n",
              "  'token': 1,\n",
              "  'token_str': '[ U N K ]'},\n",
              " {'score': 0.018774133175611496,\n",
              "  'sequence': '! \" # 5',\n",
              "  'token': 25,\n",
              "  'token_str': '5'}]"
            ]
          },
          "metadata": {},
          "execution_count": 58
        }
      ]
    },
    {
      "cell_type": "code",
      "source": [
        "from tqdm import tqdm, tqdm_notebook\n",
        "from typing import Callable, List, Tuple\n",
        "from seqeval.metrics import accuracy_score"
      ],
      "metadata": {
        "id": "_BkaK8y1njyD"
      },
      "execution_count": 5,
      "outputs": []
    },
    {
      "cell_type": "code",
      "source": [
        "import torch\n",
        "# gpu 연산이 가능하면 'cuda:0', 아니면 'cpu' 출력\n",
        "device = torch.device(\"cuda:0\" if torch.cuda.is_available() else \"cpu\")\n",
        "device, torch.cuda.device_count()"
      ],
      "metadata": {
        "colab": {
          "base_uri": "https://localhost:8080/"
        },
        "id": "s5vgjyPpnk4m",
        "outputId": "efcd71ac-9e75-44d4-cbf3-f4a0828ec17d"
      },
      "execution_count": 6,
      "outputs": [
        {
          "output_type": "execute_result",
          "data": {
            "text/plain": [
              "(device(type='cuda', index=0), 1)"
            ]
          },
          "metadata": {},
          "execution_count": 6
        }
      ]
    },
    {
      "cell_type": "code",
      "source": [
        "import random\n",
        "# text가 7문장(다.로 끝나는 것)이라면 5 * 4 이하의 data가 나온다.(중복일 때 data가 줄어든다.)\n",
        "def text_splicing(text) :\n",
        "  text = text.replace('\\n', ' ').split('다.')\n",
        "  if text[-1].strip() == '':\n",
        "    text = text[:-1]\n",
        "  if len(text) < 2 :\n",
        "    return None\n",
        "  \n",
        "  before_text = text[0] + '다. '\n",
        "  content = []\n",
        "  for i, t in enumerate(text[1:-1]) :\n",
        "    t += '다. '\n",
        "    if len(content) >= 3 :\n",
        "      for j in range(-len(selected), 0) :\n",
        "        content[j][0] += t    # 다음문장 연결\n",
        "        content[j][0] = content[j][0].replace('  ', ' ').strip()\n",
        "        content[j][1] += t    # 다음문장 연결\n",
        "        content[j][1] = content[j][1].replace('  ', ' ').strip()\n",
        "    \n",
        "    div_space_t = t.strip().split()\n",
        "    if len(div_space_t) <= 4 :   # 문장이 4 단어 이하로 이루어져있다면 이전 문장에 덧붙이고 다음문장으로\n",
        "      before_text += t\n",
        "      continue\n",
        "\n",
        "    selected = []\n",
        "    \n",
        "    for i in range(3) :   # [MASK] 3문장\n",
        "      rd = random.randint(0, len(div_space_t)-2)\n",
        "      selected.append(rd)\n",
        "\n",
        "    selected = set(selected)    # 중복 제거\n",
        "    selected = list(selected)\n",
        "    \n",
        "    rd = random.randint(0, len(div_space_t)-3)    # [MASK] [MASK] ( 띄어쓰기로 단락 분리된 경우, 2단어) 1문장\n",
        "    selected.append(rd)   # 마지막 idx는 mask 두개\n",
        "    \n",
        "    for s in selected[:-1] :\n",
        "      label = before_text + t\n",
        "      sentence = before_text + ' '.join(div_space_t[:s]) + \" [MASK] \" + ' '.join(div_space_t[s+1:])\n",
        "      content.append([sentence, label])\n",
        "    \n",
        "    content.append([before_text + ' '.join(div_space_t[:s]) + \" [MASK] [MASK] \" + ' '.join(div_space_t[s+2:]), before_text+t])\n",
        "    # content[-1][1] = [div_space_t[rd], div_space_t[rd+1]]\n",
        "    before_text = t\n",
        "\n",
        "  for j in range(-len(selected), 0) :\n",
        "      content[j][0] += text[-1] + '다.'    # 다음문장 연결\n",
        "      content[j][1] += text[-1] + '다.'    # 다음문장 연결\n",
        "      content[j][0] = content[j][0].replace('  ', ' ').strip()\n",
        "      content[j][1] = content[j][1].replace('  ', ' ').strip()\n",
        "\n",
        "  return content"
      ],
      "metadata": {
        "id": "VAbuoRt8ow-f"
      },
      "execution_count": 7,
      "outputs": []
    },
    {
      "cell_type": "code",
      "source": [
        "from google.colab import drive\n",
        "\n",
        "drive.mount('/content/drive')\n",
        "data_path = '/content/drive/My Drive/Colab Notebooks/NextLab/news_class9x1400'"
      ],
      "metadata": {
        "colab": {
          "base_uri": "https://localhost:8080/"
        },
        "id": "3wntQA1QnnFa",
        "outputId": "8e60be8a-0319-4b93-a137-c0c158cdb2ad"
      },
      "execution_count": 8,
      "outputs": [
        {
          "output_type": "stream",
          "name": "stdout",
          "text": [
            "Mounted at /content/drive\n"
          ]
        }
      ]
    },
    {
      "cell_type": "code",
      "source": [
        "import os\n",
        "dataset = []\n",
        "for (path, dir, files) in os.walk(data_path):\n",
        "    for filename in files:\n",
        "        ext = os.path.splitext(filename)[-1]\n",
        "        if ext == '.txt':\n",
        "            with open(\"%s/%s\" % (path, filename), encoding=\"utf-8\") as f:\n",
        "              label = path[path.rindex('/')+1:]\n",
        "              text = f.read()\n",
        "              temp_list = text_splicing(text)\n",
        "              if temp_list is not None :\n",
        "                dataset.extend(temp_list)\n",
        "\n",
        "len(dataset), len(dataset[0])"
      ],
      "metadata": {
        "id": "-Bgm45L_npdP"
      },
      "execution_count": null,
      "outputs": []
    },
    {
      "cell_type": "code",
      "source": [
        "len(dataset), len(dataset[0])"
      ],
      "metadata": {
        "colab": {
          "base_uri": "https://localhost:8080/"
        },
        "id": "eFbBpVKXeNaj",
        "outputId": "411ed036-b674-4bfa-91ee-9ebb16be4d2e"
      },
      "execution_count": 10,
      "outputs": [
        {
          "output_type": "execute_result",
          "data": {
            "text/plain": [
              "(457443, 2)"
            ]
          },
          "metadata": {},
          "execution_count": 10
        }
      ]
    },
    {
      "cell_type": "code",
      "source": [
        "from sklearn.model_selection import train_test_split\n",
        "\n",
        "# Split Train and Validation data\n",
        "train, test = train_test_split(dataset[:1000], test_size=0.2, random_state=0, shuffle=True)\n",
        "train, val = train_test_split(train, test_size=0.2, random_state=0, shuffle=True)\n",
        "print(\"train :\", len(train), \"  val :\", len(val), \"  test :\", len(test))"
      ],
      "metadata": {
        "colab": {
          "base_uri": "https://localhost:8080/"
        },
        "id": "t3ySpA5onsde",
        "outputId": "ddbf04f1-3daf-4cc6-d9a3-a63fcd77b95f"
      },
      "execution_count": 11,
      "outputs": [
        {
          "output_type": "stream",
          "name": "stdout",
          "text": [
            "train : 640   val : 160   test : 200\n"
          ]
        }
      ]
    },
    {
      "cell_type": "code",
      "source": [
        "train[-1]"
      ],
      "metadata": {
        "colab": {
          "base_uri": "https://localhost:8080/"
        },
        "id": "S3tkKJt9nver",
        "outputId": "a41f6a52-e51b-48e8-ca51-b3f892601627"
      },
      "execution_count": 12,
      "outputs": [
        {
          "output_type": "execute_result",
          "data": {
            "text/plain": [
              "['왜 자신의 눈 속의 대들보는 보지 못하고 국민의 눈 속에 있는 티만 보려 하는가 말이다. 왜 검찰은 스스로의 잘못에 의해 자신들의 훌륭한 선후배들이 옷을 벗게 되었는데도 그 이유가 어디에 있는지 아직도 모른 채 [MASK] 낙마를 남의 탓으로 돌리고 있는지 알 수가 없다. 이명박 대통령도 말하지 않았는가? 다른 것은 몰라도 거짓말을 하는 것은 용납할 수 없다고 말이다.',\n",
              " '왜 자신의 눈 속의 대들보는 보지 못하고 국민의 눈 속에 있는 티만 보려 하는가 말이다. 왜 검찰은 스스로의 잘못에 의해 자신들의 훌륭한 선후배들이 옷을 벗게 되었는데도 그 이유가 어디에 있는지 아직도 모른 채 천성관의 낙마를 남의 탓으로 돌리고 있는지 알 수가 없다. 이명박 대통령도 말하지 않았는가? 다른 것은 몰라도 거짓말을 하는 것은 용납할 수 없다고 말이다.']"
            ]
          },
          "metadata": {},
          "execution_count": 12
        }
      ]
    },
    {
      "cell_type": "code",
      "source": [
        "del dataset\n",
        "del text"
      ],
      "metadata": {
        "id": "gzPu3l_Jntjl"
      },
      "execution_count": 13,
      "outputs": []
    },
    {
      "cell_type": "markdown",
      "source": [
        "## CorpusDataset"
      ],
      "metadata": {
        "id": "BECnT14Enxp5"
      }
    },
    {
      "cell_type": "code",
      "source": [
        "class CorpusDataset(Dataset):\n",
        "    def __init__(self, sentences, transform: Callable):\n",
        "        self.sentences = sentences\n",
        "        self.transform = transform\n",
        "\n",
        "    def __len__(self):\n",
        "        return len(self.sentences)\n",
        "\n",
        "    def __getitem__(self, idx):\n",
        "        sentence = self.sentences[idx][0]\n",
        "        label = self.sentences[idx][1]\n",
        "        (\n",
        "            input_ids,\n",
        "            attention_mask,\n",
        "            token_type_ids,\n",
        "            label, \n",
        "        ) = self.transform(sentence, label)\n",
        "\n",
        "        return input_ids, attention_mask, token_type_ids, label"
      ],
      "metadata": {
        "id": "Wv5lyaIWnz0i"
      },
      "execution_count": 14,
      "outputs": []
    },
    {
      "cell_type": "markdown",
      "source": [
        "## Preprocessor"
      ],
      "metadata": {
        "id": "OlQbnPqNn2pZ"
      }
    },
    {
      "cell_type": "code",
      "source": [
        "from typing import List, Tuple\n",
        "\n",
        "class Preprocessor :\n",
        "    def __init__(self, max_len: int):\n",
        "        self.tokenizer = BertTokenizer.from_pretrained(\"snunlp/KR-Medium\", do_lower_case=False)\n",
        "        self.max_len = max_len\n",
        "        self.pad_token_id = 0\n",
        "\n",
        "    def get_input_features(self, sentence, labels\n",
        "    ) -> Tuple[torch.Tensor, torch.Tensor, torch.Tensor, torch.Tensor]:\n",
        "        \"\"\"문장에 대해 tokenize한 뒤 id로 변환, token_type_ids는 의미없다.\n",
        "\n",
        "        Args:\n",
        "            sentence: mask가 포함된 문장\n",
        "            label : mask의 값\n",
        "\n",
        "        Returns:\n",
        "            feature를 리턴한다.\n",
        "            input_ids : mask가 있는 문장의 encode, 2 ..4... 3\n",
        "            attention_mask : padding은 0, 데이터가 존재하면 1\n",
        "            token_type_ids : 0... ( 한 문장 )\n",
        "            label : label 문장의 encode, 2, ... , 3\n",
        "        \"\"\"\n",
        "        input_ids = self.tokenizer.encode(sentence)\n",
        "        label = self.tokenizer.encode(labels)\n",
        "\n",
        "        find_mask_idx = input_ids.index(4)\n",
        "\n",
        "        if len(input_ids) < len(label) :\n",
        "          input_ids = input_ids[:find_mask_idx] + [4] * (len(label)-len(input_ids)) + input_ids[find_mask_idx:]    # input_ids가 다를 때 mask 추가 \n",
        "\n",
        "        if len(input_ids) > self.max_len :  # max_len = 128\n",
        "          # mask 위치를 찾아서 먼 곳부터 자르기? mask : 4\n",
        "          start = find_mask_idx - self.max_len//2\n",
        "          start = 0 if start < 0 else start\n",
        "          input_ids = input_ids[start:start+self.max_len]\n",
        "          label = label[start:start+self.max_len]\n",
        "\n",
        "\n",
        "        attention_mask = [1] * len(label)\n",
        "\n",
        "        pad_length = self.max_len-len(label)\n",
        "\n",
        "        input_ids.extend([0] * pad_length)\n",
        "        label.extend([0] * pad_length)\n",
        "        # token_type_ids.extend([0] * pad_length) # pad : 0\n",
        "\n",
        "        token_type_ids = [0]*self.max_len\n",
        "\n",
        "        # token_type_ids[find_mask_idx] = 1       # mask가 있는 idx에는 token_type_ids가 1이다. ( 문장 분리)\n",
        "        attention_mask.extend([0] * pad_length) # pad : 0\n",
        "\n",
        "        input_ids = torch.tensor(input_ids, dtype=torch.int)\n",
        "        attention_mask = torch.tensor(attention_mask, dtype=torch.int)\n",
        "        token_type_ids = torch.tensor(token_type_ids, dtype=torch.int)\n",
        "        label = torch.tensor(label, dtype=torch.int)\n",
        "\n",
        "        return input_ids, attention_mask, token_type_ids, label"
      ],
      "metadata": {
        "id": "ETocRxfAn2an"
      },
      "execution_count": 15,
      "outputs": []
    },
    {
      "cell_type": "markdown",
      "source": [
        "## BERTNextSentenceModel"
      ],
      "metadata": {
        "id": "0n3JIC0-n6re"
      }
    },
    {
      "cell_type": "code",
      "source": [
        "from math import log\n",
        "class BertOnlyNSPHead(pl.LightningModule):\n",
        "    def __init__(self, config):\n",
        "        super().__init__()\n",
        "        self.seq_relationship = nn.Linear(config.hidden_size, 2)\n",
        "\n",
        "    def forward(self, pooled_output):\n",
        "        seq_relationship_score = self.seq_relationship(pooled_output)\n",
        "        print(seq_relationship_score, len(seq_relationship_score))\n",
        "        return seq_relationship_score\n",
        "\n",
        "class mBertForMaskedLM(pl.LightningModule):\n",
        "    def __init__(self, config, dataset,  num_labels=2):\n",
        "        super().__init__()\n",
        "        self.config = config\n",
        "        self.dataset = dataset\n",
        "        self.pad_token_id = 0\n",
        "        self.softmax = torch.nn.Softmax()\n",
        "        self.bert_config = BertConfig.from_pretrained(\n",
        "            self.config.bert_model\n",
        "        )\n",
        "        self.model = BertForMaskedLM.from_pretrained(\n",
        "            self.config.bert_model, config=self.bert_config\n",
        "        ).cuda()\n",
        "        # self.tokenizer = AutoTokenizer.from_pretrained(self.config.bert_model, do_lower_case=False)\n",
        "        self.cls = BertOnlyNSPHead(config)\n",
        "        self.dropout = nn.Dropout(self.config.dropout_rate)\n",
        "        self.linear = nn.Linear(\n",
        "            self.bert_config.hidden_size, num_labels\n",
        "        )\n",
        "        # self.pipeline = FillMaskPipeline(self.model, self.tokenizer).cuda()\n",
        "\n",
        "    def forward(self,\n",
        "        input_ids=None, attention_mask=None, token_type_ids=None, position_ids=None,\n",
        "        head_mask=None, inputs_embeds=None, labels=None, output_attentions=None, output_hidden_states=None,\n",
        "        return_dict=None, **kwargs, ):\n",
        "        \"\"\"\n",
        "          self.model의 결과물 :  \n",
        "          \n",
        "          NextSentencePredictorOutput(\n",
        "            loss=next_sentence_loss,\n",
        "            logits=seq_relationship_scores,\n",
        "            hidden_states=outputs.hidden_states,\n",
        "            attentions=outputs.attentions,\n",
        "          )\n",
        "\n",
        "        \"\"\"\n",
        "        print(\"forward\")\n",
        "        print(labels)\n",
        "        output = self.model(input_ids=input_ids, attention_mask=attention_mask, labels=labels)\n",
        "        # probs = self.softmax(output.logits)\n",
        "        print(output)\n",
        "        return output\n",
        "\n",
        "    def training_step(self, batch, batch_nb):\n",
        "        print(\"training_step\")\n",
        "        input_ids, attention_mask, token_type_ids, label_ids = batch\n",
        "        loss = self(\n",
        "            input_ids=input_ids,\n",
        "            attention_mask=attention_mask,\n",
        "            token_type_ids=token_type_ids,\n",
        "            labels=label_ids,\n",
        "        )\n",
        "        print(\"loss\", loss)\n",
        "        # acc = self._calculate_accuracy(input_ids, label_ids)\n",
        "        loss = self._calculate_loss(loss)\n",
        "\n",
        "        tensorboard_logs = {'train_loss': loss}\n",
        "        return {\"loss\": loss, \"log\": tensorboard_logs}\n",
        "\n",
        "    def training_end(self, batch, batch_nb):\n",
        "        input_ids, attention_mask, token_type_ids, label_ids = batch\n",
        "\n",
        "        loss, logits = self(\n",
        "            input_ids=input_ids,\n",
        "            attention_mask=attention_mask,\n",
        "            token_type_ids=token_type_ids,\n",
        "        )\n",
        "        acc = self._calculate_accuracy(input_ids, label_ids)\n",
        "        loss = self._calculate_loss(loss)\n",
        "\n",
        "        tensorboard_logs = {'train_loss': loss}\n",
        "        print(\"training_end : \", tensorboard_logs)\n",
        "        return {\"loss\": loss, \"log\": tensorboard_logs}\n",
        "\n",
        "    def training_epoch_end(self, outputs):\n",
        "        super().on_train_epoch_end()\n",
        "        avg_loss = torch.stack([x['loss'] for x in outputs]).mean()\n",
        "        acc = torch.stack([x['acc'] for x in outputs]).mean()\n",
        "        tensorboard_logs = {'loss': avg_loss, 'acc': acc}\n",
        "        print('training_epoch_end : ', tensorboard_logs)\n",
        "        self.log(tensorboard_logs)\n",
        "        self.log(\"training_epoch_end : tensorboard_logs \", tensorboard_logs)\n",
        "\n",
        "    def validation_step(self, batch, batch_nb):\n",
        "        print(\"validation_step : \")\n",
        "      \n",
        "        input_ids, attention_mask, token_type_ids, label_ids = batch\n",
        "        output = self(\n",
        "            input_ids=input_ids,\n",
        "            attention_mask=attention_mask,\n",
        "            token_type_ids=token_type_ids,\n",
        "            labels = label_ids\n",
        "        )\n",
        "        loss = self._calculate_loss(output)\n",
        "        print(\"loss\", loss)\n",
        "\n",
        "        # val_acc = self._calculate_accuracy(input_ids, label_ids)\n",
        "\n",
        "        return {\"val_loss\": loss}\n",
        "\n",
        "    def validation_epoch_end(self, outputs):\n",
        "        print(outputs)\n",
        "        avg_loss = torch.stack([x['val_loss'] for x in outputs]).mean()\n",
        "        # val_acc = torch.stack([x['val_acc'] for x in outputs]).mean()\n",
        "        tensorboard_logs = {'val_loss': avg_loss}\n",
        "        print('validation_epoch_end : ', tensorboard_logs)\n",
        "        self.log(tensorboard_logs)\n",
        "        return {'val_loss': avg_loss, 'log': tensorboard_logs}\n",
        "    \n",
        "    def validation_end(self, outputs):\n",
        "        val_loss = torch.stack([x[\"val_loss\"] for x in outputs]).mean()\n",
        "        # val_acc = torch.stack([x[\"val_acc\"] for x in outputs]).mean()\n",
        "        tensorboard_logs = {\"val_loss\": val_loss }\n",
        "        return {'val_loss': val_loss, 'log': tensorboard_logs}\n",
        "    \n",
        "    def test_step(self, batch, batch_nb):\n",
        "        input_ids, attention_mask, token_type_ids, label_ids = batch\n",
        "        loss = self(\n",
        "            input_ids=input_ids,\n",
        "            attention_mask=attention_mask,\n",
        "            token_type_ids=token_type_ids,\n",
        "        )\n",
        "        # acc = self._calculate_accuracy(input_ids, label_ids)\n",
        "        loss = self._calculate_loss(loss)\n",
        "\n",
        "        return {\"test_loss\": loss}\n",
        "\n",
        "    def test_end(self, outputs):\n",
        "        test_loss = torch.stack([x[\"test_loss\"] for x in outputs]).mean()\n",
        "        # test_acc = torch.stack([x[\"test_acc\"] for x in outputs]).mean()\n",
        "        return {\"labels\" : [x[\"labels\"] for x in outputs], \"test_loss\": test_loss}\n",
        "    \n",
        "    def test_epoch_end(self, outputs):\n",
        "        avg_loss = torch.stack([x['test_loss'] for x in outputs]).mean()\n",
        "        # acc = torch.stack([x['test_acc'] for x in outputs]).mean()\n",
        "        tensorboard_logs = {'test_loss': avg_loss}\n",
        "        print('test_epoch_end : ', tensorboard_logs)\n",
        "        self.log(tensorboard_logs)\n",
        "        return {'test_loss': avg_loss, 'log': tensorboard_logs}\n",
        "\n",
        "    def predict_step(self, batch, batch_idx, dataloader_idx=0):   # prediction : forward(), predict_step()\n",
        "        input_ids, attention_mask, token_type_ids, _ = batch    # slot_label은 없음.\n",
        "        loss = self(\n",
        "            input_ids=input_ids,\n",
        "            attention_mask=attention_mask,\n",
        "            token_type_ids=token_type_ids,\n",
        "        )\n",
        "        return {'pred_labels':loss}\n",
        "\n",
        "    def configure_optimizers(self):\n",
        "        return AdamW(self.model.parameters(), lr=2e-5, eps=1e-8)\n",
        "\n",
        "    def train_dataloader(self):\n",
        "        return DataLoader(self.dataset[\"train\"], batch_size=self.config.eval_batch_size)\n",
        "\n",
        "    def val_dataloader(self):\n",
        "        return DataLoader(self.dataset[\"val\"], batch_size=self.config.eval_batch_size)\n",
        "\n",
        "    def test_dataloader(self):\n",
        "        return DataLoader(self.dataset[\"test\"], batch_size=self.config.eval_batch_size)\n",
        "\n",
        "    def pred_dataloader(self, dataset):\n",
        "        return DataLoader(dataset, batch_size=1)\n",
        "\n",
        "    def _calculate_loss(self, outputs):   # 확률에서 얼마나 떨어져있는가?\n",
        "        # loss = F.cross_entropy(outputs, labels)\n",
        "\n",
        "        return outputs.loss\n",
        "\n",
        "    def pipelining(self, input_id) :\n",
        "        return self.tokenizer.decode(input_id)\n",
        "\n",
        "    def _calculate_accuracy(self, input_ids, label_ids):   # 0.5보다 크면 1, 아니면 0으로 labeling\n",
        "        acc_sum = 0\n",
        "        batch_size = 0\n",
        "        for input_id, label_id in zip(input_ids, label_ids) :\n",
        "          batch_size += 1\n",
        "          result = self.pipeline(self.pipelining(input_id), top_k = 10)\n",
        "\n",
        "          mask_idx=(input_id == 4).nonzero(as_tuple=True)[0]   # input_id.index(4) tensor버전\n",
        "          mini_sum = 0\n",
        "          for i, m in enumerate(mask_idx) :\n",
        "            if len(mask_idx) == 1 :\n",
        "              for r in result :   # result[0]이 dict라면\n",
        "                if r['token'] == label_id[m].int() :\n",
        "                  acc_sum += 1   # 일부를 맞췄다면 그 비율만큼 정확도 더하기\n",
        "                  break\n",
        "            else :\n",
        "              for r in result[i] :\n",
        "                # if type(r) != dict :\n",
        "                #   print(type(r), r, result[i], result)\n",
        "\n",
        "                #   break\n",
        "                if r['token'] == label_id[m].int() :\n",
        "                  mini_sum += 1   # 일부를 맞췄다면 그 비율만큼 정확도 더하기\n",
        "                  break\n",
        "              acc_sum += mini_sum / len(mask_idx)\n",
        "        return acc_sum / batch_size"
      ],
      "metadata": {
        "id": "h0C7uajFn693"
      },
      "execution_count": 132,
      "outputs": []
    },
    {
      "cell_type": "markdown",
      "source": [
        "## Config"
      ],
      "metadata": {
        "id": "LBL0Eja4hdQO"
      }
    },
    {
      "cell_type": "code",
      "source": [
        "# yaml 파일 대신에 객체로 생성\n",
        "class Config(BertConfig):\n",
        "  def __init__(self) :\n",
        "    super().__init__()\n",
        "    self.task= 'kor_BertForMaskedLM_'\n",
        "    self.log_path= data_path+'/logs'\n",
        "    self.bert_model = \"snunlp/KR-Medium\"\n",
        "    self.max_len= 128\n",
        "    self.train_batch_size= 64\n",
        "    self.eval_batch_size= 64\n",
        "    self.dropout_rate= 0.1\n",
        "    self.gpus= torch.cuda.device_count()\n",
        "config = Config()"
      ],
      "metadata": {
        "id": "4y5zpYx-gmYy"
      },
      "execution_count": 17,
      "outputs": []
    },
    {
      "cell_type": "markdown",
      "source": [
        "## Train"
      ],
      "metadata": {
        "id": "EZhn7ruDheps"
      }
    },
    {
      "cell_type": "code",
      "source": [
        "preprocessor = Preprocessor(config.max_len)"
      ],
      "metadata": {
        "colab": {
          "base_uri": "https://localhost:8080/",
          "height": 141,
          "referenced_widgets": [
            "9f4a7155303e44d48e27bdb1a531292b",
            "3a6104b2a95d47aa9aa783555203c585",
            "f566e42b073f427e996f5f3c1478207b",
            "f214f09113904b249ecf5e5be12d17bc",
            "403c145a3bfb43c5b10601e14a4c1e85",
            "dc396fc8dd93408da34d6dc129130e76",
            "c7c490e1410e4b7daeaf84056d4bbc4c",
            "25238f3270e8401c9163ac849c62da83",
            "2aa5b88ae0964a33ab8c5e7a7978fe5e",
            "fee6a6ba0dc14c619bb1dd6f32731c11",
            "dd37bcc790b644cf875149bc509fd206",
            "c1ad6aaa31df4b6189a53e19173d82c9",
            "136812fd25ca46a0a3eb3690fdd62127",
            "b95e2d3378ac4c9386259e788e6b11a2",
            "ae65418b4ada49c69d414d85599e0d36",
            "1ae5fa802aa3469b964914f58c64a7a2",
            "736dc98074d34508b4d99aeaf50987d8",
            "c559b27358e2494dba00fa0fec0fd23c",
            "949e3ef569684de7a1495f13af6ab651",
            "830bc40dfe9e4ff589fa9cf35c3d0512",
            "5323fa2b95c54c02bcd9bb7257bac5a2",
            "803db47d745b4ce79c0ff989ff67b5e6",
            "b1e6b0a38ca2440fa49cb5b5d5b40f92",
            "65766736b2344e6ead096401524394ab",
            "28a66c486a1a45f19d5c9b6dbd7b9fe5",
            "e733fd13f21741abac47e99ec1bf0004",
            "92d73bac07a94c17829546d112a76189",
            "bd7e086d2c33480dae9129db16ead97c",
            "059b6b2bb69e48c6933e2667b00cd9f9",
            "ec2e6b5d2ab5487c919f209a346ce0e6",
            "39396c3c33ca4dafa9d348824f4c0fb1",
            "617e2c6d1cb745ecaf9387b931a00a86",
            "2f0323e6202e40dc84c7dd8a3210f2a8"
          ]
        },
        "id": "UO8JK3wPhiO6",
        "outputId": "820764f3-a641-4aaf-de44-bedaaf42e977"
      },
      "execution_count": 18,
      "outputs": [
        {
          "output_type": "display_data",
          "data": {
            "text/plain": [
              "Downloading:   0%|          | 0.00/140k [00:00<?, ?B/s]"
            ],
            "application/vnd.jupyter.widget-view+json": {
              "version_major": 2,
              "version_minor": 0,
              "model_id": "9f4a7155303e44d48e27bdb1a531292b"
            }
          },
          "metadata": {}
        },
        {
          "output_type": "display_data",
          "data": {
            "text/plain": [
              "Downloading:   0%|          | 0.00/28.0 [00:00<?, ?B/s]"
            ],
            "application/vnd.jupyter.widget-view+json": {
              "version_major": 2,
              "version_minor": 0,
              "model_id": "c1ad6aaa31df4b6189a53e19173d82c9"
            }
          },
          "metadata": {}
        },
        {
          "output_type": "display_data",
          "data": {
            "text/plain": [
              "Downloading:   0%|          | 0.00/337 [00:00<?, ?B/s]"
            ],
            "application/vnd.jupyter.widget-view+json": {
              "version_major": 2,
              "version_minor": 0,
              "model_id": "b1e6b0a38ca2440fa49cb5b5d5b40f92"
            }
          },
          "metadata": {}
        }
      ]
    },
    {
      "cell_type": "code",
      "source": [
        "dataset = {}\n",
        "dataset['train'] = CorpusDataset(train, preprocessor.get_input_features)\n",
        "dataset['val'] = CorpusDataset(val, preprocessor.get_input_features)\n",
        "dataset['test'] = CorpusDataset(test, preprocessor.get_input_features)"
      ],
      "metadata": {
        "id": "I8INkj0nhg7B"
      },
      "execution_count": 19,
      "outputs": []
    },
    {
      "cell_type": "code",
      "source": [
        "dataset['train']"
      ],
      "metadata": {
        "colab": {
          "base_uri": "https://localhost:8080/"
        },
        "id": "USLXFWpNwpGW",
        "outputId": "cf9a892d-55cc-4604-cc21-f1b3fa0ca526"
      },
      "execution_count": 107,
      "outputs": [
        {
          "output_type": "execute_result",
          "data": {
            "text/plain": [
              "<__main__.CorpusDataset at 0x7f8f32975dd0>"
            ]
          },
          "metadata": {},
          "execution_count": 107
        }
      ]
    },
    {
      "cell_type": "code",
      "source": [
        "print(\"train\")\n",
        "for i, d in enumerate(dataset['train']) :\n",
        "  if len(d[0]) == len(d[1]) == len(d[2]) == len(d[3]) == 128 :\n",
        "    pass\n",
        "  else :\n",
        "    print(i, len(d[0]), len(d[1]), len(d[2]), len(d[3]))\n",
        "print(\"val\")\n",
        "for i, d in enumerate(dataset['val']) :\n",
        "  if len(d[0]) == len(d[1]) == len(d[2]) == len(d[3]) == 128 :\n",
        "    pass\n",
        "  else :\n",
        "    print(i, len(d[0]), len(d[1]), len(d[2]), len(d[3]))\n",
        "\n",
        "print(\"test\")\n",
        "for i, d in enumerate(dataset['test']) :\n",
        "  if len(d[0]) == len(d[1]) == len(d[2]) == len(d[3]) == 128 :\n",
        "    pass\n",
        "  else :\n",
        "    print(i, len(d[0]), len(d[1]), len(d[2]), len(d[3]))"
      ],
      "metadata": {
        "colab": {
          "base_uri": "https://localhost:8080/"
        },
        "id": "IeYDE-5AnPus",
        "outputId": "a646ce21-b031-42dd-cdcf-256596c16fe5"
      },
      "execution_count": 21,
      "outputs": [
        {
          "output_type": "stream",
          "name": "stdout",
          "text": [
            "train\n",
            "val\n",
            "test\n"
          ]
        }
      ]
    },
    {
      "cell_type": "code",
      "source": [
        "import gc\n",
        "gc.collect()"
      ],
      "metadata": {
        "colab": {
          "base_uri": "https://localhost:8080/"
        },
        "id": "0WxvSQZZhu0i",
        "outputId": "2c6c3daf-a505-431c-c6de-78e57a2b314b"
      },
      "execution_count": 22,
      "outputs": [
        {
          "output_type": "execute_result",
          "data": {
            "text/plain": [
              "54"
            ]
          },
          "metadata": {},
          "execution_count": 22
        }
      ]
    },
    {
      "cell_type": "code",
      "source": [
        "model = mBertForMaskedLM(config, dataset).cuda()"
      ],
      "metadata": {
        "colab": {
          "base_uri": "https://localhost:8080/"
        },
        "id": "wNEuq22phwgd",
        "outputId": "2dee5213-2f10-4ddf-b78e-0d1444f6b402"
      },
      "execution_count": 133,
      "outputs": [
        {
          "output_type": "stream",
          "name": "stderr",
          "text": [
            "Some weights of the model checkpoint at snunlp/KR-Medium were not used when initializing BertForMaskedLM: ['cls.seq_relationship.weight', 'cls.seq_relationship.bias']\n",
            "- This IS expected if you are initializing BertForMaskedLM from the checkpoint of a model trained on another task or with another architecture (e.g. initializing a BertForSequenceClassification model from a BertForPreTraining model).\n",
            "- This IS NOT expected if you are initializing BertForMaskedLM from the checkpoint of a model that you expect to be exactly identical (initializing a BertForSequenceClassification model from a BertForSequenceClassification model).\n"
          ]
        }
      ]
    },
    {
      "cell_type": "code",
      "source": [
        "from pytorch_lightning.loggers import TensorBoardLogger\n",
        "from pytorch_lightning.callbacks.model_checkpoint import ModelCheckpoint\n",
        "from pytorch_lightning.callbacks import LearningRateMonitor\n",
        "\n",
        "logger = TensorBoardLogger(\n",
        "    save_dir=os.path.join(config.log_path, config.task), version=1, name=config.task\n",
        ")\n",
        "\n",
        "acc_checkpoint_callback = ModelCheckpoint(\n",
        "    dirpath=data_path+'/MLM/checkpoints/'+ config.task, \n",
        "    filename=\"{epoch}_{val_acc:4f}_{val_loss:.4f}\",\n",
        "    verbose=True,\n",
        "    monitor='val_acc',\n",
        "    mode='max',\n",
        "    save_top_k=1,\n",
        "    save_last=True)\n",
        "\n",
        "lrmonitor_callback = LearningRateMonitor(logging_interval='step')"
      ],
      "metadata": {
        "id": "cLt_TncXh3h0"
      },
      "execution_count": 134,
      "outputs": []
    },
    {
      "cell_type": "code",
      "source": [
        "import gc\n",
        "gc.collect()"
      ],
      "metadata": {
        "colab": {
          "base_uri": "https://localhost:8080/",
          "height": 35
        },
        "id": "KJHwxtFdh8N3",
        "outputId": "67791d70-546a-49bf-9927-87f03500080e"
      },
      "execution_count": 135,
      "outputs": [
        {
          "output_type": "execute_result",
          "data": {
            "text/plain": [
              "3758"
            ]
          },
          "metadata": {},
          "execution_count": 135
        }
      ]
    },
    {
      "cell_type": "code",
      "source": [
        "trainer = pl.Trainer(\n",
        "    gpus=config.gpus,\n",
        "    callbacks=[acc_checkpoint_callback, lrmonitor_callback],\n",
        "    logger=logger,\n",
        "    max_epochs=1,\n",
        ")\n",
        "\n",
        "trainer.fit(model)\n",
        "\n",
        "# RuntimeError: \"nll_loss_forward_reduce_cuda_kernel_2d_index\" not implemented for 'Int'"
      ],
      "metadata": {
        "id": "9cHHBdP6h6Lj"
      },
      "execution_count": null,
      "outputs": []
    },
    {
      "cell_type": "code",
      "source": [
        ""
      ],
      "metadata": {
        "id": "YSxedbl4c6Zb"
      },
      "execution_count": null,
      "outputs": []
    }
  ]
}